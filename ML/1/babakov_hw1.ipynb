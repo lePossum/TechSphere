{
 "cells": [
  {
   "cell_type": "markdown",
   "metadata": {},
   "source": [
    "**Общая информация**\n",
    "\n",
    "**Срок сдачи:** 18 октября 2017, 06:00 <br\\>\n",
    "**Штраф за опоздание:** -2 балла после 06:00 18 октября, -4 балла после 06:00 25 октября, -6 баллов после 06:00 1 ноября\n",
    "\n",
    "При отправлении ДЗ указывайте фамилию в названии файла\n",
    "Присылать ДЗ необходимо в виде ссылки на свой github репозиторий в slack @alkhamush\n",
    "\n",
    "Необходимо в slack создать таск в приватный чат:\n",
    "/todo Фамилия Имя ссылка на гитхаб @alkhamush\n",
    "Пример:\n",
    "/todo Ксения Стройкова https://github.com/stroykova/spheremailru/stroykova_hw1.ipynb @alkhamush\n",
    "Дополнительно нужно просто скинуть ссылку в slack в личный чат\n",
    "\n",
    "Используйте данный Ipython Notebook при оформлении домашнего задания."
   ]
  },
  {
   "cell_type": "markdown",
   "metadata": {},
   "source": [
    "###### Задание 1 (2 баллов)\n",
    "Реализовать KNN в классе MyKNeighborsClassifier (обязательное условие: точность не ниже sklearn реализации)\n",
    "Разберитесь самостоятельно, какая мера расстояния используется в KNeighborsClassifier дефолтно и реализуйте свой алгоритм именно с этой мерой. Самостоятельно разберитесь, как считается score из KNeighborsClassifier и реализуйте аналог в своём классе. Score не должен уступать значению KNN из sklearn\n",
    "\n",
    "###### Задание 2 (2 балла)\n",
    "Добиться скорости работы на fit,  predict и predict_proba сравнимой со sklearn для iris и mnist\n",
    "Для этого используем numpy\n",
    "\n",
    "###### Задание 3 (2 балла)\n",
    "Для iris найдите такой параметр n_neighbors, при котором выдаётся наилучший score. Нарисуйте график зависимости score от n_neighbors\n",
    "\n",
    "###### Задание 4 (3 балла)\n",
    "Добавить algorithm='kd_tree' в реализацию KNN (использовать KDTree из sklearn.neighbors). Значение n_neighbors нужно взять из задания 3. Добиться скорости работы на fit,  predict и predict_proba сравнимой со sklearn для iris и mnist\n",
    "Для этого используем numpy. Score не должен уступать значению KNN из sklearn\n",
    "\n",
    "###### Задание 5 (1 балла)\n",
    "Описать для чего нужны следующие библиотеки/классы/функции (список будет ниже)\n",
    "\n",
    "**Штрафные баллы:**\n",
    "\n",
    "1. Невыполнение PEP8 -1 балл\n",
    "2. Отсутствие фамилии в имени скрипта (скрипт должен называться по аналогии со stroykova_hw1.ipynb) -1 балл\n",
    "3. Все строчки должны быть выполнены. Нужно, чтобы output команды можно было увидеть уже в git'е. В противном случае -1 балл\n",
    "4. При оформлении ДЗ нужно пользоваться данным файлом в качестве шаблона. Не нужно удалять и видоизменять структуру кода и текст. В противном случае -1 балл\n"
   ]
  },
  {
   "cell_type": "code",
   "execution_count": 1,
   "metadata": {},
   "outputs": [],
   "source": [
    "import numpy as np\n",
    "import matplotlib.pyplot as plt\n",
    "\n",
    "import seaborn as sns\n",
    "import sklearn.metrics\n",
    "import collections\n",
    "from scipy import stats\n",
    "from sklearn import datasets\n",
    "from sklearn.base import ClassifierMixin\n",
    "from sklearn.datasets import fetch_mldata\n",
    "from sklearn.neighbors.base import NeighborsBase, KNeighborsMixin, SupervisedIntegerMixin \n",
    "from sklearn.model_selection import train_test_split\n",
    "from sklearn.neighbors import KNeighborsClassifier, KDTree\n",
    "%load_ext pycodestyle_magic"
   ]
  },
  {
   "cell_type": "code",
   "execution_count": 2,
   "metadata": {},
   "outputs": [],
   "source": [
    "%%pycodestyle\n",
    "\n",
    "\n",
    "class MyKNeighborsClassifier(NeighborsBase, KNeighborsMixin,\n",
    "                             SupervisedIntegerMixin, ClassifierMixin):\n",
    "\n",
    "    def __init__(self, n_neighbors, algorithm='brute'):\n",
    "        self.n_neighbors = n_neighbors\n",
    "        self.algorithm = algorithm\n",
    "\n",
    "    def fit(self, X, y):\n",
    "        import copy\n",
    "        self.X_train = copy.deepcopy(X)\n",
    "        self.y_train = copy.deepcopy(y)\n",
    "        self.classes_amount = list(collections.Counter(self.y_train)).__len__()\n",
    "        if self.algorithm == 'kd_tree':\n",
    "            self.tree = KDTree(self.X_train, leaf_size=30)\n",
    "\n",
    "    def predict(self, X):\n",
    "        if self.algorithm == 'brute':\n",
    "            return self.predict_brute(X)\n",
    "        elif self.algorithm == 'kd_tree':\n",
    "            return self.predict_kdtree(X)\n",
    "\n",
    "    def predict_brute(self, X_test):\n",
    "        prediction_size = X_test.shape[0]\n",
    "        distance_matrix = sklearn.metrics.pairwise_distances(X_test,\n",
    "                                                             self.X_train)\n",
    "        close_elements = np.argpartition(distance_matrix,\n",
    "                                         (range(self.n_neighbors))\n",
    "                                         )[:, :self.n_neighbors]\n",
    "        close_class = y_train[close_elements]\n",
    "        class_matrix = np.zeros(prediction_size)\n",
    "        for elem in range(prediction_size):\n",
    "            class_matrix[elem] = collections.Counter(\n",
    "                                    close_class[elem]).most_common(1)[0][0]\n",
    "        return class_matrix.astype('int32')\n",
    "\n",
    "    def predict_kdtree(self, X):\n",
    "        X = X.astype(float)\n",
    "        _, a = self.tree.query(X, k=self.n_neighbors)\n",
    "        predicted = self.y_train[a].T\n",
    "        return stats.mode(predicted)[0].reshape(-1)\n",
    "\n",
    "    def predict_proba(self, X):\n",
    "        if self.algorithm == 'brute':\n",
    "            return self.predict_proba_brute(X)\n",
    "        elif self.algorithm == 'kd_tree':\n",
    "            return self.predict_proba_kdtree(X)\n",
    "\n",
    "    def predict_proba_brute(self, X_test):\n",
    "        X_test = X_test.astype(float)\n",
    "        distance_matrix = np.matmul(X_test, self.X_train.T)\n",
    "        Test_sqr = ((X_test ** 2).sum(axis=1)).reshape(-1, 1)\n",
    "        Train_sqr = ((self.X_train ** 2).sum(axis=1)).reshape(1, -1)\n",
    "        final_dist = Test_sqr - 2 * distance_matrix + Train_sqr\n",
    "        predicted = self.y_train[np.argsort(final_dist)[:, :self.n_neighbors]]\n",
    "        res_matrix = np.zeros((predicted.shape[0], self.classes_amount))\n",
    "        for i in range(predicted.shape[0]):\n",
    "            c = collections.Counter(predicted[i])\n",
    "            res_matrix[i] = [float(c[j])/self.n_neighbors for j in\n",
    "                             range(self.classes_amount)]\n",
    "        return res_matrix\n",
    "\n",
    "    def predict_proba_kdtree(self, X):\n",
    "        X = X.astype(float)\n",
    "        _, a = self.tree.query(X, k=self.n_neighbors)\n",
    "        res_matrix = np.zeros((np.shape(X)[0], self.classes_amount))\n",
    "        for i in range(a.shape[0]):\n",
    "            for j in a[i]:\n",
    "                res_matrix[i][int(self.y_train[j])] += 1\n",
    "        return res_matrix / self.n_neighbors\n",
    "\n",
    "    def score(self, X, y):\n",
    "        return np.average(y == self.predict(X))"
   ]
  },
  {
   "cell_type": "code",
   "execution_count": 3,
   "metadata": {},
   "outputs": [],
   "source": [
    "#Добавлен второй блок, чтобы показать, что код соответствует PEP8,\n",
    "#потому что блок, содержаший %%pycodestyle, не считается выполненным(?)\n",
    "class MyKNeighborsClassifier(NeighborsBase, KNeighborsMixin,\n",
    "                             SupervisedIntegerMixin, ClassifierMixin):\n",
    "\n",
    "    def __init__(self, n_neighbors, algorithm='brute'):\n",
    "        self.n_neighbors = n_neighbors\n",
    "        self.algorithm = algorithm\n",
    "\n",
    "    def fit(self, X, y):\n",
    "        import copy\n",
    "        self.X_train = copy.deepcopy(X)\n",
    "        self.y_train = copy.deepcopy(y)\n",
    "        self.classes_amount = list(collections.Counter(self.y_train)).__len__()\n",
    "        if self.algorithm == 'kd_tree':\n",
    "            self.tree = KDTree(self.X_train, leaf_size=30)\n",
    "\n",
    "    def predict(self, X):\n",
    "        if self.algorithm == 'brute':\n",
    "            return self.predict_brute(X)\n",
    "        elif self.algorithm == 'kd_tree':\n",
    "            return self.predict_kdtree(X)\n",
    "\n",
    "    def predict_brute(self, X_test):\n",
    "        prediction_size = X_test.shape[0]\n",
    "        distance_matrix = sklearn.metrics.pairwise_distances(X_test,\n",
    "                                                             self.X_train)\n",
    "        close_elements = np.argpartition(distance_matrix,\n",
    "                                         (range(self.n_neighbors))\n",
    "                                         )[:, :self.n_neighbors]\n",
    "        close_class = y_train[close_elements]\n",
    "        class_matrix = np.zeros(prediction_size)\n",
    "        for elem in range(prediction_size):\n",
    "            class_matrix[elem] = collections.Counter(\n",
    "                                    close_class[elem]).most_common(1)[0][0]\n",
    "        return class_matrix.astype('int32')\n",
    "\n",
    "    def predict_kdtree(self, X):\n",
    "        X = X.astype(float)\n",
    "        _, a = self.tree.query(X, k=self.n_neighbors)\n",
    "        predicted = self.y_train[a].T\n",
    "        return stats.mode(predicted)[0].reshape(-1)\n",
    "\n",
    "    def predict_proba(self, X):\n",
    "        if self.algorithm == 'brute':\n",
    "            return self.predict_proba_brute(X)\n",
    "        elif self.algorithm == 'kd_tree':\n",
    "            return self.predict_proba_kdtree(X)\n",
    "\n",
    "    def predict_proba_brute(self, X_test):\n",
    "        X_test = X_test.astype(float)\n",
    "        distance_matrix = np.matmul(X_test, self.X_train.T)\n",
    "        Test_sqr = ((X_test ** 2).sum(axis=1)).reshape(-1, 1)\n",
    "        Train_sqr = ((self.X_train ** 2).sum(axis=1)).reshape(1, -1)\n",
    "        final_dist = Test_sqr - 2 * distance_matrix + Train_sqr\n",
    "#        final_dist = np.sqrt(final_dist)\n",
    "#        Not used because of unclear negative number appearance.\n",
    "#        Doesn't matter what we compare: distance or distance*distance.\n",
    "        predicted = self.y_train[np.argsort(final_dist)[:, :self.n_neighbors]]\n",
    "        res_matrix = np.zeros((predicted.shape[0], self.classes_amount))\n",
    "        for i in range(predicted.shape[0]):\n",
    "            c = collections.Counter(predicted[i])\n",
    "            res_matrix[i] = [float(c[j])/self.n_neighbors for j in\n",
    "                             range(self.classes_amount)]\n",
    "        return res_matrix\n",
    "\n",
    "    def predict_proba_kdtree(self, X):\n",
    "        X = X.astype(float)\n",
    "        _, a = self.tree.query(X, k=self.n_neighbors)\n",
    "        res_matrix = np.zeros((np.shape(X)[0], self.classes_amount))\n",
    "        for i in range(a.shape[0]):\n",
    "            for j in a[i]:\n",
    "                res_matrix[i][int(self.y_train[j])] += 1\n",
    "        return res_matrix / self.n_neighbors\n",
    "\n",
    "    def score(self, X, y):\n",
    "        return np.average(y == self.predict(X))"
   ]
  },
  {
   "cell_type": "markdown",
   "metadata": {},
   "source": [
    "**IRIS**"
   ]
  },
  {
   "cell_type": "code",
   "execution_count": 4,
   "metadata": {},
   "outputs": [],
   "source": [
    "iris = datasets.load_iris()"
   ]
  },
  {
   "cell_type": "code",
   "execution_count": 5,
   "metadata": {},
   "outputs": [],
   "source": [
    "X_train, X_test, y_train, y_test = train_test_split(iris.data, iris.target, test_size=0.1, stratify=iris.target)"
   ]
  },
  {
   "cell_type": "code",
   "execution_count": 6,
   "metadata": {},
   "outputs": [],
   "source": [
    "clf = KNeighborsClassifier(n_neighbors=2, algorithm='brute')\n",
    "my_clf = MyKNeighborsClassifier(n_neighbors=2)"
   ]
  },
  {
   "cell_type": "code",
   "execution_count": 7,
   "metadata": {},
   "outputs": [
    {
     "name": "stdout",
     "output_type": "stream",
     "text": [
      "Wall time: 0 ns\n"
     ]
    },
    {
     "data": {
      "text/plain": [
       "KNeighborsClassifier(algorithm='brute', leaf_size=30, metric='minkowski',\n",
       "           metric_params=None, n_jobs=1, n_neighbors=2, p=2,\n",
       "           weights='uniform')"
      ]
     },
     "execution_count": 7,
     "metadata": {},
     "output_type": "execute_result"
    }
   ],
   "source": [
    "%time clf.fit(X_train, y_train)"
   ]
  },
  {
   "cell_type": "code",
   "execution_count": 8,
   "metadata": {},
   "outputs": [
    {
     "name": "stdout",
     "output_type": "stream",
     "text": [
      "Wall time: 996 µs\n"
     ]
    }
   ],
   "source": [
    "%time my_clf.fit(X_train, y_train)"
   ]
  },
  {
   "cell_type": "code",
   "execution_count": 9,
   "metadata": {},
   "outputs": [
    {
     "name": "stdout",
     "output_type": "stream",
     "text": [
      "Wall time: 12 ms\n"
     ]
    },
    {
     "data": {
      "text/plain": [
       "array([2, 1, 1, 1, 2, 2, 0, 1, 0, 0, 2, 0, 2, 0, 1])"
      ]
     },
     "execution_count": 9,
     "metadata": {},
     "output_type": "execute_result"
    }
   ],
   "source": [
    "%time clf.predict(X_test)"
   ]
  },
  {
   "cell_type": "code",
   "execution_count": 10,
   "metadata": {},
   "outputs": [
    {
     "name": "stdout",
     "output_type": "stream",
     "text": [
      "Wall time: 0 ns\n"
     ]
    },
    {
     "data": {
      "text/plain": [
       "array([2, 1, 1, 1, 2, 2, 0, 1, 0, 0, 2, 0, 2, 0, 1])"
      ]
     },
     "execution_count": 10,
     "metadata": {},
     "output_type": "execute_result"
    }
   ],
   "source": [
    "%time my_clf.predict(X_test)"
   ]
  },
  {
   "cell_type": "code",
   "execution_count": 11,
   "metadata": {
    "scrolled": true
   },
   "outputs": [
    {
     "name": "stdout",
     "output_type": "stream",
     "text": [
      "Wall time: 997 µs\n"
     ]
    },
    {
     "data": {
      "text/plain": [
       "array([[0., 0., 1.],\n",
       "       [0., 1., 0.],\n",
       "       [0., 1., 0.],\n",
       "       [0., 1., 0.],\n",
       "       [0., 0., 1.],\n",
       "       [0., 0., 1.],\n",
       "       [1., 0., 0.],\n",
       "       [0., 1., 0.],\n",
       "       [1., 0., 0.],\n",
       "       [1., 0., 0.],\n",
       "       [0., 0., 1.],\n",
       "       [1., 0., 0.],\n",
       "       [0., 0., 1.],\n",
       "       [1., 0., 0.],\n",
       "       [0., 1., 0.]])"
      ]
     },
     "execution_count": 11,
     "metadata": {},
     "output_type": "execute_result"
    }
   ],
   "source": [
    "%time clf.predict_proba(X_test)"
   ]
  },
  {
   "cell_type": "code",
   "execution_count": 12,
   "metadata": {},
   "outputs": [
    {
     "name": "stdout",
     "output_type": "stream",
     "text": [
      "Wall time: 0 ns\n"
     ]
    },
    {
     "data": {
      "text/plain": [
       "array([[0., 0., 1.],\n",
       "       [0., 1., 0.],\n",
       "       [0., 1., 0.],\n",
       "       [0., 1., 0.],\n",
       "       [0., 0., 1.],\n",
       "       [0., 0., 1.],\n",
       "       [1., 0., 0.],\n",
       "       [0., 1., 0.],\n",
       "       [1., 0., 0.],\n",
       "       [1., 0., 0.],\n",
       "       [0., 0., 1.],\n",
       "       [1., 0., 0.],\n",
       "       [0., 0., 1.],\n",
       "       [1., 0., 0.],\n",
       "       [0., 1., 0.]])"
      ]
     },
     "execution_count": 12,
     "metadata": {},
     "output_type": "execute_result"
    }
   ],
   "source": [
    "%time my_clf.predict_proba(X_test)"
   ]
  },
  {
   "cell_type": "code",
   "execution_count": 13,
   "metadata": {},
   "outputs": [
    {
     "data": {
      "text/plain": [
       "1.0"
      ]
     },
     "execution_count": 13,
     "metadata": {},
     "output_type": "execute_result"
    }
   ],
   "source": [
    "clf.score(X_test, y_test)"
   ]
  },
  {
   "cell_type": "code",
   "execution_count": 14,
   "metadata": {},
   "outputs": [
    {
     "data": {
      "text/plain": [
       "1.0"
      ]
     },
     "execution_count": 14,
     "metadata": {},
     "output_type": "execute_result"
    }
   ],
   "source": [
    "my_clf.score(X_test, y_test)"
   ]
  },
  {
   "cell_type": "markdown",
   "metadata": {},
   "source": [
    "Задание 3"
   ]
  },
  {
   "cell_type": "code",
   "execution_count": 15,
   "metadata": {},
   "outputs": [],
   "source": [
    "res_list = []\n",
    "loops_amount = 100\n",
    "MAX_NEIGHBORS = 50\n",
    "for i in range(1, MAX_NEIGHBORS):\n",
    "    q = []\n",
    "    for j in range(loops_amount):\n",
    "        X_train, X_test, y_train, y_test = train_test_split(iris.data, \n",
    "                                                            iris.target, \n",
    "                                                            test_size=0.1, \n",
    "                                                            stratify=iris.target)\n",
    "        clf = MyKNeighborsClassifier(n_neighbors=i)\n",
    "        clf.fit(X_train, y_train)\n",
    "        q.append(clf.score(X_test, y_test))\n",
    "    res_list.append(np.mean(q))"
   ]
  },
  {
   "cell_type": "code",
   "execution_count": 16,
   "metadata": {},
   "outputs": [
    {
     "data": {
      "text/plain": [
       "14"
      ]
     },
     "execution_count": 16,
     "metadata": {},
     "output_type": "execute_result"
    }
   ],
   "source": [
    "res_list = np.array(res_list)\n",
    "IRIS_NEIGHBORS = res_list.argmax()+1\n",
    "IRIS_NEIGHBORS"
   ]
  },
  {
   "cell_type": "code",
   "execution_count": 17,
   "metadata": {},
   "outputs": [
    {
     "data": {
      "image/png": "[encoded data removed]",
      "text/plain": [
       "<Figure size 432x288 with 1 Axes>"
      ]
     },
     "metadata": {},
     "output_type": "display_data"
    }
   ],
   "source": [
    "plt.plot(range(1, MAX_NEIGHBORS), res_list)\n",
    "plt.xlabel(\"n_neighbors\")\n",
    "plt.ylabel(\"score\")\n",
    "plt.show()"
   ]
  },
  {
   "cell_type": "markdown",
   "metadata": {},
   "source": [
    "**MNIST**"
   ]
  },
  {
   "cell_type": "code",
   "execution_count": 18,
   "metadata": {},
   "outputs": [],
   "source": [
    "mnist = fetch_mldata('MNIST original')"
   ]
  },
  {
   "cell_type": "code",
   "execution_count": 19,
   "metadata": {},
   "outputs": [],
   "source": [
    "X_train, X_test, y_train, y_test = train_test_split(mnist.data, mnist.target, test_size=0.01, stratify=mnist.target)"
   ]
  },
  {
   "cell_type": "code",
   "execution_count": 20,
   "metadata": {},
   "outputs": [],
   "source": [
    "clf = KNeighborsClassifier(n_neighbors=IRIS_NEIGHBORS, algorithm='brute')\n",
    "my_clf = MyKNeighborsClassifier(n_neighbors=IRIS_NEIGHBORS)"
   ]
  },
  {
   "cell_type": "code",
   "execution_count": 21,
   "metadata": {},
   "outputs": [
    {
     "name": "stdout",
     "output_type": "stream",
     "text": [
      "Wall time: 8.08 ms\n"
     ]
    },
    {
     "data": {
      "text/plain": [
       "KNeighborsClassifier(algorithm='brute', leaf_size=30, metric='minkowski',\n",
       "           metric_params=None, n_jobs=1, n_neighbors=14, p=2,\n",
       "           weights='uniform')"
      ]
     },
     "execution_count": 21,
     "metadata": {},
     "output_type": "execute_result"
    }
   ],
   "source": [
    "%time clf.fit(X_train, y_train)"
   ]
  },
  {
   "cell_type": "code",
   "execution_count": 22,
   "metadata": {},
   "outputs": [
    {
     "name": "stdout",
     "output_type": "stream",
     "text": [
      "Wall time: 46.9 ms\n"
     ]
    }
   ],
   "source": [
    "%time my_clf.fit(X_train, y_train)"
   ]
  },
  {
   "cell_type": "code",
   "execution_count": 23,
   "metadata": {},
   "outputs": [
    {
     "name": "stdout",
     "output_type": "stream",
     "text": [
      "Wall time: 2.16 s\n"
     ]
    },
    {
     "data": {
      "text/plain": [
       "array([9., 1., 7., 6., 7., 2., 3., 6., 1., 6., 0., 2., 7., 4., 6., 1., 4.,\n",
       "       5., 9., 4., 3., 6., 1., 8., 1., 8., 0., 7., 3., 9., 7., 5., 8., 1.,\n",
       "       6., 4., 5., 2., 5., 3., 2., 3., 7., 1., 1., 8., 1., 6., 0., 5., 4.,\n",
       "       0., 7., 0., 9., 3., 9., 3., 3., 3., 5., 2., 8., 0., 3., 2., 0., 7.,\n",
       "       4., 1., 9., 4., 0., 1., 9., 1., 1., 9., 6., 5., 2., 2., 4., 3., 0.,\n",
       "       9., 0., 1., 3., 1., 8., 4., 4., 1., 8., 4., 0., 6., 6., 1., 3., 7.,\n",
       "       1., 2., 5., 6., 7., 7., 6., 9., 1., 3., 1., 6., 2., 7., 6., 6., 2.,\n",
       "       2., 0., 1., 2., 8., 7., 1., 2., 2., 6., 7., 7., 0., 9., 1., 9., 5.,\n",
       "       7., 5., 6., 9., 3., 3., 4., 5., 5., 8., 9., 4., 5., 3., 3., 7., 0.,\n",
       "       9., 0., 4., 8., 0., 4., 2., 5., 6., 0., 1., 7., 7., 4., 0., 7., 0.,\n",
       "       1., 6., 7., 3., 8., 5., 7., 4., 9., 8., 6., 1., 8., 7., 8., 1., 3.,\n",
       "       6., 5., 6., 4., 4., 7., 8., 7., 0., 1., 5., 9., 0., 9., 5., 3., 7.,\n",
       "       1., 4., 5., 5., 4., 0., 8., 3., 5., 0., 3., 4., 7., 7., 0., 3., 6.,\n",
       "       2., 6., 0., 5., 2., 0., 3., 9., 1., 7., 5., 7., 2., 2., 5., 7., 0.,\n",
       "       9., 9., 9., 3., 5., 6., 4., 5., 9., 9., 1., 4., 9., 1., 3., 8., 5.,\n",
       "       5., 0., 3., 6., 4., 2., 0., 3., 5., 4., 6., 2., 5., 6., 8., 9., 2.,\n",
       "       6., 6., 2., 9., 8., 2., 4., 3., 8., 4., 0., 1., 0., 7., 0., 5., 5.,\n",
       "       1., 1., 7., 4., 6., 0., 6., 4., 1., 1., 6., 5., 3., 6., 0., 3., 6.,\n",
       "       0., 5., 3., 1., 4., 3., 5., 5., 3., 7., 6., 1., 9., 9., 3., 1., 3.,\n",
       "       4., 8., 1., 2., 5., 8., 5., 4., 1., 9., 8., 2., 2., 1., 4., 1., 1.,\n",
       "       0., 7., 7., 8., 8., 2., 2., 7., 0., 7., 1., 0., 5., 3., 4., 6., 0.,\n",
       "       2., 4., 9., 7., 6., 1., 9., 3., 6., 1., 2., 1., 0., 6., 5., 4., 7.,\n",
       "       4., 7., 3., 3., 0., 7., 6., 7., 9., 9., 1., 6., 0., 0., 9., 7., 1.,\n",
       "       3., 6., 7., 9., 9., 8., 4., 1., 9., 0., 7., 8., 6., 5., 5., 9., 7.,\n",
       "       8., 3., 8., 7., 8., 1., 2., 9., 6., 1., 6., 8., 0., 8., 7., 3., 2.,\n",
       "       5., 4., 3., 0., 5., 4., 4., 4., 9., 5., 3., 1., 9., 7., 1., 8., 5.,\n",
       "       2., 2., 7., 1., 5., 3., 5., 4., 3., 4., 4., 1., 7., 7., 8., 5., 4.,\n",
       "       8., 4., 3., 5., 3., 4., 6., 5., 9., 1., 8., 7., 1., 3., 7., 0., 0.,\n",
       "       4., 6., 9., 5., 4., 0., 2., 3., 6., 0., 1., 5., 9., 3., 9., 4., 8.,\n",
       "       5., 4., 1., 1., 5., 2., 4., 0., 9., 2., 7., 3., 0., 0., 4., 4., 1.,\n",
       "       2., 8., 1., 3., 7., 7., 1., 3., 7., 7., 8., 3., 8., 9., 0., 8., 2.,\n",
       "       9., 2., 7., 8., 6., 3., 2., 1., 1., 5., 6., 8., 2., 7., 0., 2., 1.,\n",
       "       8., 9., 0., 4., 2., 2., 7., 7., 4., 0., 8., 1., 0., 9., 2., 9., 7.,\n",
       "       6., 4., 3., 9., 3., 9., 6., 1., 2., 0., 1., 3., 1., 0., 1., 2., 1.,\n",
       "       6., 2., 4., 8., 6., 3., 8., 0., 8., 5., 8., 8., 1., 2., 0., 5., 6.,\n",
       "       3., 6., 1., 2., 6., 9., 2., 1., 6., 4., 7., 5., 1., 8., 8., 2., 4.,\n",
       "       3., 2., 8., 0., 6., 3., 2., 4., 6., 3., 2., 6., 0., 1., 5., 9., 8.,\n",
       "       2., 7., 7., 8., 3., 8., 4., 6., 0., 6., 9., 7., 6., 3., 7., 7., 7.,\n",
       "       5., 2., 6., 0., 5., 6., 2., 2., 4., 1., 2., 9., 4., 4., 2., 1., 7.,\n",
       "       8., 2., 3., 9., 0., 3., 7., 7., 3., 1., 8., 9., 2., 8., 4., 5., 1.,\n",
       "       9., 4., 5., 4., 6., 0., 9., 0., 8., 6., 8., 7., 8., 2., 6., 9., 9.,\n",
       "       4., 9., 9.])"
      ]
     },
     "execution_count": 23,
     "metadata": {},
     "output_type": "execute_result"
    }
   ],
   "source": [
    "%time clf.predict(X_test)"
   ]
  },
  {
   "cell_type": "code",
   "execution_count": 24,
   "metadata": {},
   "outputs": [
    {
     "name": "stdout",
     "output_type": "stream",
     "text": [
      "Wall time: 2.3 s\n"
     ]
    },
    {
     "data": {
      "text/plain": [
       "array([9, 1, 7, 6, 7, 2, 3, 6, 1, 6, 0, 2, 7, 4, 6, 1, 4, 5, 9, 4, 3, 6,\n",
       "       1, 8, 1, 8, 0, 7, 3, 9, 7, 5, 8, 1, 6, 4, 5, 2, 5, 3, 2, 3, 7, 1,\n",
       "       1, 8, 1, 6, 0, 5, 4, 0, 7, 0, 9, 3, 9, 3, 3, 3, 8, 2, 8, 0, 3, 2,\n",
       "       0, 7, 4, 1, 9, 4, 0, 1, 9, 1, 1, 9, 6, 5, 2, 2, 4, 3, 0, 9, 0, 1,\n",
       "       3, 1, 8, 4, 4, 1, 8, 4, 0, 6, 6, 1, 3, 7, 1, 2, 5, 6, 7, 7, 6, 9,\n",
       "       1, 3, 1, 6, 2, 7, 6, 6, 2, 2, 0, 1, 2, 8, 7, 1, 2, 2, 6, 7, 7, 0,\n",
       "       9, 1, 9, 5, 7, 5, 6, 9, 3, 3, 4, 5, 5, 8, 9, 4, 5, 3, 3, 7, 0, 9,\n",
       "       0, 4, 8, 0, 4, 2, 5, 6, 0, 1, 7, 7, 4, 0, 7, 0, 1, 6, 7, 3, 8, 5,\n",
       "       7, 4, 9, 8, 6, 1, 8, 7, 8, 1, 3, 6, 5, 6, 4, 4, 7, 8, 7, 0, 1, 5,\n",
       "       9, 0, 9, 5, 3, 7, 1, 4, 5, 5, 4, 0, 8, 3, 5, 0, 3, 4, 7, 7, 0, 3,\n",
       "       6, 2, 6, 0, 5, 2, 0, 3, 9, 1, 7, 5, 7, 2, 2, 5, 7, 0, 9, 9, 9, 3,\n",
       "       5, 6, 4, 5, 9, 9, 1, 4, 9, 1, 3, 8, 5, 5, 0, 3, 6, 4, 2, 0, 8, 5,\n",
       "       4, 6, 2, 5, 6, 8, 9, 2, 6, 6, 2, 9, 8, 2, 4, 3, 8, 4, 0, 1, 0, 7,\n",
       "       0, 5, 5, 1, 1, 7, 4, 6, 0, 6, 4, 1, 1, 6, 5, 3, 6, 0, 3, 6, 0, 5,\n",
       "       3, 1, 4, 3, 5, 5, 3, 7, 6, 1, 9, 9, 3, 1, 3, 4, 8, 1, 2, 5, 8, 5,\n",
       "       4, 1, 9, 8, 2, 2, 1, 4, 1, 1, 0, 7, 7, 8, 8, 2, 2, 7, 0, 7, 1, 0,\n",
       "       5, 3, 4, 6, 0, 2, 4, 9, 7, 6, 1, 9, 3, 6, 1, 2, 1, 0, 6, 5, 4, 7,\n",
       "       4, 7, 3, 3, 0, 7, 6, 7, 9, 9, 1, 6, 0, 0, 9, 7, 1, 3, 6, 7, 9, 9,\n",
       "       8, 4, 1, 9, 0, 7, 8, 6, 5, 5, 9, 7, 8, 3, 8, 7, 8, 1, 2, 9, 6, 1,\n",
       "       6, 8, 0, 8, 7, 3, 2, 5, 4, 3, 0, 5, 4, 4, 4, 9, 5, 3, 1, 9, 7, 1,\n",
       "       8, 5, 2, 2, 7, 1, 5, 3, 5, 4, 3, 4, 4, 1, 7, 7, 8, 5, 4, 8, 4, 3,\n",
       "       5, 3, 4, 6, 5, 9, 1, 8, 7, 1, 3, 7, 0, 0, 4, 6, 9, 5, 4, 0, 2, 3,\n",
       "       6, 0, 1, 5, 9, 3, 9, 4, 8, 5, 4, 1, 1, 5, 2, 4, 0, 9, 2, 7, 3, 0,\n",
       "       0, 4, 4, 1, 2, 8, 1, 3, 7, 7, 1, 3, 7, 7, 8, 3, 8, 9, 0, 8, 2, 9,\n",
       "       2, 7, 8, 6, 3, 2, 1, 1, 5, 6, 8, 2, 7, 0, 2, 1, 8, 9, 0, 4, 2, 2,\n",
       "       7, 7, 4, 0, 8, 1, 0, 9, 2, 9, 7, 6, 4, 3, 9, 3, 9, 6, 1, 2, 0, 1,\n",
       "       3, 1, 0, 1, 2, 1, 6, 2, 4, 8, 6, 3, 8, 0, 8, 5, 8, 8, 1, 2, 0, 5,\n",
       "       6, 3, 6, 1, 2, 6, 9, 2, 1, 6, 4, 7, 5, 1, 8, 8, 2, 4, 3, 2, 8, 0,\n",
       "       6, 3, 2, 4, 6, 3, 2, 6, 0, 1, 5, 9, 8, 2, 7, 7, 8, 3, 8, 4, 6, 0,\n",
       "       6, 9, 7, 6, 3, 7, 7, 7, 5, 2, 6, 0, 5, 6, 2, 2, 4, 3, 2, 9, 4, 4,\n",
       "       2, 1, 7, 8, 2, 3, 9, 0, 3, 7, 7, 3, 1, 8, 9, 2, 8, 4, 5, 1, 9, 4,\n",
       "       5, 4, 6, 0, 9, 0, 8, 6, 8, 7, 8, 2, 6, 9, 9, 4, 9, 9])"
      ]
     },
     "execution_count": 24,
     "metadata": {},
     "output_type": "execute_result"
    }
   ],
   "source": [
    "%time my_clf.predict(X_test)"
   ]
  },
  {
   "cell_type": "code",
   "execution_count": 25,
   "metadata": {},
   "outputs": [
    {
     "name": "stdout",
     "output_type": "stream",
     "text": [
      "Wall time: 2.04 s\n"
     ]
    },
    {
     "data": {
      "text/plain": [
       "array([[0.        , 0.        , 0.        , ..., 0.07142857, 0.        ,\n",
       "        0.85714286],\n",
       "       [0.        , 1.        , 0.        , ..., 0.        , 0.        ,\n",
       "        0.        ],\n",
       "       [0.        , 0.        , 0.35714286, ..., 0.64285714, 0.        ,\n",
       "        0.        ],\n",
       "       ...,\n",
       "       [0.        , 0.        , 0.        , ..., 0.        , 0.        ,\n",
       "        0.        ],\n",
       "       [0.        , 0.        , 0.        , ..., 0.        , 0.        ,\n",
       "        1.        ],\n",
       "       [0.        , 0.        , 0.        , ..., 0.        , 0.        ,\n",
       "        1.        ]])"
      ]
     },
     "execution_count": 25,
     "metadata": {},
     "output_type": "execute_result"
    }
   ],
   "source": [
    "%time clf.predict_proba(X_test)"
   ]
  },
  {
   "cell_type": "code",
   "execution_count": 26,
   "metadata": {},
   "outputs": [
    {
     "name": "stdout",
     "output_type": "stream",
     "text": [
      "Wall time: 6.69 s\n"
     ]
    },
    {
     "data": {
      "text/plain": [
       "array([[0.        , 0.        , 0.        , ..., 0.        , 0.35714286,\n",
       "        0.64285714],\n",
       "       [0.        , 0.42857143, 0.28571429, ..., 0.        , 0.14285714,\n",
       "        0.        ],\n",
       "       [0.14285714, 0.        , 0.78571429, ..., 0.        , 0.        ,\n",
       "        0.        ],\n",
       "       ...,\n",
       "       [0.        , 0.        , 0.        , ..., 0.        , 0.        ,\n",
       "        0.21428571],\n",
       "       [0.        , 0.        , 0.        , ..., 0.        , 0.07142857,\n",
       "        0.92857143],\n",
       "       [0.21428571, 0.        , 0.        , ..., 0.        , 0.35714286,\n",
       "        0.35714286]])"
      ]
     },
     "execution_count": 26,
     "metadata": {},
     "output_type": "execute_result"
    }
   ],
   "source": [
    "%time my_clf.predict_proba(X_test)"
   ]
  },
  {
   "cell_type": "code",
   "execution_count": 27,
   "metadata": {},
   "outputs": [
    {
     "data": {
      "text/plain": [
       "0.9642857142857143"
      ]
     },
     "execution_count": 27,
     "metadata": {},
     "output_type": "execute_result"
    }
   ],
   "source": [
    "clf.score(X_test, y_test)"
   ]
  },
  {
   "cell_type": "code",
   "execution_count": 28,
   "metadata": {},
   "outputs": [
    {
     "data": {
      "text/plain": [
       "0.9685714285714285"
      ]
     },
     "execution_count": 28,
     "metadata": {},
     "output_type": "execute_result"
    }
   ],
   "source": [
    "my_clf.score(X_test, y_test)"
   ]
  },
  {
   "cell_type": "markdown",
   "metadata": {},
   "source": [
    "Задание 4"
   ]
  },
  {
   "cell_type": "code",
   "execution_count": 29,
   "metadata": {},
   "outputs": [],
   "source": [
    "clf = KNeighborsClassifier(n_neighbors=IRIS_NEIGHBORS, algorithm='kd_tree')\n",
    "my_clf = MyKNeighborsClassifier(n_neighbors=IRIS_NEIGHBORS, algorithm='kd_tree')"
   ]
  },
  {
   "cell_type": "code",
   "execution_count": 30,
   "metadata": {},
   "outputs": [],
   "source": [
    "X_train, X_test, y_train, y_test = train_test_split(mnist.data, mnist.target, test_size=0.01, stratify=mnist.target)"
   ]
  },
  {
   "cell_type": "code",
   "execution_count": 31,
   "metadata": {},
   "outputs": [
    {
     "name": "stdout",
     "output_type": "stream",
     "text": [
      "Wall time: 26.7 s\n"
     ]
    },
    {
     "data": {
      "text/plain": [
       "KNeighborsClassifier(algorithm='kd_tree', leaf_size=30, metric='minkowski',\n",
       "           metric_params=None, n_jobs=1, n_neighbors=14, p=2,\n",
       "           weights='uniform')"
      ]
     },
     "execution_count": 31,
     "metadata": {},
     "output_type": "execute_result"
    }
   ],
   "source": [
    "%time clf.fit(X_train, y_train)"
   ]
  },
  {
   "cell_type": "code",
   "execution_count": 32,
   "metadata": {},
   "outputs": [
    {
     "name": "stdout",
     "output_type": "stream",
     "text": [
      "Wall time: 26.2 s\n"
     ]
    }
   ],
   "source": [
    "%time my_clf.fit(X_train, y_train)"
   ]
  },
  {
   "cell_type": "code",
   "execution_count": 33,
   "metadata": {},
   "outputs": [
    {
     "name": "stdout",
     "output_type": "stream",
     "text": [
      "Wall time: 1min 23s\n"
     ]
    },
    {
     "data": {
      "text/plain": [
       "array([8., 8., 6., 8., 3., 6., 0., 1., 2., 5., 4., 8., 9., 4., 3., 0., 1.,\n",
       "       9., 7., 8., 9., 9., 4., 8., 4., 7., 0., 7., 2., 6., 6., 3., 0., 8.,\n",
       "       5., 9., 2., 2., 0., 9., 5., 8., 3., 7., 2., 8., 8., 4., 2., 6., 4.,\n",
       "       4., 5., 4., 9., 2., 0., 4., 8., 2., 1., 7., 7., 0., 3., 9., 0., 1.,\n",
       "       1., 2., 3., 2., 7., 8., 9., 1., 3., 1., 9., 7., 1., 3., 3., 1., 3.,\n",
       "       4., 5., 9., 7., 1., 2., 5., 4., 8., 5., 6., 4., 3., 4., 1., 7., 8.,\n",
       "       4., 8., 6., 2., 3., 7., 5., 4., 3., 1., 3., 9., 9., 0., 2., 8., 5.,\n",
       "       3., 7., 9., 4., 7., 3., 9., 1., 8., 3., 3., 1., 4., 7., 7., 3., 5.,\n",
       "       7., 5., 6., 1., 4., 1., 6., 9., 8., 7., 2., 4., 6., 8., 8., 6., 3.,\n",
       "       6., 4., 4., 3., 4., 2., 2., 7., 4., 3., 1., 8., 7., 2., 3., 4., 1.,\n",
       "       1., 3., 0., 0., 0., 9., 8., 2., 5., 2., 1., 9., 9., 1., 9., 2., 4.,\n",
       "       5., 5., 6., 1., 5., 4., 0., 8., 9., 9., 1., 4., 6., 1., 8., 3., 7.,\n",
       "       8., 1., 1., 3., 3., 5., 6., 6., 3., 9., 3., 0., 5., 8., 0., 0., 9.,\n",
       "       9., 4., 8., 6., 1., 6., 2., 9., 9., 0., 0., 9., 1., 0., 3., 9., 1.,\n",
       "       0., 6., 1., 7., 9., 7., 6., 5., 6., 9., 6., 5., 0., 7., 6., 5., 9.,\n",
       "       6., 8., 0., 6., 6., 2., 1., 1., 0., 1., 5., 0., 0., 3., 3., 6., 8.,\n",
       "       4., 5., 4., 0., 9., 7., 0., 0., 5., 6., 7., 7., 1., 2., 4., 3., 6.,\n",
       "       6., 0., 7., 7., 1., 5., 2., 5., 4., 8., 8., 7., 1., 6., 5., 3., 2.,\n",
       "       2., 5., 6., 8., 7., 4., 1., 7., 3., 1., 6., 7., 4., 5., 3., 6., 5.,\n",
       "       7., 7., 4., 7., 9., 7., 7., 5., 3., 0., 9., 8., 6., 4., 8., 9., 7.,\n",
       "       2., 0., 2., 8., 4., 1., 0., 1., 1., 2., 7., 9., 3., 9., 8., 9., 8.,\n",
       "       4., 1., 0., 7., 7., 1., 1., 2., 6., 6., 9., 5., 1., 1., 7., 2., 2.,\n",
       "       0., 9., 9., 3., 2., 3., 0., 5., 7., 1., 3., 8., 6., 4., 0., 7., 8.,\n",
       "       7., 4., 8., 3., 2., 4., 4., 7., 6., 7., 1., 1., 7., 9., 2., 3., 3.,\n",
       "       4., 8., 7., 8., 9., 6., 7., 3., 4., 1., 4., 9., 4., 9., 9., 5., 0.,\n",
       "       9., 2., 7., 1., 2., 1., 7., 0., 8., 7., 5., 1., 5., 5., 0., 3., 1.,\n",
       "       1., 5., 4., 5., 0., 0., 7., 2., 1., 6., 1., 2., 2., 8., 7., 0., 9.,\n",
       "       3., 2., 0., 3., 5., 4., 4., 1., 8., 1., 1., 1., 1., 7., 6., 7., 2.,\n",
       "       9., 8., 4., 6., 6., 5., 1., 4., 2., 3., 7., 4., 7., 0., 6., 5., 2.,\n",
       "       6., 9., 9., 1., 9., 9., 6., 8., 1., 6., 3., 6., 9., 1., 5., 3., 7.,\n",
       "       2., 2., 2., 6., 8., 3., 3., 6., 9., 5., 6., 3., 0., 3., 4., 3., 0.,\n",
       "       3., 4., 6., 9., 6., 2., 2., 3., 1., 8., 6., 1., 0., 5., 3., 3., 2.,\n",
       "       4., 6., 2., 0., 5., 9., 5., 1., 4., 7., 4., 7., 5., 2., 3., 1., 7.,\n",
       "       6., 0., 0., 2., 5., 0., 1., 6., 4., 7., 3., 0., 2., 2., 5., 8., 2.,\n",
       "       9., 7., 1., 3., 7., 2., 5., 3., 6., 6., 9., 3., 7., 5., 0., 9., 0.,\n",
       "       4., 1., 6., 6., 0., 0., 8., 6., 2., 2., 6., 5., 2., 0., 0., 3., 7.,\n",
       "       7., 1., 3., 9., 3., 6., 3., 1., 9., 5., 2., 1., 3., 0., 5., 6., 4.,\n",
       "       8., 0., 0., 8., 2., 4., 0., 0., 7., 4., 6., 2., 2., 0., 9., 2., 8.,\n",
       "       8., 8., 4., 8., 0., 7., 4., 9., 4., 1., 5., 0., 3., 3., 8., 8., 1.,\n",
       "       1., 5., 9., 8., 3., 6., 7., 5., 9., 6., 8., 6., 5., 6., 0., 1., 2.,\n",
       "       0., 3., 5., 0., 4., 7., 2., 9., 7., 0., 0., 9., 2., 7., 5., 5., 1.,\n",
       "       7., 1., 9.])"
      ]
     },
     "execution_count": 33,
     "metadata": {},
     "output_type": "execute_result"
    }
   ],
   "source": [
    "%time clf.predict(X_test)"
   ]
  },
  {
   "cell_type": "code",
   "execution_count": 34,
   "metadata": {},
   "outputs": [
    {
     "name": "stdout",
     "output_type": "stream",
     "text": [
      "Wall time: 1min 20s\n"
     ]
    },
    {
     "data": {
      "text/plain": [
       "array([8., 8., 6., 8., 3., 6., 0., 1., 2., 5., 4., 8., 9., 4., 3., 0., 1.,\n",
       "       9., 7., 8., 9., 9., 4., 8., 4., 7., 0., 7., 2., 6., 6., 3., 0., 8.,\n",
       "       5., 9., 2., 2., 0., 9., 5., 8., 3., 7., 2., 8., 8., 4., 2., 6., 4.,\n",
       "       4., 5., 4., 9., 2., 0., 4., 8., 2., 1., 7., 7., 0., 3., 9., 0., 1.,\n",
       "       1., 2., 3., 2., 7., 8., 9., 1., 3., 1., 9., 7., 1., 3., 3., 1., 3.,\n",
       "       4., 5., 9., 7., 1., 2., 5., 4., 8., 5., 6., 4., 3., 4., 1., 7., 8.,\n",
       "       4., 8., 6., 2., 3., 7., 5., 4., 3., 1., 3., 9., 9., 0., 2., 8., 5.,\n",
       "       3., 7., 9., 4., 7., 3., 9., 1., 8., 3., 3., 1., 4., 7., 7., 3., 5.,\n",
       "       7., 5., 6., 1., 4., 1., 6., 9., 8., 7., 2., 4., 6., 8., 8., 6., 3.,\n",
       "       6., 4., 4., 3., 4., 2., 2., 7., 4., 3., 1., 8., 7., 2., 3., 4., 1.,\n",
       "       1., 3., 0., 0., 0., 9., 8., 2., 5., 2., 1., 9., 9., 1., 9., 2., 4.,\n",
       "       5., 5., 6., 1., 5., 4., 0., 8., 9., 9., 1., 4., 6., 1., 8., 3., 7.,\n",
       "       8., 1., 1., 3., 3., 5., 6., 6., 3., 9., 3., 0., 5., 8., 0., 0., 9.,\n",
       "       9., 4., 8., 6., 1., 6., 2., 9., 9., 0., 0., 9., 1., 0., 3., 9., 1.,\n",
       "       0., 6., 1., 7., 9., 7., 6., 5., 6., 9., 6., 5., 0., 7., 6., 5., 9.,\n",
       "       6., 8., 0., 6., 6., 2., 1., 1., 0., 1., 5., 0., 0., 3., 3., 6., 8.,\n",
       "       4., 5., 4., 0., 9., 7., 0., 0., 5., 6., 7., 7., 1., 2., 4., 3., 6.,\n",
       "       6., 0., 7., 7., 1., 5., 2., 5., 4., 8., 8., 7., 1., 6., 5., 3., 2.,\n",
       "       2., 5., 6., 8., 7., 4., 1., 7., 3., 1., 6., 7., 4., 5., 3., 6., 5.,\n",
       "       7., 7., 4., 7., 9., 7., 7., 5., 3., 0., 9., 8., 6., 4., 8., 9., 7.,\n",
       "       2., 0., 2., 8., 4., 1., 0., 1., 1., 2., 7., 9., 3., 9., 8., 9., 8.,\n",
       "       4., 1., 0., 7., 7., 1., 1., 2., 6., 6., 9., 5., 1., 1., 7., 2., 2.,\n",
       "       0., 9., 9., 3., 2., 3., 0., 5., 7., 1., 3., 8., 6., 4., 0., 7., 8.,\n",
       "       7., 4., 8., 3., 2., 4., 4., 7., 6., 7., 1., 1., 7., 9., 2., 3., 3.,\n",
       "       4., 8., 7., 8., 9., 6., 7., 3., 4., 1., 4., 9., 4., 9., 9., 5., 0.,\n",
       "       9., 2., 7., 1., 2., 1., 7., 0., 8., 7., 5., 1., 5., 5., 0., 3., 1.,\n",
       "       1., 5., 4., 5., 0., 0., 7., 2., 1., 6., 1., 2., 2., 8., 7., 0., 9.,\n",
       "       3., 2., 0., 3., 5., 4., 4., 1., 8., 1., 1., 1., 1., 7., 6., 7., 2.,\n",
       "       9., 8., 4., 6., 6., 5., 1., 4., 2., 3., 7., 4., 7., 0., 6., 5., 2.,\n",
       "       6., 9., 9., 1., 9., 9., 6., 8., 1., 6., 3., 6., 9., 1., 5., 3., 7.,\n",
       "       2., 2., 2., 6., 8., 3., 3., 6., 9., 5., 6., 3., 0., 3., 4., 3., 0.,\n",
       "       3., 4., 6., 9., 6., 2., 2., 3., 1., 8., 6., 1., 0., 5., 3., 3., 2.,\n",
       "       4., 6., 2., 0., 5., 9., 5., 1., 4., 7., 4., 7., 5., 2., 3., 1., 7.,\n",
       "       6., 0., 0., 2., 5., 0., 1., 6., 4., 7., 3., 0., 2., 2., 5., 8., 2.,\n",
       "       9., 7., 1., 3., 7., 2., 5., 3., 6., 6., 9., 3., 7., 5., 0., 9., 0.,\n",
       "       4., 1., 6., 6., 0., 0., 8., 6., 2., 2., 6., 5., 2., 0., 0., 3., 7.,\n",
       "       7., 1., 3., 9., 3., 6., 3., 1., 9., 5., 2., 1., 3., 0., 5., 6., 4.,\n",
       "       8., 0., 0., 8., 2., 4., 0., 0., 7., 4., 6., 2., 2., 0., 9., 2., 8.,\n",
       "       8., 8., 4., 8., 0., 7., 4., 9., 4., 1., 5., 0., 3., 3., 8., 8., 1.,\n",
       "       1., 5., 9., 8., 3., 6., 7., 5., 9., 6., 8., 6., 5., 6., 0., 1., 2.,\n",
       "       0., 3., 5., 0., 4., 7., 2., 9., 7., 0., 0., 9., 2., 7., 5., 5., 1.,\n",
       "       7., 1., 9.])"
      ]
     },
     "execution_count": 34,
     "metadata": {},
     "output_type": "execute_result"
    }
   ],
   "source": [
    "%time my_clf.predict(X_test)"
   ]
  },
  {
   "cell_type": "code",
   "execution_count": 35,
   "metadata": {},
   "outputs": [
    {
     "name": "stdout",
     "output_type": "stream",
     "text": [
      "Wall time: 1min 23s\n"
     ]
    },
    {
     "data": {
      "text/plain": [
       "array([[0.        , 0.        , 0.        , ..., 0.        , 1.        ,\n",
       "        0.        ],\n",
       "       [0.        , 0.        , 0.        , ..., 0.        , 1.        ,\n",
       "        0.        ],\n",
       "       [0.        , 0.        , 0.        , ..., 0.        , 0.        ,\n",
       "        0.        ],\n",
       "       ...,\n",
       "       [0.        , 0.        , 0.        , ..., 1.        , 0.        ,\n",
       "        0.        ],\n",
       "       [0.        , 1.        , 0.        , ..., 0.        , 0.        ,\n",
       "        0.        ],\n",
       "       [0.        , 0.        , 0.        , ..., 0.        , 0.        ,\n",
       "        0.85714286]])"
      ]
     },
     "execution_count": 35,
     "metadata": {},
     "output_type": "execute_result"
    }
   ],
   "source": [
    "%time clf.predict_proba(X_test)"
   ]
  },
  {
   "cell_type": "code",
   "execution_count": 36,
   "metadata": {},
   "outputs": [
    {
     "name": "stdout",
     "output_type": "stream",
     "text": [
      "Wall time: 1min 21s\n"
     ]
    },
    {
     "data": {
      "text/plain": [
       "array([[0.        , 0.        , 0.        , ..., 0.        , 1.        ,\n",
       "        0.        ],\n",
       "       [0.        , 0.        , 0.        , ..., 0.        , 1.        ,\n",
       "        0.        ],\n",
       "       [0.        , 0.        , 0.        , ..., 0.        , 0.        ,\n",
       "        0.        ],\n",
       "       ...,\n",
       "       [0.        , 0.        , 0.        , ..., 1.        , 0.        ,\n",
       "        0.        ],\n",
       "       [0.        , 1.        , 0.        , ..., 0.        , 0.        ,\n",
       "        0.        ],\n",
       "       [0.        , 0.        , 0.        , ..., 0.        , 0.        ,\n",
       "        0.85714286]])"
      ]
     },
     "execution_count": 36,
     "metadata": {},
     "output_type": "execute_result"
    }
   ],
   "source": [
    "%time my_clf.predict_proba(X_test)"
   ]
  },
  {
   "cell_type": "code",
   "execution_count": 37,
   "metadata": {},
   "outputs": [
    {
     "data": {
      "text/plain": [
       "0.9714285714285714"
      ]
     },
     "execution_count": 37,
     "metadata": {},
     "output_type": "execute_result"
    }
   ],
   "source": [
    "clf.score(X_test, y_test)"
   ]
  },
  {
   "cell_type": "code",
   "execution_count": 38,
   "metadata": {},
   "outputs": [
    {
     "data": {
      "text/plain": [
       "0.9714285714285714"
      ]
     },
     "execution_count": 38,
     "metadata": {},
     "output_type": "execute_result"
    }
   ],
   "source": [
    "my_clf.score(X_test, y_test)"
   ]
  },
  {
   "cell_type": "markdown",
   "metadata": {},
   "source": [
    "Задание 5"
   ]
  },
  {
   "cell_type": "code",
   "execution_count": null,
   "metadata": {},
   "outputs": [],
   "source": [
    "# seaborn\n",
    "Библиотека для визуализации данных (построения разных графиков), базируется на matplotlib\n",
    "# matplotlib\n",
    "Библиотека для визуаизации данных двумерной(трёхмерной) графикой\n",
    "# train_test_split\n",
    "Функция для разделения обучающих данных на две части: обучающую выборку и тестовую\n",
    "# Pipelin%load_ext e (from sklearn.pipeline import Pipeline)\n",
    "Инструмент (?) для последовательного преобразования данных. Работает аналогично конвейеру bash'a\n",
    "# StandardScaler (from sklearn.preprocessing import StandardScaler)\n",
    "Класс, предназначенный для нормировки данных\n",
    "# ClassifierMixin\n",
    "Класс, родительский для всех классификаторов из sklearn\n",
    "# NeighborsBase\n",
    "Класс, родительский для всех классов neighbors-предсказателей из sklearn\n",
    "# KNeighborsMixin\n",
    "Класс, родительский для всех классов, включающих метод поиска ближайших соседей\n",
    "# SupervisedIntegerMixin\n",
    "Базовый класс для классификаторов, необходимый для реализации метода fit()"
   ]
  }
 ],
 "metadata": {
  "kernelspec": {
   "display_name": "Python 3",
   "language": "python",
   "name": "python3"
  },
  "language_info": {
   "codemirror_mode": {
    "name": "ipython",
    "version": 3
   },
   "file_extension": ".py",
   "mimetype": "text/x-python",
   "name": "python",
   "nbconvert_exporter": "python",
   "pygments_lexer": "ipython3",
   "version": "3.6.5"
  }
 },
 "nbformat": 4,
 "nbformat_minor": 2
}
