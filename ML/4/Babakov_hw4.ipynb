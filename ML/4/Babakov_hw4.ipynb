{
 "cells": [
  {
   "cell_type": "markdown",
   "metadata": {},
   "source": [
    "# Алгоритмы интеллектуальной обработки больших объемов данных\n",
    "## Домашнее задание №4 - Метод k-средних, предобработка признаков\n"
   ]
  },
  {
   "cell_type": "markdown",
   "metadata": {},
   "source": [
    "###### <hr\\>\n",
    "**Общая информация**\n",
    "\n",
    "**Срок сдачи:** 28 ноября 2018, 06:00 <br\\>\n",
    "**Штраф за опоздание:** -2 балла после 06:00 28 ноября, -4 балла после 06:00 5 декабря, -6 баллов после 06:00 12 декабря, -8 баллов после 19 декабря\n",
    "\n",
    "При отправлении ДЗ указывайте фамилию в названии файла\n",
    "Присылать ДЗ необходимо в виде ссылки на свой github репозиторий в slack @alkhamush\n",
    "\n",
    "Необходимо в slack создать таск в приватный чат:\n",
    "/todo Фамилия Имя ссылка на гитхаб @alkhamush\n",
    "Пример:\n",
    "/todo Ксения Стройкова https://github.com/stroykova/spheremailru/stroykova_hw1.ipynb @alkhamush\n",
    "Дополнительно нужно просто скинуть ссылку в slack в личный чат\n",
    "\n",
    "Используйте данный Ipython Notebook при оформлении домашнего задания."
   ]
  },
  {
   "cell_type": "markdown",
   "metadata": {},
   "source": [
    "# Имплементация K-means\n",
    "\n",
    "Пользуясь наработками выше, имплементируйте метод k-means.  \n",
    "При инициализации необходимо задавать количество кластеров, функцию расстояния между кластерами (для оригинального k-means - евклидово расстояние) и начальное состояние генератора случайных чисел.\n",
    "\n",
    "После обучения, среди атрибутов класса `Kmeans` должны появится\n",
    "* Метки кластеров для объектов\n",
    "* Координаты центройдов кластеров\n",
    "\n",
    "k-means - это алгоритм **кластеризации**, а не классификации, а посему метод `.predict()` в нем фактически не нужен, но он может возвращать метки ближайшего кластера для объектов."
   ]
  },
  {
   "cell_type": "markdown",
   "metadata": {},
   "source": [
    "###### Задание 1 (2 баллов)\n",
    "Имплементируйте метод k-means. Задание считается выполненным, если Ваша реализация работает быстрее реализации из sklearn.\n",
    "\n",
    "Теория для выполнения задания 2 и 3 остаётся на самостоятельное изучение. Теории немного и она совсем простая.\n",
    "\n",
    "###### Задание 2 (2 балла)\n",
    "Имплементируйте класс MiniBatchKMeans, который является классом наследником Kmeans.\n",
    "\n",
    "###### Задание 3 (2 балла)\n",
    "Превратите k-means в k-means++. Для этого нужно реализовать метод в классе Kmeans, который будет инициализировать более \"хорошие\" значения центроидов. Чтобы использовался метод k-means++, в параметр init необходимо передать строковое значение 'k-means' (по умолчанию 'random').\n",
    "\n",
    "###### Задание 4 (2 балла)\n",
    "В пункте \"Проверка корректности метода\" нужно нарисовать графики, которые показывают зависимость времени выполнения алгоритма от количества сэмплов. Графики должны быть  нарисованы для различных комбинаций реализаций алгоритма (k-means, k-means++, k-means с MiniBatchKMeans, k-means++ с MiniBatchKMeans). График достаточно построить на 5-10 точках.\n",
    "\n",
    "###### Задание 5 (2 балла)\n",
    "В пункте \"Применение K-means на реальных данных\" нужно сравнить различные реализации k-means (k-means, k-means++, k-means с MiniBatchKMeans, k-means++ с MiniBatchKMeans). После чего написать вывод, в котором должно быть объяснение того, почему один алгоритм оказался лучше остальных или почему не было выявлено лучшего алгоритма.\n",
    "\n",
    "**Штрафные баллы:**\n",
    "\n",
    "1. Невыполнение PEP8 -1 балл\n",
    "2. Отсутствие фамилии в имени скрипта (скрипт должен называться по аналогии со stroykova_hw4.ipynb) -1 балл\n",
    "3. Все строчки должны быть выполнены. Нужно, чтобы output команды можно было увидеть уже в git'е. В противном случае -1 балл\n",
    "4. При оформлении ДЗ нужно пользоваться данным файлом в качестве шаблона. Не нужно удалять и видоизменять написанный код и текст. В противном случае -1 балл\n",
    "<hr\\>"
   ]
  },
  {
   "cell_type": "code",
   "execution_count": 1,
   "metadata": {},
   "outputs": [],
   "source": [
    "import pandas as pd\n",
    "import numpy as np\n",
    "import matplotlib.pyplot as plt\n",
    "from scipy.spatial.distance import euclidean\n",
    "from sklearn.preprocessing import StandardScaler\n",
    "\n",
    "%matplotlib inline\n",
    "\n",
    "plt.style.use('ggplot')\n",
    "plt.rcParams['figure.figsize'] = (12,5)\n",
    "\n",
    "%load_ext pycodestyle_magic"
   ]
  },
  {
   "cell_type": "code",
   "execution_count": 33,
   "metadata": {},
   "outputs": [],
   "source": [
    "#%%pycodestyle\n",
    "\n",
    "\n",
    "def _distance_func(a, b):\n",
    "    a_2 = (a ** 2).sum(axis=1)\n",
    "    b_2 = (b ** 2).sum(axis=1)\n",
    "    ab = a.dot(b.T)\n",
    "    temp = a_2.reshape(-1, 1) - 2*ab + b_2\n",
    "    temp[temp < 0] = 0\n",
    "    return np.sqrt(temp)\n",
    "\n",
    "\n",
    "class MyKmeans:\n",
    "\n",
    "    def _rand_init(self, X):\n",
    "        self.centroids = X[np.random.choice(X.shape[0], size=self.k)]\n",
    "\n",
    "    def _better_init(self, X):\n",
    "        self.centroids[0] = X[np.random.choice(X.shape[0])]\n",
    "        for i in range(1, self.k):\n",
    "            dist_m = self.metric(X, self.centroids[:i, :]).min(axis=1)\n",
    "            self.centroids[i] = X[np.random.choice(X.shape[0],\n",
    "                                                   p=dist_m/dist_m.sum())]\n",
    "\n",
    "    def __init__(self, k=2, metric='euclidean', max_iter=1000,\n",
    "                 random_state=None, init='random'):\n",
    "        \"\"\"\n",
    "        Инициализация метода\n",
    "        :k - количество кластеров\n",
    "        :metric - функция расстояния между объектами\n",
    "        :max_iter - максиальное количество итераций\n",
    "        :random_state - seed для инициализации генератора случайных чисел\n",
    "        \"\"\"\n",
    "\n",
    "        self.k = k\n",
    "        self.random_state = random_state\n",
    "        self.metric = _distance_func\n",
    "        if init == 'random':\n",
    "            self.centroids_init = self._rand_init\n",
    "        elif init == 'k-means':\n",
    "            self.centroids_init = self._better_init\n",
    "        self.max_iter = max_iter\n",
    "        self.epsilon = 0.1\n",
    "\n",
    "    def fit(self, X, y=None):\n",
    "        \"\"\"\n",
    "        Процедура обучения k-means\n",
    "        \"\"\"\n",
    "\n",
    "        # Инициализация генератора случайных чисел\n",
    "        np.random.seed(self.random_state)\n",
    "\n",
    "        # Массив с метками кластеров для каждого объекта из X\n",
    "        self.labels = np.empty(X.shape[0])\n",
    "\n",
    "        # Массив с центройдами кластеров\n",
    "        self.centroids = np.empty((self.k, X.shape[1]))\n",
    "\n",
    "        # Your Code Here\n",
    "        self.centroids_init(X)\n",
    "\n",
    "        for _ in range(self.max_iter):\n",
    "            new_centroids = np.empty((self.k, X.shape[1]))\n",
    "            self.labels = self.metric(X, self.centroids).argmin(axis=1)\n",
    "            for i in range(self.k):\n",
    "                if np.any(self.labels == i):\n",
    "                    new_centroids[i] = np.mean(X[self.labels == i], axis=0)\n",
    "                else:\n",
    "                    new_centroids[i] = X[np.random.choice(X.shape[0])]\n",
    "            if np.all(np.abs(new_centroids - self.centroids) < self.epsilon):\n",
    "                break\n",
    "            self.centroids = np.copy(new_centroids)\n",
    "        return self\n",
    "\n",
    "    def predict(self, X, y=None):\n",
    "        \"\"\"\n",
    "        Процедура предсказания кластера\n",
    "\n",
    "        Возвращает метку ближайшего кластера для каждого объекта\n",
    "        \"\"\"\n",
    "        return self.metric(X, self.centroids).argmin(axis=1)\n",
    "\n",
    "\n",
    "class MiniBatchKMeans(MyKmeans):\n",
    "\n",
    "    def __init__(self, k=2, metric='euclidean', max_iter=1000,\n",
    "                 random_state=None, init='random', batch_size=100):\n",
    "\n",
    "        super(MiniBatchKMeans, self).__init__(k=k, metric=_distance_func,\n",
    "                                              max_iter=max_iter,\n",
    "                                              random_state=random_state,\n",
    "                                              init=init)\n",
    "        self.batch_size = batch_size\n",
    "\n",
    "    def fit(self, X, y=None):\n",
    "        np.random.seed(self.random_state)\n",
    "        self.labels = np.empty(X.shape[0])\n",
    "        self.centroids = np.empty((self.k, X.shape[1]))\n",
    "        amount_matrix = np.zeros(self.k)\n",
    "\n",
    "        self.centroids_init(X)\n",
    "\n",
    "        for _ in range(self.max_iter):\n",
    "            rand_m = X[np.random.choice(X.shape[0],\n",
    "                                        size=self.batch_size,\n",
    "                                        replace=False)]\n",
    "            self.labels = self.metric(rand_m, self.centroids).argmin(axis=1)\n",
    "            new_centroids = np.copy(self.centroids)\n",
    "            for i in range(rand_m.shape[0]):\n",
    "                cluster = self.labels[i]\n",
    "                amount_matrix[cluster] += 1\n",
    "                w = 1 / amount_matrix[cluster]\n",
    "                new_centroids[cluster] = (1 - w) * new_centroids[cluster] +\\\n",
    "                    w * rand_m[i]\n",
    "            if np.all(np.abs(new_centroids - self.centroids) <= self.epsilon):\n",
    "                break\n",
    "            self.centroids = np.copy(new_centroids)\n",
    "        self.labels = self.metric(X, self.centroids).argmin(axis=1)\n",
    "\n",
    "        return self"
   ]
  },
  {
   "cell_type": "markdown",
   "metadata": {},
   "source": [
    "### Проверка корректности метода\n",
    "\n",
    "Перед тем как применять алгоритм на реальных данных, нужно испытать его на простых \"игрушечных\" данных.\n",
    "\n",
    "Если алгоритм реализован правильно, то метод должен идеально разбивать на 3 кластера данные ниже. Проверьте это.\n",
    "\n",
    "ВНИМАНИЕ! Проверка должна быть осуществлена на всех реализациях, иначе реализация не будет зачтена!"
   ]
  },
  {
   "cell_type": "code",
   "execution_count": 3,
   "metadata": {},
   "outputs": [],
   "source": [
    "from sklearn.datasets import make_blobs"
   ]
  },
  {
   "cell_type": "code",
   "execution_count": 4,
   "metadata": {},
   "outputs": [],
   "source": [
    "X, y = make_blobs(n_samples=100, n_features=2, centers=3, cluster_std=1, \n",
    "           center_box=(-10.0, 10.0), shuffle=False, random_state=1234)"
   ]
  },
  {
   "cell_type": "code",
   "execution_count": 5,
   "metadata": {},
   "outputs": [
    {
     "data": {
      "text/plain": [
       "<matplotlib.collections.PathCollection at 0x1bc4adc9630>"
      ]
     },
     "execution_count": 5,
     "metadata": {},
     "output_type": "execute_result"
    },
    {
     "data": {
      "image/png": "[encoded data removed]",
      "text/plain": [
       "<Figure size 432x288 with 1 Axes>"
      ]
     },
     "metadata": {},
     "output_type": "display_data"
    }
   ],
   "source": [
    "plt.scatter(X[:,0], X[:, 1], c=y)"
   ]
  },
  {
   "cell_type": "markdown",
   "metadata": {},
   "source": [
    "Проверьте Вашу имплементацию на простых данных (без этого пункта ДЗ не считается выполненным).   \n",
    "КОММЕНТАРИИ НЕ СТИРАТЬ!"
   ]
  },
  {
   "cell_type": "code",
   "execution_count": 6,
   "metadata": {},
   "outputs": [],
   "source": [
    "def check_method(method, X):\n",
    "    labels = method.fit(X).labels\n",
    "\n",
    "    for centroid in method.centroids:\n",
    "        plt.scatter(centroid[0], centroid[1], s=337)\n",
    "    plt.scatter(X[:, 0], X[:, 1], c=y)\n"
   ]
  },
  {
   "cell_type": "code",
   "execution_count": 7,
   "metadata": {},
   "outputs": [
    {
     "data": {
      "image/png": "[encoded data removed]",
      "text/plain": [
       "<Figure size 432x288 with 1 Axes>"
      ]
     },
     "metadata": {},
     "output_type": "display_data"
    }
   ],
   "source": [
    "## Работоспособность MyKmeans\n",
    "check_method(MyKmeans(k=3, random_state=42), X)"
   ]
  },
  {
   "cell_type": "code",
   "execution_count": 8,
   "metadata": {},
   "outputs": [
    {
     "data": {
      "image/png": "[encoded data removed]",
      "text/plain": [
       "<Figure size 432x288 with 1 Axes>"
      ]
     },
     "metadata": {},
     "output_type": "display_data"
    }
   ],
   "source": [
    "## Работоспособность MyKmeans++\n",
    "check_method(MyKmeans(k=3, random_state=42), X)"
   ]
  },
  {
   "cell_type": "code",
   "execution_count": 9,
   "metadata": {},
   "outputs": [
    {
     "data": {
      "image/png": "[encoded data removed]",
      "text/plain": [
       "<Figure size 432x288 with 1 Axes>"
      ]
     },
     "metadata": {},
     "output_type": "display_data"
    }
   ],
   "source": [
    "## Работоспособность MyKmeans с MiniBatchMyKmeans\n",
    "check_method(MiniBatchKMeans(k=3, random_state=42, batch_size=10), X)"
   ]
  },
  {
   "cell_type": "code",
   "execution_count": 10,
   "metadata": {},
   "outputs": [
    {
     "data": {
      "image/png": "[encoded data removed]",
      "text/plain": [
       "<Figure size 432x288 with 1 Axes>"
      ]
     },
     "metadata": {},
     "output_type": "display_data"
    }
   ],
   "source": [
    "## Работоспособность MyKmeans++ с MiniBatchMyKmeans\n",
    "check_method(MiniBatchKMeans(k=3, random_state=42, init='k-means', batch_size=10), X)"
   ]
  },
  {
   "cell_type": "code",
   "execution_count": 11,
   "metadata": {},
   "outputs": [],
   "source": [
    "from sklearn.cluster import KMeans\n",
    "alg = KMeans(n_clusters=3, random_state=42)"
   ]
  },
  {
   "cell_type": "code",
   "execution_count": 12,
   "metadata": {},
   "outputs": [
    {
     "name": "stdout",
     "output_type": "stream",
     "text": [
      "Wall time: 14.9 ms\n"
     ]
    },
    {
     "data": {
      "text/plain": [
       "KMeans(algorithm='auto', copy_x=True, init='k-means++', max_iter=300,\n",
       "    n_clusters=3, n_init=10, n_jobs=1, precompute_distances='auto',\n",
       "    random_state=42, tol=0.0001, verbose=0)"
      ]
     },
     "execution_count": 12,
     "metadata": {},
     "output_type": "execute_result"
    }
   ],
   "source": [
    "%%time\n",
    "## Время выполнения алгоритма Kmeans из sklearn\n",
    "alg.fit(X)"
   ]
  },
  {
   "cell_type": "code",
   "execution_count": 13,
   "metadata": {},
   "outputs": [],
   "source": [
    "alg = MyKmeans(k=3, random_state=42)"
   ]
  },
  {
   "cell_type": "code",
   "execution_count": 14,
   "metadata": {},
   "outputs": [
    {
     "name": "stdout",
     "output_type": "stream",
     "text": [
      "Wall time: 1.01 ms\n"
     ]
    },
    {
     "data": {
      "text/plain": [
       "<__main__.MyKmeans at 0x1bc4c1efb70>"
      ]
     },
     "execution_count": 14,
     "metadata": {},
     "output_type": "execute_result"
    }
   ],
   "source": [
    "%%time\n",
    "## Время выполнения алгоритма MyKmeans\n",
    "alg.fit(X)"
   ]
  },
  {
   "cell_type": "code",
   "execution_count": 15,
   "metadata": {},
   "outputs": [],
   "source": [
    "alg = MyKmeans(k=3, random_state=42, init='k-means')"
   ]
  },
  {
   "cell_type": "code",
   "execution_count": 16,
   "metadata": {},
   "outputs": [
    {
     "name": "stdout",
     "output_type": "stream",
     "text": [
      "Wall time: 1.48 ms\n"
     ]
    },
    {
     "data": {
      "text/plain": [
       "<__main__.MyKmeans at 0x1bc4c6240b8>"
      ]
     },
     "execution_count": 16,
     "metadata": {},
     "output_type": "execute_result"
    }
   ],
   "source": [
    "%%time\n",
    "## Время выполнения алгоритма MyKmeans++\n",
    "alg.fit(X)"
   ]
  },
  {
   "cell_type": "code",
   "execution_count": 17,
   "metadata": {},
   "outputs": [],
   "source": [
    "alg = MiniBatchKMeans(k=3, random_state=42)"
   ]
  },
  {
   "cell_type": "code",
   "execution_count": 18,
   "metadata": {},
   "outputs": [
    {
     "name": "stdout",
     "output_type": "stream",
     "text": [
      "Wall time: 2.48 ms\n"
     ]
    },
    {
     "data": {
      "text/plain": [
       "<__main__.MiniBatchKMeans at 0x1bc4c624080>"
      ]
     },
     "execution_count": 18,
     "metadata": {},
     "output_type": "execute_result"
    }
   ],
   "source": [
    "%%time\n",
    "## Время выполнения алгоритма MyKmeans с MiniBatchMyKmeans\n",
    "alg.fit(X)"
   ]
  },
  {
   "cell_type": "code",
   "execution_count": 19,
   "metadata": {},
   "outputs": [],
   "source": [
    "alg = MiniBatchKMeans(k=3, random_state=42, init='k-means')"
   ]
  },
  {
   "cell_type": "code",
   "execution_count": 20,
   "metadata": {},
   "outputs": [
    {
     "name": "stdout",
     "output_type": "stream",
     "text": [
      "Wall time: 11.9 ms\n"
     ]
    },
    {
     "data": {
      "text/plain": [
       "<__main__.MiniBatchKMeans at 0x1bc4c624390>"
      ]
     },
     "execution_count": 20,
     "metadata": {},
     "output_type": "execute_result"
    }
   ],
   "source": [
    "%%time\n",
    "## Время выполнения алгоритма  MyKmeans++ с MiniBatchMyKmeans\n",
    "alg.fit(X)"
   ]
  },
  {
   "cell_type": "code",
   "execution_count": 31,
   "metadata": {},
   "outputs": [
    {
     "data": {
      "image/png": "[encoded data removed]",
      "text/plain": [
       "<Figure size 432x288 with 1 Axes>"
      ]
     },
     "metadata": {},
     "output_type": "display_data"
    }
   ],
   "source": [
    "from timeit import default_timer\n",
    "\n",
    "sizes = np.linspace(10, 100000, 12, dtype=int)\n",
    "methods = [(KMeans(n_clusters=3, max_iter=100), 'sklearn KMeans'),\n",
    "          (MyKmeans(k=3, max_iter=100, \n",
    "                    random_state=42), 'MyKmeans'),\n",
    "          (MyKmeans(k=3, max_iter=100, random_state=42,\n",
    "                    init='k-means'), 'MyKmeans++'),\n",
    "          (MiniBatchKMeans(k=3, max_iter=100, random_state=42, \n",
    "                           batch_size=10), 'MiniBatchKMeans'),\n",
    "          (MiniBatchKMeans(k=3, max_iter=100, random_state=42,\n",
    "                           init='k-means', batch_size=10), \n",
    "                           'MiniBatchKMeans++')]\n",
    "time = np.empty((len(methods), sizes.shape[0]))\n",
    "\n",
    "for a, k in enumerate(sizes):\n",
    "    X, y = make_blobs(n_samples=k, n_features=2, centers=3,\n",
    "                      cluster_std=1, shuffle=True, random_state=42)\n",
    "\n",
    "    for b, method in enumerate(methods):\n",
    "        time0 = default_timer()\n",
    "        method[0].fit(X)\n",
    "        time[b][a] = default_timer() - time0\n",
    "\n",
    "for i, method in enumerate(methods):\n",
    "    plt.plot(sizes, time[i], label=method[1])\n",
    "\n",
    "plt.xlabel('Количество сэмплов')\n",
    "plt.ylabel('Время работы')\n",
    "plt.legend()\n",
    "plt.show()"
   ]
  },
  {
   "cell_type": "markdown",
   "metadata": {},
   "source": [
    "# Применение K-means на реальных данных"
   ]
  },
  {
   "cell_type": "markdown",
   "metadata": {},
   "source": [
    "Загрузите [данные](https://github.com/brenden17/sklearnlab/blob/master/facebook/snsdata.csv) в которых содержится описание интересов профилей учеников старшей школы США.  (без этого пункта задание не считается выполненным).   \n",
    "ВНИМАНИЕ! Проверка должна быть осуществлена на всех реализациях, иначе реализация не будет зачтена!"
   ]
  },
  {
   "cell_type": "code",
   "execution_count": 22,
   "metadata": {},
   "outputs": [
    {
     "data": {
      "text/html": [
       "<div>\n",
       "<style scoped>\n",
       "    .dataframe tbody tr th:only-of-type {\n",
       "        vertical-align: middle;\n",
       "    }\n",
       "\n",
       "    .dataframe tbody tr th {\n",
       "        vertical-align: top;\n",
       "    }\n",
       "\n",
       "    .dataframe thead th {\n",
       "        text-align: right;\n",
       "    }\n",
       "</style>\n",
       "<table border=\"1\" class=\"dataframe\">\n",
       "  <thead>\n",
       "    <tr style=\"text-align: right;\">\n",
       "      <th></th>\n",
       "      <th>gradyear</th>\n",
       "      <th>gender</th>\n",
       "      <th>age</th>\n",
       "      <th>friends</th>\n",
       "      <th>basketball</th>\n",
       "      <th>football</th>\n",
       "      <th>soccer</th>\n",
       "      <th>softball</th>\n",
       "      <th>volleyball</th>\n",
       "      <th>swimming</th>\n",
       "      <th>...</th>\n",
       "      <th>blonde</th>\n",
       "      <th>mall</th>\n",
       "      <th>shopping</th>\n",
       "      <th>clothes</th>\n",
       "      <th>hollister</th>\n",
       "      <th>abercrombie</th>\n",
       "      <th>die</th>\n",
       "      <th>death</th>\n",
       "      <th>drunk</th>\n",
       "      <th>drugs</th>\n",
       "    </tr>\n",
       "  </thead>\n",
       "  <tbody>\n",
       "    <tr>\n",
       "      <th>0</th>\n",
       "      <td>2006</td>\n",
       "      <td>M</td>\n",
       "      <td>18.982</td>\n",
       "      <td>7</td>\n",
       "      <td>0</td>\n",
       "      <td>0</td>\n",
       "      <td>0</td>\n",
       "      <td>0</td>\n",
       "      <td>0</td>\n",
       "      <td>0</td>\n",
       "      <td>...</td>\n",
       "      <td>0</td>\n",
       "      <td>0</td>\n",
       "      <td>0</td>\n",
       "      <td>0</td>\n",
       "      <td>0</td>\n",
       "      <td>0</td>\n",
       "      <td>0</td>\n",
       "      <td>0</td>\n",
       "      <td>0</td>\n",
       "      <td>0</td>\n",
       "    </tr>\n",
       "    <tr>\n",
       "      <th>1</th>\n",
       "      <td>2006</td>\n",
       "      <td>F</td>\n",
       "      <td>18.801</td>\n",
       "      <td>0</td>\n",
       "      <td>0</td>\n",
       "      <td>1</td>\n",
       "      <td>0</td>\n",
       "      <td>0</td>\n",
       "      <td>0</td>\n",
       "      <td>0</td>\n",
       "      <td>...</td>\n",
       "      <td>0</td>\n",
       "      <td>1</td>\n",
       "      <td>0</td>\n",
       "      <td>0</td>\n",
       "      <td>0</td>\n",
       "      <td>0</td>\n",
       "      <td>0</td>\n",
       "      <td>0</td>\n",
       "      <td>0</td>\n",
       "      <td>0</td>\n",
       "    </tr>\n",
       "    <tr>\n",
       "      <th>2</th>\n",
       "      <td>2006</td>\n",
       "      <td>M</td>\n",
       "      <td>18.335</td>\n",
       "      <td>69</td>\n",
       "      <td>0</td>\n",
       "      <td>1</td>\n",
       "      <td>0</td>\n",
       "      <td>0</td>\n",
       "      <td>0</td>\n",
       "      <td>0</td>\n",
       "      <td>...</td>\n",
       "      <td>0</td>\n",
       "      <td>0</td>\n",
       "      <td>0</td>\n",
       "      <td>0</td>\n",
       "      <td>0</td>\n",
       "      <td>0</td>\n",
       "      <td>0</td>\n",
       "      <td>1</td>\n",
       "      <td>0</td>\n",
       "      <td>0</td>\n",
       "    </tr>\n",
       "    <tr>\n",
       "      <th>3</th>\n",
       "      <td>2006</td>\n",
       "      <td>F</td>\n",
       "      <td>18.875</td>\n",
       "      <td>0</td>\n",
       "      <td>0</td>\n",
       "      <td>0</td>\n",
       "      <td>0</td>\n",
       "      <td>0</td>\n",
       "      <td>0</td>\n",
       "      <td>0</td>\n",
       "      <td>...</td>\n",
       "      <td>0</td>\n",
       "      <td>0</td>\n",
       "      <td>0</td>\n",
       "      <td>0</td>\n",
       "      <td>0</td>\n",
       "      <td>0</td>\n",
       "      <td>0</td>\n",
       "      <td>0</td>\n",
       "      <td>0</td>\n",
       "      <td>0</td>\n",
       "    </tr>\n",
       "    <tr>\n",
       "      <th>4</th>\n",
       "      <td>2006</td>\n",
       "      <td>NaN</td>\n",
       "      <td>18.995</td>\n",
       "      <td>10</td>\n",
       "      <td>0</td>\n",
       "      <td>0</td>\n",
       "      <td>0</td>\n",
       "      <td>0</td>\n",
       "      <td>0</td>\n",
       "      <td>0</td>\n",
       "      <td>...</td>\n",
       "      <td>0</td>\n",
       "      <td>0</td>\n",
       "      <td>2</td>\n",
       "      <td>0</td>\n",
       "      <td>0</td>\n",
       "      <td>0</td>\n",
       "      <td>0</td>\n",
       "      <td>0</td>\n",
       "      <td>1</td>\n",
       "      <td>1</td>\n",
       "    </tr>\n",
       "  </tbody>\n",
       "</table>\n",
       "<p>5 rows × 40 columns</p>\n",
       "</div>"
      ],
      "text/plain": [
       "   gradyear gender     age  friends  basketball  football  soccer  softball  \\\n",
       "0      2006      M  18.982        7           0         0       0         0   \n",
       "1      2006      F  18.801        0           0         1       0         0   \n",
       "2      2006      M  18.335       69           0         1       0         0   \n",
       "3      2006      F  18.875        0           0         0       0         0   \n",
       "4      2006    NaN  18.995       10           0         0       0         0   \n",
       "\n",
       "   volleyball  swimming  ...    blonde  mall  shopping  clothes  hollister  \\\n",
       "0           0         0  ...         0     0         0        0          0   \n",
       "1           0         0  ...         0     1         0        0          0   \n",
       "2           0         0  ...         0     0         0        0          0   \n",
       "3           0         0  ...         0     0         0        0          0   \n",
       "4           0         0  ...         0     0         2        0          0   \n",
       "\n",
       "   abercrombie  die  death  drunk  drugs  \n",
       "0            0    0      0      0      0  \n",
       "1            0    0      0      0      0  \n",
       "2            0    0      1      0      0  \n",
       "3            0    0      0      0      0  \n",
       "4            0    0      0      1      1  \n",
       "\n",
       "[5 rows x 40 columns]"
      ]
     },
     "execution_count": 22,
     "metadata": {},
     "output_type": "execute_result"
    }
   ],
   "source": [
    "df_sns = pd.read_csv('snsdata.csv', sep=',')\n",
    "df_sns.head()"
   ]
  },
  {
   "cell_type": "markdown",
   "metadata": {},
   "source": [
    "Данные устроены так: \n",
    "* Год выпуска\n",
    "* Пол\n",
    "* Возраст\n",
    "* Количество друзей\n",
    "* 36 ключевых слов, которые встречаются в профилe facebook (интересы, сообщества, встречи)"
   ]
  },
  {
   "cell_type": "markdown",
   "metadata": {},
   "source": [
    "* Удалите все признаки кроме 36 ключевых слов.\n",
    "* Нормализуйте данные - из каждого столбца вычтите его среднее значение и поделите на стандартное отклонение.\n",
    "* Используйте метод k-means чтобы выделить 9 кластеров\n",
    "* Попробуйте проинтерпретировать каждый кластер проанализировав полученные центройды (Некоторые кластеры могут быть очень большие и очень маленькие - плохо интерпретируются)   \n",
    "КОММЕНТАРИИ НЕ СТИРАТЬ!"
   ]
  },
  {
   "cell_type": "code",
   "execution_count": 23,
   "metadata": {},
   "outputs": [
    {
     "name": "stderr",
     "output_type": "stream",
     "text": [
      "C:\\Users\\Admin\\Anaconda3\\lib\\site-packages\\sklearn\\utils\\validation.py:475: DataConversionWarning: Data with input dtype int64 was converted to float64 by StandardScaler.\n",
      "  warnings.warn(msg, DataConversionWarning)\n"
     ]
    }
   ],
   "source": [
    "df = df_sns.drop(['gradyear', 'gender', 'age', 'friends'], axis=1)\n",
    "X = df.values\n",
    "scaler = StandardScaler()\n",
    "scaler.fit(X)\n",
    "X = scaler.transform(X)"
   ]
  },
  {
   "cell_type": "code",
   "execution_count": 24,
   "metadata": {},
   "outputs": [],
   "source": [
    "def n_top(method, X, n=10, cluster_amount=9):\n",
    "    method.fit(X)\n",
    "    for i in range(cluster_amount):\n",
    "        print(\"Кластер {} с количеством элементов {}:\".format(i+1, X[method.labels == i].shape[0]))\n",
    "        print(df.columns[X[method.labels == i].sum(axis=0).argsort()[-n:][::-1]].values)\n",
    "        "
   ]
  },
  {
   "cell_type": "code",
   "execution_count": 25,
   "metadata": {},
   "outputs": [
    {
     "name": "stdout",
     "output_type": "stream",
     "text": [
      "Кластер 1 с количеством элементов 19370:\n",
      "['blonde' 'tennis' 'death' 'soccer' 'jesus' 'bible' 'drunk' 'die' 'sex'\n",
      " 'marching']\n",
      "Кластер 2 с количеством элементов 896:\n",
      "['kissed' 'drugs' 'hair' 'sex' 'drunk' 'die' 'clothes' 'rock' 'music'\n",
      " 'death']\n",
      "Кластер 3 с количеством элементов 914:\n",
      "['dance' 'dress' 'music' 'cute' 'shopping' 'hair' 'mall' 'church' 'rock'\n",
      " 'hot']\n",
      "Кластер 4 с количеством элементов 554:\n",
      "['sexy' 'cute' 'hot' 'sex' 'hair' 'rock' 'drunk' 'clothes' 'dance'\n",
      " 'basketball']\n",
      "Кластер 5 с количеством элементов 4172:\n",
      "['shopping' 'cute' 'mall' 'dress' 'clothes' 'swimming' 'hot'\n",
      " 'cheerleading' 'hair' 'music']\n",
      "Кластер 6 с количеством элементов 548:\n",
      "['bible' 'jesus' 'god' 'church' 'death' 'die' 'music' 'rock' 'swimming'\n",
      " 'band']\n",
      "Кластер 7 с количеством элементов 2129:\n",
      "['basketball' 'baseball' 'softball' 'volleyball' 'football' 'sports'\n",
      " 'soccer' 'rock' 'church' 'tennis']\n",
      "Кластер 8 с количеством элементов 574:\n",
      "['marching' 'band' 'music' 'rock' 'football' 'god' 'tennis' 'dress'\n",
      " 'swimming' 'church']\n",
      "Кластер 9 с количеством элементов 843:\n",
      "['hollister' 'abercrombie' 'shopping' 'mall' 'clothes' 'hair'\n",
      " 'cheerleading' 'hot' 'cute' 'swimming']\n"
     ]
    }
   ],
   "source": [
    "## MyKMeans\n",
    "n_top(MyKmeans(k=9, random_state=42), X)"
   ]
  },
  {
   "cell_type": "markdown",
   "metadata": {},
   "source": [
    "1. Кластер слишком большой, делать выводы сложно и бессмыссленно\n",
    "2. Люди с интересным досугом\n",
    "3. Предположительно девушки\n",
    "4. Предположительно молодые люди в совокупности\n",
    "5. Предположительно девушки\n",
    "6. Чуть более религиозные люди\n",
    "7. Любители спорта\n",
    "8. Люди, предпочитающие активный отдых\n",
    "9. Люди, активно пользующиеся Интернет-покупками"
   ]
  },
  {
   "cell_type": "code",
   "execution_count": 26,
   "metadata": {},
   "outputs": [
    {
     "name": "stdout",
     "output_type": "stream",
     "text": [
      "Кластер 1 с количеством элементов 20881:\n",
      "['marching' 'blonde' 'band' 'jesus' 'bible' 'tennis' 'death' 'swimming'\n",
      " 'god' 'die']\n",
      "Кластер 2 с количеством элементов 148:\n",
      "['kissed' 'sex' 'hair' 'rock' 'music' 'drugs' 'sports' 'clothes' 'die'\n",
      " 'drunk']\n",
      "Кластер 3 с количеством элементов 1234:\n",
      "['drugs' 'kissed' 'drunk' 'hair' 'die' 'sex' 'clothes' 'death' 'music'\n",
      " 'band']\n",
      "Кластер 4 с количеством элементов 773:\n",
      "['cheerleading' 'bible' 'jesus' 'god' 'church' 'shopping' 'football' 'hot'\n",
      " 'hollister' 'abercrombie']\n",
      "Кластер 5 с количеством элементов 392:\n",
      "['volleyball' 'softball' 'basketball' 'shopping' 'sports' 'football'\n",
      " 'swimming' 'cute' 'hot' 'church']\n",
      "Кластер 6 с количеством элементов 1:\n",
      "['blonde' 'sex' 'drunk' 'death' 'hair' 'die' 'god' 'dress' 'football'\n",
      " 'clothes']\n",
      "Кластер 7 с количеством элементов 2776:\n",
      "['football' 'basketball' 'baseball' 'sports' 'soccer' 'softball' 'tennis'\n",
      " 'church' 'rock' 'volleyball']\n",
      "Кластер 8 с количеством элементов 3237:\n",
      "['shopping' 'hollister' 'abercrombie' 'mall' 'cute' 'dance' 'clothes'\n",
      " 'dress' 'hot' 'church']\n",
      "Кластер 9 с количеством элементов 558:\n",
      "['sexy' 'cute' 'hot' 'hair' 'sex' 'dance' 'clothes' 'rock' 'drunk'\n",
      " 'basketball']\n"
     ]
    }
   ],
   "source": [
    "## MyKMeans++\n",
    "n_top(MyKmeans(k=9, random_state=42, init='k-means'), X)"
   ]
  },
  {
   "cell_type": "markdown",
   "metadata": {},
   "source": [
    "1. Кластер слишком большой, делать выводы сложно и бессмыссленно\n",
    "2. Люди с интересным досугом\n",
    "3. (Если воспринимать 'drugs' как 'лекарства')Болезные любители поцелуев и опьянения\n",
    "4. Религиозные люди\n",
    "5. Любители спорта\n",
    "6. Кластер слишком мал, чтобы его отдельно анализировать\n",
    "7. Любители спорта\n",
    "8. Интернет-покупатели\n",
    "9. Допустим, девушки"
   ]
  },
  {
   "cell_type": "code",
   "execution_count": 27,
   "metadata": {},
   "outputs": [
    {
     "name": "stdout",
     "output_type": "stream",
     "text": [
      "Кластер 1 с количеством элементов 2541:\n",
      "['swimming' 'soccer' 'volleyball' 'tennis' 'shopping' 'music' 'sports'\n",
      " 'blonde' 'rock' 'basketball']\n",
      "Кластер 2 с количеством элементов 684:\n",
      "['drugs' 'kissed' 'hair' 'sex' 'drunk' 'music' 'die' 'clothes' 'rock'\n",
      " 'sports']\n",
      "Кластер 3 с количеством элементов 1553:\n",
      "['dance' 'hot' 'mall' 'cute' 'hair' 'clothes' 'rock' 'shopping' 'music'\n",
      " 'church']\n",
      "Кластер 4 с количеством элементов 824:\n",
      "['dress' 'sexy' 'cute' 'shopping' 'hair' 'dance' 'clothes' 'hot' 'mall'\n",
      " 'sex']\n",
      "Кластер 5 с количеством элементов 2272:\n",
      "['shopping' 'marching' 'cheerleading' 'band' 'clothes' 'cute' 'mall'\n",
      " 'tennis' 'music' 'church']\n",
      "Кластер 6 с количеством элементов 1600:\n",
      "['die' 'basketball' 'sports' 'death' 'softball' 'volleyball' 'rock' 'god'\n",
      " 'music' 'hair']\n",
      "Кластер 7 с количеством элементов 17237:\n",
      "['blonde' 'tennis' 'drunk' 'bible' 'sex' 'jesus' 'softball' 'marching'\n",
      " 'sexy' 'death']\n",
      "Кластер 8 с количеством элементов 2442:\n",
      "['football' 'church' 'baseball' 'bible' 'jesus' 'god' 'basketball'\n",
      " 'sports' 'music' 'rock']\n",
      "Кластер 9 с количеством элементов 847:\n",
      "['hollister' 'abercrombie' 'shopping' 'mall' 'clothes' 'hair'\n",
      " 'cheerleading' 'hot' 'cute' 'football']\n"
     ]
    }
   ],
   "source": [
    "## MyKMeans с MiniBatchMyKMeans\n",
    "n_top(MiniBatchKMeans(k=9, random_state=42), X)"
   ]
  },
  {
   "cell_type": "markdown",
   "metadata": {},
   "source": [
    "1. Любители спорта\n",
    "2. Люди с интересным досугом\n",
    "3. Девушки\n",
    "4. Девушки\n",
    "5. Девушки, предпочитающие активный отдых\n",
    "6. Любители спорта, слушающие дэт-металл\n",
    "7. Большой кластер, не анализируется в элементарных функциях\n",
    "8. Любители спорта, религиозные\n",
    "9. Интернет-покупатели"
   ]
  },
  {
   "cell_type": "code",
   "execution_count": 28,
   "metadata": {},
   "outputs": [
    {
     "name": "stdout",
     "output_type": "stream",
     "text": [
      "Кластер 1 с количеством элементов 22842:\n",
      "['bible' 'blonde' 'tennis' 'jesus' 'marching' 'swimming' 'death' 'god'\n",
      " 'band' 'softball']\n",
      "Кластер 2 с количеством элементов 13:\n",
      "['sex' 'kissed' 'hair' 'sports' 'drugs' 'music' 'abercrombie' 'clothes'\n",
      " 'death' 'die']\n",
      "Кластер 3 с количеством элементов 609:\n",
      "['drugs' 'marching' 'band' 'hair' 'kissed' 'sex' 'music' 'drunk' 'die'\n",
      " 'rock']\n",
      "Кластер 4 с количеством элементов 475:\n",
      "['cheerleading' 'shopping' 'abercrombie' 'hollister' 'football' 'cute'\n",
      " 'hot' 'mall' 'dance' 'church']\n",
      "Кластер 5 с количеством элементов 379:\n",
      "['volleyball' 'softball' 'basketball' 'shopping' 'sports' 'football'\n",
      " 'swimming' 'church' 'hot' 'cute']\n",
      "Кластер 6 с количеством элементов 1:\n",
      "['blonde' 'sex' 'drunk' 'death' 'hair' 'die' 'god' 'dress' 'football'\n",
      " 'clothes']\n",
      "Кластер 7 с количеством элементов 2604:\n",
      "['football' 'baseball' 'sports' 'basketball' 'soccer' 'softball' 'church'\n",
      " 'rock' 'tennis' 'jesus']\n",
      "Кластер 8 с количеством элементов 2952:\n",
      "['clothes' 'hair' 'shopping' 'dance' 'cute' 'dress' 'mall' 'hollister'\n",
      " 'abercrombie' 'kissed']\n",
      "Кластер 9 с количеством элементов 125:\n",
      "['sexy' 'cute' 'die' 'sex' 'drunk' 'dance' 'rock' 'hot' 'dress' 'hair']\n"
     ]
    }
   ],
   "source": [
    "## MyKMeans++ с MiniBatchMyKMeans\n",
    "n_top(MiniBatchKMeans(k=9, random_state=42, init='k-means'), X)"
   ]
  },
  {
   "cell_type": "markdown",
   "metadata": {},
   "source": [
    "1. Большой кластер, не берётся анализом глазами\n",
    "2. Малый кластер, зачем обращать на него внимание\n",
    "3. Болезные люди, предпочитащие активный отдых\n",
    "4. Девушки\n",
    "5. Любители спорта\n",
    "6. Ещё один малый кластер\n",
    "7. Любители спорта\n",
    "8. Девушки\n",
    "9. Что-то невнятное"
   ]
  },
  {
   "cell_type": "markdown",
   "metadata": {},
   "source": [
    "## Вывод\n",
    "\n",
    "Не могу выявить однозначно лучшего метода. Все работают примерно одинаковое время на предложенных данных, и причём практически одинаково хорошо. В ++-версиях из-за улучшенной инициализции центроидов получились кластеры, менее похожие друг на друга, чем в обычных версиях (то есть, наверняка, это говорит о том, что ++-версии методов объективно лучше)"
   ]
  }
 ],
 "metadata": {
  "anaconda-cloud": {},
  "kernelspec": {
   "display_name": "Python 3",
   "language": "python",
   "name": "python3"
  },
  "language_info": {
   "codemirror_mode": {
    "name": "ipython",
    "version": 3
   },
   "file_extension": ".py",
   "mimetype": "text/x-python",
   "name": "python",
   "nbconvert_exporter": "python",
   "pygments_lexer": "ipython3",
   "version": "3.6.5"
  },
  "nav_menu": {},
  "toc": {
   "navigate_menu": true,
   "number_sections": false,
   "sideBar": true,
   "threshold": 6,
   "toc_cell": false,
   "toc_section_display": "block",
   "toc_window_display": true
  }
 },
 "nbformat": 4,
 "nbformat_minor": 2
}
