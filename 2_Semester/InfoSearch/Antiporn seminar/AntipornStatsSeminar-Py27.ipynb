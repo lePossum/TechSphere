{
 "cells": [
  {
   "cell_type": "markdown",
   "metadata": {},
   "source": [
    "# ** Описание **"
   ]
  },
  {
   "cell_type": "raw",
   "metadata": {},
   "source": [
    "Ссылка на соревнование:\n",
    "https://kaggle.com/join/antoporn_bayes\n",
    "Ссылка на данные:\n",
    "https://inclass.kaggle.com/c/antiporn-infopoisk/data\n",
    "\n",
    "Нужно набрать больше 0.89, чтобы получить +1 балл к следующему ДЗ\n",
    "и 0.9, чтобы получить +2 балла"
   ]
  },
  {
   "cell_type": "markdown",
   "metadata": {},
   "source": [
    "$$P(AB)=P(A|B)P(B)=P(B|A)P(A)$$\n",
    "$$P(A|B)=\\frac{P(B|A)P(A)}{P(B)}$$\n",
    "$$P(C|D)=\\frac{P(D|C)P(C)}{P(D)}=\\frac{P(x_1..x_n|C)P(C)}{P(D)}$$\n",
    "Наивность заключается в том, что мы считаем все слова(признаки) независимыми между собой\n",
    "$$P(x_1..x_n|C)=\\prod_{i}^{n}P(x_i|C)$$"
   ]
  },
  {
   "cell_type": "markdown",
   "metadata": {},
   "source": [
    "Соответственно тогда, вероятности того, что документ принадлежит каждому классу можно записат следующим образом"
   ]
  },
  {
   "cell_type": "markdown",
   "metadata": {},
   "source": [
    "$$P(C|D)=\\frac{\\prod_{i}^{n}P(x_i|C)P(C)}{P(D)}$$\n",
    "$$P(\\neg C|D)=\\frac{\\prod_{i}^{n}P(x_i|\\neg C)P(\\neg C)}{P(D)}$$"
   ]
  },
  {
   "cell_type": "markdown",
   "metadata": {},
   "source": [
    "Если поделить две эти вероятности, то мы сократим общие члены и упростим формулу"
   ]
  },
  {
   "cell_type": "markdown",
   "metadata": {},
   "source": [
    "$$\\frac{P(C|D)}{P(\\neg C|D)}=\\frac{\\prod_{i}^{n}P(x_i|C)P(C)}{\\prod_{i}^{n}P(x_i|\\neg C)P(\\neg C)}$$\n",
    "$$ln\\frac{P(C|D)}{P(\\neg C|D)}=ln\\frac{P(C)}{P(\\neg C)}+\\sum_{i}^{n}ln\\frac{P(x_i|C)}{P(x_i|\\neg C)}=$$\n",
    "$$ln\\frac{P(C)}{P(\\neg C)}+\\sum_{i}^{n}ln\\frac{classCfreqX_i}{classNotCfreqX_i}$$\n",
    "$$P(x_i|C)=classCfreqX_i/total$$\n",
    "$$P(x_i|\\neg C)=classNotCfreqX_i/total$$\n",
    "$$ln\\frac{P(C)}{P(\\neg C)} = const$$\n",
    "$$P(C|D) + P(\\neg C|D) = 1$$"
   ]
  },
  {
   "cell_type": "code",
   "execution_count": 1,
   "metadata": {},
   "outputs": [],
   "source": [
    "from __future__ import division\n",
    "\n",
    "import base64\n",
    "import csv\n",
    "import gzip\n",
    "import zlib\n",
    "import random\n",
    "\n",
    "from collections import namedtuple\n",
    "from collections import Counter\n",
    "\n",
    "%matplotlib inline\n",
    "import matplotlib.pyplot as plt"
   ]
  },
  {
   "cell_type": "code",
   "execution_count": 2,
   "metadata": {},
   "outputs": [],
   "source": [
    "TRACE_NUM = 500\n",
    "import logging\n",
    "reload(logging)\n",
    "logging.basicConfig(format='%(asctime)s %(levelname)s:%(message)s', level=logging.INFO, datefmt='%H:%M:%S')\n",
    "\n",
    "def trace(items_num, trace_num=TRACE_NUM):\n",
    "    if items_num % trace_num == 0: logging.info(\"Complete items %05d\" % items_num)"
   ]
  },
  {
   "cell_type": "markdown",
   "metadata": {},
   "source": [
    "### Утилиты"
   ]
  },
  {
   "cell_type": "markdown",
   "metadata": {},
   "source": [
    "#### Декораторы"
   ]
  },
  {
   "cell_type": "code",
   "execution_count": 3,
   "metadata": {},
   "outputs": [],
   "source": [
    "def to_utf8(text):\n",
    "    if isinstance(text, unicode): text = text.encode('utf8')\n",
    "    return text\n",
    "\n",
    "def convert2unicode(f):\n",
    "    def tmp(text):\n",
    "        if not isinstance(text, unicode): text = text.decode('utf8')\n",
    "        return f(text)\n",
    "    return tmp\n",
    "\n",
    "def convert2lower(f):\n",
    "    def tmp(text):        \n",
    "        return f(text.lower())\n",
    "    return tmp\n",
    "\n",
    "#P.S. Декораторы могут усложнять отладку, так что от них вполне можно отказаться и воспользоваться copy-paste"
   ]
  },
  {
   "cell_type": "markdown",
   "metadata": {},
   "source": [
    "### Извлечение текста из html"
   ]
  },
  {
   "cell_type": "markdown",
   "metadata": {},
   "source": [
    "#### Извлечение текста при помощи встроенных модулей"
   ]
  },
  {
   "cell_type": "code",
   "execution_count": 4,
   "metadata": {},
   "outputs": [],
   "source": [
    "#from html.parser import HTMLParser\n",
    "from HTMLParser import HTMLParser\n",
    "import re\n",
    "\n",
    "###Извлечение текста из title можно вписать сюда\n",
    "\n",
    "class TextHTMLParser(HTMLParser):\n",
    "    def __init__(self):\n",
    "        HTMLParser.__init__(self)\n",
    "        self._text = []\n",
    "        self._title = \"\"\n",
    "        self._in_title = False\n",
    "\n",
    "    def handle_data(self, data):\n",
    "        text = data.strip()\n",
    "        if len(text) > 0:\n",
    "            text = re.sub('[ \\t\\r\\n]+', ' ', text)\n",
    "            self._text.append(text + ' ')\n",
    "\n",
    "    def handle_starttag(self, tag, attrs):\n",
    "        if tag == 'p':\n",
    "            self._text.append('\\n\\n')\n",
    "        elif tag == 'br':\n",
    "            self._text.append('\\n')\n",
    "        elif tag == 'title':\n",
    "            self._in_title = True\n",
    "\n",
    "    def handle_startendtag(self, tag, attrs):\n",
    "        if tag == 'br':\n",
    "            self._text.append('\\n\\n')\n",
    "\n",
    "    def text(self):\n",
    "        return ''.join(self._text).strip()\n",
    "\n",
    "@convert2unicode\n",
    "def html2text_parser(text):\n",
    "    parser = TextHTMLParser()\n",
    "    parser.feed(text)\n",
    "    return parser.text()"
   ]
  },
  {
   "cell_type": "markdown",
   "metadata": {},
   "source": [
    "#### Извлечение текста при помощи дополнительных библиотек"
   ]
  },
  {
   "cell_type": "code",
   "execution_count": 5,
   "metadata": {},
   "outputs": [],
   "source": [
    "def html2text_bs(raw_html):\n",
    "    from bs4 import BeautifulSoup\n",
    "    \"\"\"\n",
    "    Тут производится извлечения из html текста\n",
    "    \"\"\"\n",
    "    soup = BeautifulSoup(raw_html, \"html.parser\")\n",
    "    [s.extract() for s in soup(['script', 'style'])]\n",
    "    return soup.get_text()\n",
    "\n",
    "def html2text_bs_visible(raw_html):\n",
    "    from bs4 import BeautifulSoup\n",
    "    \"\"\"\n",
    "    Тут производится извлечения из html текста, который видим пользователю\n",
    "    \"\"\"\n",
    "    soup = BeautifulSoup(raw_html, \"html.parser\")    \n",
    "    [s.extract() for s in soup(['style', 'script', '[document]', 'head', 'title'])]\n",
    "    return soup.get_text()\n",
    "\n",
    "def html2text_boilerpipe(raw_html):\n",
    "    import boilerpipe\n",
    "    \"\"\"\n",
    "    еще одна библиотека очень хорошо извлекающая именно видимый пользователю текст,\n",
    "    но она завязана на java\n",
    "    \"\"\"\n",
    "    pass"
   ]
  },
  {
   "cell_type": "markdown",
   "metadata": {},
   "source": [
    "#### Выбираем какой метод для конвертации html в текст будет основным"
   ]
  },
  {
   "cell_type": "code",
   "execution_count": 6,
   "metadata": {},
   "outputs": [],
   "source": [
    "#html2text = html2text_bs\n",
    "html2text = html2text_parser"
   ]
  },
  {
   "cell_type": "markdown",
   "metadata": {},
   "source": [
    "#### Методы для токенизации текста"
   ]
  },
  {
   "cell_type": "code",
   "execution_count": 7,
   "metadata": {},
   "outputs": [],
   "source": [
    "@convert2lower\n",
    "@convert2unicode\n",
    "def easy_tokenizer(text):\n",
    "    word = unicode()\n",
    "#     word = ''\n",
    "    for symbol in text:\n",
    "        if symbol.isalnum(): word += symbol\n",
    "        elif word:\n",
    "            yield word\n",
    "            word = unicode()\n",
    "    if word: yield word\n",
    "\n",
    "PYMORPHY_CACHE = {}\n",
    "MORPH = None\n",
    "#hint, чтобы установка pymorphy2 не была бы обязательной\n",
    "def get_lemmatizer():\n",
    "    import pymorphy2\n",
    "    global MORPH\n",
    "    if MORPH is None: MORPH = pymorphy2.MorphAnalyzer()\n",
    "    return MORPH\n",
    "\n",
    "@convert2lower\n",
    "@convert2unicode\n",
    "def pymorphy_tokenizer(text):\n",
    "    global PYMORPHY_CACHE\n",
    "    for word in easy_tokenizer(text):\n",
    "        word_hash = hash(word)\n",
    "        if word_hash not in PYMORPHY_CACHE:\n",
    "            PYMORPHY_CACHE[word_hash] = get_lemmatizer().parse(word)[0].normal_form            \n",
    "        yield PYMORPHY_CACHE[word_hash]"
   ]
  },
  {
   "cell_type": "markdown",
   "metadata": {},
   "source": [
    "#### Основная функция, которая вызывается для преобразования html в список слов"
   ]
  },
  {
   "cell_type": "code",
   "execution_count": 8,
   "metadata": {},
   "outputs": [],
   "source": [
    "def html2word(raw_html, to_text=html2text, tokenizer=easy_tokenizer):\n",
    "    return tokenizer(to_text(raw_html).lower())"
   ]
  },
  {
   "cell_type": "markdown",
   "metadata": {},
   "source": [
    "#### Рассчет финальных метрик"
   ]
  },
  {
   "cell_type": "code",
   "execution_count": 9,
   "metadata": {},
   "outputs": [],
   "source": [
    "def safe_divide(a, b):\n",
    "    if a == 0: return 0.0\n",
    "    elif b == 0: return 0.0\n",
    "    else: return a/b\n",
    "\n",
    "def calculate_metrics(predictions, threshold):    \n",
    "    \"\"\"\n",
    "    Функция подсчета метрик\n",
    "    Параметры\n",
    "    predictions - ранки по документам\n",
    "    threshold  - порог для метрик\n",
    "    \"\"\"\n",
    "    true_positive = 0\n",
    "    false_positive = 0\n",
    "    true_negative = 0\n",
    "    false_negative = 0\n",
    "    for (url_id, mark, url, prediction) in predictions:        \n",
    "        mark_predict = prediction > threshold\n",
    "\n",
    "        if mark_predict:                     \n",
    "            if mark_predict == mark: true_positive += 1\n",
    "            else: false_positive += 1                    \n",
    "        else:                     \n",
    "            if  mark_predict == mark: true_negative += 1\n",
    "            else: false_negative += 1\n",
    "\n",
    "    class_prec  = safe_divide(true_positive, true_positive + false_positive)\n",
    "    class_recall = safe_divide(true_positive, true_positive + false_negative)\n",
    "        \n",
    "    class_F1 = safe_divide(2 * class_prec * class_recall, class_prec + class_recall)\n",
    "    \n",
    "    \n",
    "    not_class_prec = safe_divide(true_negative, true_negative + false_negative)\n",
    "    not_class_recall = safe_divide(true_negative, true_negative + false_positive)\n",
    "    \n",
    "    not_class_F1 = safe_divide(2 * not_class_prec * not_class_recall, not_class_prec + not_class_recall)\n",
    "    \n",
    "    return ( (class_prec, class_recall, class_F1), (not_class_prec, not_class_recall, not_class_F1) )\n",
    "\n",
    "def arange(start, stop, step):\n",
    "    cur_value = start\n",
    "    while True:\n",
    "        if cur_value > stop: break\n",
    "        yield cur_value\n",
    "        cur_value += step\n",
    "\n",
    "def plot_results(docs, min_threshold=-1, max_threshold=1, step=0.1, trace=False):\n",
    "    x = []\n",
    "    y_p = []\n",
    "    y_n = []\n",
    "    docs_predictions = classifier.predict_all(docs)\n",
    "    for threshold in arange(min_threshold, max_threshold, step):\n",
    "        r = calculate_metrics(docs_predictions, threshold)\n",
    "        x.append(threshold)\n",
    "        y_p.append(r[0])\n",
    "        y_n.append(r[1])        \n",
    "        if trace: \n",
    "            print ('threshold %s' % threshold)\n",
    "            print ('\\tclass_prec %s, class_recall %s, class_F1 %s' % r[0])\n",
    "            print ('\\tnot_class_prec %s, not_class_recall %s, not_class_F1 %s' % r[1])\n",
    "            print ('\\t\\tMacroF1Mesure %s' % ((r[0][2] + r[1][2])/2))\n",
    "    plot_stats(x, y_p, \"Class Result\")\n",
    "    plot_stats(x, y_n, \"Not class Result\")    \n",
    "\n",
    "\n",
    "def plot_stats(x, y, title):\n",
    "    plt.figure(figsize=(10, 5))\n",
    "\n",
    "    prec, = plt.plot( x, \n",
    "                     [k[0] for k in y], \"r\", label='Precision', \n",
    "                     linewidth=1)\n",
    "    accur, = plt.plot( x, \n",
    "                      [k[1] for k in y], \"b\", label='Recall',\n",
    "                      linewidth=1)\n",
    "    f1, =    plt.plot( x, \n",
    "                      [k[2] for k in y], \"g\", label='F1',\n",
    "                      linewidth=1)\n",
    "    plt.grid(True)\n",
    "    plt.legend(handles=[prec, accur, f1])\n",
    "    plt.title(title)\n",
    "    plt.show()"
   ]
  },
  {
   "cell_type": "code",
   "execution_count": 10,
   "metadata": {},
   "outputs": [
    {
     "name": "stdout",
     "output_type": "stream",
     "text": [
      "заголовок\n",
      "ololo\n",
      "спам\n",
      "1\n",
      "2\n",
      "3\n"
     ]
    }
   ],
   "source": [
    "test_html_data = u'''\n",
    "<html>\n",
    "<title> Заголовок Ololo </title>\n",
    "спам 1 2 3\n",
    "</html>\n",
    "'''\n",
    "test_url = 'http://ololo'\n",
    "test_words = list(html2word(test_html_data))\n",
    "for word in test_words:\n",
    "    print (word)"
   ]
  },
  {
   "cell_type": "code",
   "execution_count": 11,
   "metadata": {},
   "outputs": [],
   "source": [
    "DocItem = namedtuple('DocItem', ['doc_id', 'is_class', 'url', 'words'])\n",
    "\n",
    "def load_csv(input_file_name):    \n",
    "    \"\"\"\n",
    "    Загружаем данные и извлекаем на лету слова\n",
    "    Сам контент не сохраняется, чтобы уменьшить потребление памяти - чтобы\n",
    "    можно было запускать даже на ноутбуках в классе\n",
    "    \"\"\"\n",
    "    \n",
    "    with gzip.open(input_file_name) if input_file_name.endswith('gz') else open(input_file_name)  as input_file:            \n",
    "        headers = input_file.readline()\n",
    "        \n",
    "        for i, line in enumerate(input_file):\n",
    "            trace(i)\n",
    "            parts = line.strip().split('\\t')\n",
    "            url_id = int(parts[0])                                        \n",
    "            mark = bool(int(parts[1]))                    \n",
    "            url = parts[2]\n",
    "            pageInb64 = parts[3]\n",
    "            html_data = base64.b64decode(pageInb64)\n",
    "            words = list(html2word(html_data))\n",
    "            yield DocItem(url_id, mark, url, words)            \n",
    "                \n",
    "        trace(i, 1)        "
   ]
  },
  {
   "cell_type": "markdown",
   "metadata": {},
   "source": [
    "** Обрабатываем входной файл **\n",
    "<br>\n",
    "Формат - поля разделенные табуляциями\n",
    "<br>\n",
    "0 - идентификатор документа\n",
    "<br>\n",
    "1 - метка класса 0 - не порно, 1 - порно\n",
    "<br>\n",
    "2 - урл документа\n",
    "<br>\n",
    "3 - документ в кодировке base64\n",
    "\n",
    "Выходной формат - массив кортежей вида\n",
    "(doc_id, is_class, url, html_data)"
   ]
  },
  {
   "cell_type": "code",
   "execution_count": null,
   "metadata": {},
   "outputs": [],
   "source": [
    "TRAIN_DATA_FILE  = 'kaggle_train_data_tab.csv.gz'"
   ]
  },
  {
   "cell_type": "code",
   "execution_count": null,
   "metadata": {},
   "outputs": [],
   "source": [
    "train_docs = list(load_csv(TRAIN_DATA_FILE))"
   ]
  },
  {
   "cell_type": "code",
   "execution_count": 49,
   "metadata": {},
   "outputs": [
    {
     "data": {
      "text/plain": [
       "DocItem(doc_id=-9216194460302551143, is_class=False, url='http://stdrf.ru/node/1527', words=[u'\\u044f', u'\\u043c\\u043e\\u0433', u'\\u0431\\u044b\\u0442\\u044c', u'\\u0441\\u0447\\u0430\\u0441\\u0442\\u043b\\u0438\\u0432', u'\\u0441\\u0442\\u0434', u'\\u0440\\u0444', u'cdata', u'jquery', u'extend', u'drupal', u'settings', u'basepath', u'thickbox', u'close', u'\\u0437\\u0430\\u043a\\u0440\\u044b\\u0442\\u044c', u'next', u'\\u0432\\u043f\\u0435\\u0440\\u0451\\u0434', u'x3e', u'prev', u'x3c\\u043d\\u0430\\u0437\\u0430\\u0434', u'esc', u'key', u'\\u0438\\u043b\\u0438', u'\\u043d\\u0430\\u0436\\u043c\\u0438\\u0442\\u0435', u'esc', u'next', u'close', u'next', u'close', u'on', u'last', u'image', u'count', u'\\u0438\\u0437\\u043e\\u0431\\u0440\\u0430\\u0436\\u0435\\u043d\\u0438\\u0435', u'current', u'\\u0438\\u0437', u'total', u'popups', u'originalpath', u'node', u'1527', u'defaulttargetselector', u'div', u'left', u'corner', u'x3e', u'div', u'clear', u'block', u'last', u'modulepath', u'sites', u'all', u'modules', u'popups', u'autoclosefinalmessage', u'1', u'\\u0433\\u043b\\u0430\\u0432\\u043d\\u0430\\u044f', u'\\u0441\\u0442\\u0434', u'\\u0440\\u0444', u'\\u0443\\u0441\\u0442\\u0430\\u0432', u'\\u0441\\u043e\\u044e\\u0437\\u0430', u'\\u0441\\u0442\\u0440\\u0443\\u043a\\u0442\\u0443\\u0440\\u0430', u'\\u0441\\u043e\\u044e\\u0437\\u0430', u'\\u043f\\u0440\\u0435\\u0434\\u0441\\u0435\\u0434\\u0430\\u0442\\u0435\\u043b\\u044c', u'\\u043f\\u0435\\u0440\\u0432\\u044b\\u0439', u'\\u0437\\u0430\\u043c\\u0435\\u0441\\u0442\\u0438\\u0442\\u0435\\u043b\\u044c', u'\\u043f\\u0440\\u0435\\u0434\\u0441\\u0435\\u0434\\u0430\\u0442\\u0435\\u043b\\u044f', u'\\u0440\\u0435\\u0433\\u0438\\u043e\\u043d\\u0430\\u043b\\u044c\\u043d\\u044b\\u0435', u'\\u043e\\u0442\\u0434\\u0435\\u043b\\u0435\\u043d\\u0438\\u044f', u'\\u0446\\u0435\\u043d\\u0442\\u0440\\u0430\\u043b\\u044c\\u043d\\u044b\\u0439', u'\\u0430\\u043f\\u043f\\u0430\\u0440\\u0430\\u0442', u'\\u0442\\u0432\\u043e\\u0440\\u0447\\u0435\\u0441\\u043a\\u0438\\u0435', u'\\u0441\\u0442\\u0440\\u0443\\u043a\\u0442\\u0443\\u0440\\u044b', u'\\u0434\\u043e\\u043c\\u0430', u'\\u0432\\u0435\\u0442\\u0435\\u0440\\u0430\\u043d\\u043e\\u0432', u'\\u0441\\u0446\\u0435\\u043d\\u044b', u'\\u0437\\u0434\\u0440\\u0430\\u0432\\u043d\\u0438\\u0446\\u044b', u'\\u0446\\u0435\\u043d\\u0442\\u0440\\u0430\\u043b\\u044c\\u043d\\u0430\\u044f', u'\\u043d\\u0430\\u0443\\u0447\\u043d\\u0430\\u044f', u'\\u0431\\u0438\\u0431\\u043b\\u0438\\u043e\\u0442\\u0435\\u043a\\u0430', u'\\u0432\\u043e\\u043f\\u0440\\u043e\\u0441\\u044b', u'\\u043e', u'\\u0441\\u043e\\u044e\\u0437\\u0435', u'\\u043f\\u0440\\u043e\\u0433\\u0440\\u0430\\u043c\\u043c\\u044b', u'\\u0438', u'\\u043f\\u0440\\u043e\\u0435\\u043a\\u0442\\u044b', u'\\u0434\\u043e\\u043a\\u0443\\u043c\\u0435\\u043d\\u0442\\u044b', u'\\u043c\\u0435\\u0434\\u0438\\u0430', u'\\u043a\\u043e\\u043d\\u0441\\u0443\\u043b\\u044c\\u0442\\u0430\\u0446\\u0438\\u044f', u'\\u044e\\u0440\\u0438\\u0441\\u0442\\u0430', u'\\u043f\\u043e\\u0434\\u043f\\u0438\\u0441\\u043a\\u0430', u'\\u043d\\u0430', u'\\u043d\\u043e\\u0432\\u043e\\u0441\\u0442\\u0438', u'\\u043d\\u0430\\u0448\\u0438', u'\\u0440\\u0435\\u0441\\u0443\\u0440\\u0441\\u044b', u'russian', u'theatre', u'life', u'in', u'brief', u'\\u0442\\u0435\\u0430\\u0442\\u0440\\u0430\\u043b\\u044c\\u043d\\u0430\\u044f', u'\\u0448\\u043a\\u043e\\u043b\\u0430', u'\\u0441\\u0442\\u0434', u'\\u0440\\u0444', u'\\u0442\\u0446', u'\\u0441\\u0442\\u0434', u'\\u0440\\u0444', u'\\u043d\\u0430', u'\\u0441\\u0442\\u0440\\u0430\\u0441\\u0442\\u043d\\u043e\\u043c', u'\\u0431\\u0438\\u0431\\u043b\\u0438\\u043e\\u0442\\u0435\\u043a\\u0430', u'\\u0441\\u0442\\u0434', u'\\u0440\\u0444', u'\\u043f\\u0440\\u043e\\u0435\\u043a\\u0442', u'\\u043c\\u0443\\u0437\\u043a\\u0430\\u0442\\u0430\\u043b\\u043e\\u0433', u'\\u0436\\u0443\\u0440\\u043d\\u0430\\u043b', u'\\u0442\\u0435\\u0430\\u0442\\u0440', u'\\u0436\\u0443\\u0440\\u043d\\u0430\\u043b', u'\\u0441\\u0442\\u0440\\u0430\\u0441\\u0442\\u043d\\u043e\\u0439', u'\\u0431\\u0443\\u043b\\u044c\\u0432\\u0430\\u0440', u'10', u'\\u0436\\u0443\\u0440\\u043d\\u0430\\u043b', u'\\u0438\\u043d\\u044b\\u0435', u'\\u0431\\u0435\\u0440\\u0435\\u0433\\u0430', u'\\u0433\\u0438\\u043b\\u044c\\u0434\\u0438\\u044f', u'\\u0442\\u0435\\u0430\\u0442\\u0440\\u0430\\u043b\\u044c\\u043d\\u044b\\u0445', u'\\u0440\\u0435\\u0436\\u0438\\u0441\\u0441\\u0435\\u0440\\u043e\\u0432', u'\\u0440\\u043e\\u0441\\u0441\\u0438\\u0438', u'\\u0432\\u0441\\u0435\\u0440\\u043e\\u0441\\u0441\\u0438\\u0439\\u0441\\u043a\\u0430\\u044f', u'\\u044f\\u0440\\u043c\\u0430\\u0440\\u043a\\u0430', u'\\u043f\\u0435\\u0432\\u0446\\u043e\\u0432', u'\\u043d\\u0430\\u0448\\u0438', u'\\u043f\\u0430\\u0440\\u0442\\u043d\\u0435\\u0440\\u044b', u'\\u0441\\u0442\\u0434', u'\\u0440\\u0444', u'\\u043f\\u0440\\u0435\\u0434\\u0441\\u0435\\u0434\\u0430\\u0442\\u0435\\u043b\\u044c', u'\\u044f', u'\\u043c\\u043e\\u0433', u'\\u0431\\u044b\\u0442\\u044c', u'\\u0441\\u0447\\u0430\\u0441\\u0442\\u043b\\u0438\\u0432', u'\\u0432\\u0435\\u0447\\u0435\\u0440\\u043d\\u044f\\u044f', u'\\u043c\\u043e\\u0441\\u043a\\u0432\\u0430', u'14', u'\\u043d\\u043e\\u044f\\u0431\\u0440\\u044f', u'2002', u'\\u043e\\u043b\\u044c\\u0433\\u0430', u'\\u0444\\u0443\\u043a\\u0441', u'\\u0430\\u043b\\u0435\\u043a\\u0441\\u0430\\u043d\\u0434\\u0440', u'\\u043a\\u0430\\u043b\\u044f\\u0433\\u0438\\u043d', u'\\u043d\\u0430', u'\\u0434\\u0432\\u0430', u'\\u0433\\u043e\\u043b\\u043e\\u0441\\u0430', u'\\u0435\\u0449\\u0435', u'\\u043d\\u0435\\u0434\\u0430\\u0432\\u043d\\u043e', u'\\u0440\\u043e\\u043b\\u044c', u'\\u043a\\u0440\\u044d\\u043f\\u043f\\u0430', u'\\u0438\\u0433\\u0440\\u0430\\u043b', u'\\u0434\\u0440\\u0443\\u0433\\u043e\\u0439', u'\\u043a\\u0440\\u0443\\u043f\\u043d\\u0435\\u0439\\u0448\\u0438\\u0439', u'\\u0430\\u043a\\u0442\\u0435\\u0440', u'\\u0438', u'\\u043a', u'\\u0441\\u043b\\u043e\\u0432\\u0443', u'\\u0442\\u043e\\u0436\\u0435', u'\\u0441\\u043e\\u0437\\u0434\\u0430\\u0432\\u0448\\u0438\\u0439', u'\\u0442\\u0435\\u0430\\u0442\\u0440', u'\\u0447\\u0442\\u043e\\u0431\\u044b', u'\\u0441\\u043e\\u0431\\u0440\\u0430\\u0442\\u044c', u'\\u043f\\u043e\\u0434', u'\\u043a\\u0440\\u044b\\u043b\\u043e', u'\\u0441\\u0432\\u043e\\u0438\\u0445', u'\\u0432\\u0447\\u0435\\u0440\\u0430\\u0448\\u043d\\u0438\\u0445', u'\\u0441\\u0442\\u0443\\u0434\\u0435\\u043d\\u0442\\u043e\\u0432', u'\\u0430\\u0440\\u043c\\u0435\\u043d', u'\\u0434\\u0436\\u0438\\u0433\\u0430\\u0440\\u0445\\u0430\\u043d\\u044f\\u043d', u'\\u043a\\u0430\\u043a', u'\\u0442\\u043e', u'\\u043e\\u043d', u'\\u043f\\u0440\\u0438\\u0437\\u043d\\u0430\\u043b\\u0441\\u044f', u'\\u0447\\u0442\\u043e', u'\\u0438\\u0433\\u0440\\u0430\\u0442\\u044c', u'\\u043a\\u0440\\u044d\\u043f\\u043f\\u0430', u'\\u043d\\u0435\\u0438\\u043c\\u043e\\u0432\\u0435\\u0440\\u043d\\u043e', u'\\u0442\\u044f\\u0436\\u0435\\u043b\\u043e', u'\\u043d\\u043e', u'\\u043e\\u0440\\u0433\\u0430\\u043d\\u0438\\u0437\\u043c', u'\\u0434\\u0430', u'\\u0438', u'\\u0434\\u0443\\u0448\\u0430', u'\\u0442\\u0440\\u0435\\u0431\\u0443\\u044e\\u0442', u'\\u043f\\u043e\\u0440\\u043e\\u0439', u'\\u0438\\u043c\\u0435\\u043d\\u043d\\u043e', u'\\u043f\\u0440\\u0435\\u0434\\u0435\\u043b\\u044c\\u043d\\u044b\\u0445', u'\\u043d\\u0430\\u0433\\u0440\\u0443\\u0437\\u043e\\u043a', u'\\u0438\\u043d\\u0430\\u0447\\u0435', u'\\u0447\\u0435\\u043c', u'\\u0436\\u0430\\u0436\\u0434\\u043e\\u0439', u'\\u0442\\u0430\\u043a\\u043e\\u0439', u'\\u043d\\u0430\\u0433\\u0440\\u0443\\u0437\\u043a\\u0438', u'\\u0438', u'\\u043d\\u0435', u'\\u043e\\u0431\\u044a\\u044f\\u0441\\u043d\\u0438\\u0448\\u044c', u'\\u043f\\u043e\\u0447\\u0435\\u043c\\u0443', u'\\u0436\\u0438\\u0437\\u043d\\u0435\\u043b\\u044e\\u0431\\u0438\\u0432\\u044b\\u0439', u'\\u0438', u'\\u0432\\u0441\\u0435\\u044f\\u0434\\u043d\\u044b\\u0439', u'\\u043f\\u0430\\u043d\\u0442\\u0430\\u0433\\u0440\\u044e\\u044d\\u043b\\u044c', u'\\u043d\\u0430\\u0448\\u0435\\u0433\\u043e', u'\\u0442\\u0435\\u0430\\u0442\\u0440\\u0430', u'\\u0430\\u043b\\u0435\\u043a\\u0441\\u0430\\u043d\\u0434\\u0440', u'\\u043a\\u0430\\u043b\\u044f\\u0433\\u0438\\u043d', u'\\u0437\\u0430\\u0445\\u043e\\u0442\\u0435\\u043b', u'\\u0441\\u044b\\u0433\\u0440\\u0430\\u0442\\u044c', u'\\u043a', u'\\u0441\\u0432\\u043e\\u0435\\u043c\\u0443', u'\\u044e\\u0431\\u0438\\u043b\\u0435\\u044e', u'\\u043e\\u0434\\u043d\\u0443', u'\\u0438\\u0437', u'\\u0441\\u0430\\u043c\\u044b\\u0445', u'\\u0431\\u0435\\u0437\\u043d\\u0430\\u0434\\u0435\\u0436\\u043d\\u044b\\u0445', u'\\u0440\\u043e\\u043b\\u0435\\u0439', u'\\u043c\\u0438\\u0440\\u043e\\u0432\\u043e\\u0433\\u043e', u'\\u0440\\u0435\\u043f\\u0435\\u0440\\u0442\\u0443\\u0430\\u0440\\u0430', u'\\u043e\\u0434\\u0438\\u043d\\u043e\\u043a\\u043e\\u0433\\u043e', u'\\u0441\\u0442\\u0430\\u0440\\u0438\\u043a\\u0430', u'\\u0438', u'\\u043d\\u0435\\u0443\\u0434\\u0430\\u0432\\u0448\\u0435\\u0433\\u043e\\u0441\\u044f', u'\\u043f\\u0438\\u0441\\u0430\\u0442\\u0435\\u043b\\u044f', u'\\u043a\\u0440\\u044d\\u043f\\u043f\\u0430', u'\\u043a\\u043e\\u0442\\u043e\\u0440\\u044b\\u0439', u'\\u0432\\u0441\\u044e', u'\\u0436\\u0438\\u0437\\u043d\\u044c', u'\\u0432\\u0435\\u0434\\u0435\\u0442', u'\\u0441\\u0432\\u043e\\u0435\\u043e\\u0431\\u0440\\u0430\\u0437\\u043d\\u044b\\u0439', u'\\u0434\\u043d\\u0435\\u0432\\u043d\\u0438\\u043a', u'\\u043d\\u0430\\u0433\\u043e\\u0432\\u0430\\u0440\\u0438\\u0432\\u0430\\u044f', u'\\u043d\\u0430', u'\\u043c\\u0430\\u0433\\u043d\\u0438\\u0442\\u043e\\u0444\\u043e\\u043d', u'\\u0431\\u0435\\u0437', u'\\u0440\\u0430\\u0437\\u0431\\u043e\\u0440\\u0443', u'\\u043e\\u0431\\u043e', u'\\u0432\\u0441\\u0435\\u043c', u'\\u0432\\u044b\\u0441\\u043e\\u043a\\u043e\\u043c', u'\\u0438', u'\\u043d\\u0438\\u0437\\u043a\\u043e\\u043c', u'\\u0447\\u0442\\u043e', u'\\u0441', u'\\u043d\\u0438\\u043c', u'\\u0441\\u043b\\u0443\\u0447\\u0438\\u043b\\u043e\\u0441\\u044c', u'\\u043e\\u0442', u'\\u0433\\u043e\\u0440\\u0435\\u0447\\u0438', u'\\u0438', u'\\u0441\\u043b\\u0430\\u0434\\u043e\\u0441\\u0442\\u0438', u'\\u043f\\u043e\\u0441\\u043b\\u0435\\u0434\\u043d\\u0435\\u0433\\u043e', u'\\u043b\\u044e\\u0431\\u043e\\u0432\\u043d\\u043e\\u0433\\u043e', u'\\u0441\\u0432\\u0438\\u0434\\u0430\\u043d\\u0438\\u044f', u'\\u0434\\u043e', u'\\u0440\\u0430\\u0431\\u043e\\u0442\\u044b', u'\\u043a\\u0438\\u0448\\u0435\\u0447\\u043d\\u0438\\u043a\\u0430', u'\\u0430', u'\\u0441\\u043f\\u0443\\u0441\\u0442\\u044f', u'\\u0433\\u043e\\u0434\\u044b', u'\\u0432\\u043e\\u0437\\u0432\\u0440\\u0430\\u0449\\u0430\\u0435\\u0442\\u0441\\u044f', u'\\u043a', u'\\u0441\\u0432\\u043e\\u0438\\u043c', u'\\u0437\\u0430\\u043f\\u0438\\u0441\\u044f\\u043c', u'\\u0441\\u0435\\u0434\\u044b\\u0435', u'\\u043a\\u043e\\u0441\\u043c\\u044b', u'\\u0433\\u0443\\u0441\\u0442\\u0430\\u044f', u'\\u0449\\u0435\\u0442\\u0438\\u043d\\u0430', u'\\u0432\\u043e\\u0441\\u043f\\u0430\\u043b\\u0435\\u043d\\u043d\\u044b\\u0435', u'\\u0433\\u043b\\u0430\\u0437\\u0430', u'\\u0434\\u044b\\u0440\\u044f\\u0432\\u044b\\u0435', u'\\u043e\\u0431\\u043d\\u043e\\u0441\\u043a\\u0438', u'\\u0438', u'\\u043d\\u043e\\u0441\\u043a\\u0438', u'\\u0441\\u043d\\u0430\\u0439\\u043f\\u0435\\u0440\\u0441\\u043a\\u0430\\u044f', u'\\u043f\\u0435\\u0440\\u0447\\u0430\\u0442\\u043a\\u0430', u'\\u0431\\u0435\\u0437', u'\\u043f\\u0430\\u043b\\u044c\\u0446\\u0435\\u0432', u'\\u0432\\u0442\\u043e\\u0440\\u0430\\u044f', u'\\u0432\\u0438\\u0434\\u0438\\u043c\\u043e', u'\\u043f\\u043e\\u0442\\u0435\\u0440\\u044f\\u043d\\u0430', u'\\u043f\\u043e\\u0442\\u0440\\u0435\\u043f\\u0430\\u043d\\u043d\\u044b\\u0439', u'\\u0447\\u0430\\u043f\\u043b\\u0438\\u043d\\u0441\\u043a\\u0438\\u0439', u'\\u043a\\u043e\\u0442\\u0435\\u043b\\u043e\\u043a', u'\\u0438\\u0437', u'\\u043f\\u0438\\u0441\\u0430\\u0442\\u0435\\u043b\\u044f', u'\\u043d\\u0435\\u0443\\u0434\\u0430\\u0447\\u043d\\u0438\\u043a\\u0430', u'\\u0440\\u043e\\u0431\\u0435\\u0440\\u0442', u'\\u0441\\u0442\\u0443\\u0440\\u0443\\u0430', u'\\u0441\\u0434\\u0435\\u043b\\u0430\\u043b', u'\\u043e\\u0431\\u0438\\u0442\\u0430\\u0442\\u0435\\u043b\\u044f', u'\\u0430\\u0431\\u0441\\u043e\\u043b\\u044e\\u0442\\u043d\\u043e\\u0433\\u043e', u'\\u0434\\u043d\\u0430', u'\\u0445\\u0443\\u0434\\u043e\\u0436\\u043d\\u0438\\u043a', u'\\u0433\\u0435\\u043e\\u0440\\u0433\\u0438\\u0439', u'\\u0430\\u043b\\u0435\\u043a\\u0441\\u0438', u'\\u043c\\u0435\\u0441\\u0445\\u0438\\u0448\\u0432\\u0438\\u043b\\u0438', u'\\u043f\\u043e\\u043c\\u0435\\u0441\\u0442\\u0438\\u043b', u'\\u043a\\u0440\\u044d\\u043f\\u043f\\u0430', u'\\u0432', u'\\u0438\\u0440\\u0440\\u0435\\u0430\\u043b\\u044c\\u043d\\u043e\\u0435', u'\\u043f\\u0440\\u043e\\u0441\\u0442\\u0440\\u0430\\u043d\\u0441\\u0442\\u0432\\u043e', u'\\u0447\\u0442\\u043e', u'\\u0442\\u043e', u'\\u0432\\u0440\\u043e\\u0434\\u0435', u'\\u0433\\u043e\\u0440\\u043e\\u0434\\u0441\\u043a\\u043e\\u0439', u'\\u0441\\u0432\\u0430\\u043b\\u043a\\u0438', u'\\u0432', u'\\u043b\\u0443\\u043d\\u043d\\u044b\\u0445', u'\\u0431\\u043b\\u0438\\u043a\\u0430\\u0445', u'\\u0433\\u0434\\u0435', u'\\u0442\\u043e\\u043b\\u044c\\u043a\\u043e', u'\\u0434\\u0432\\u0430', u'\\u043f\\u0440\\u0435\\u0434\\u043c\\u0435\\u0442\\u0430', u'\\u0441\\u043e\\u0445\\u0440\\u0430\\u043d\\u0438\\u043b\\u0438\\u0441\\u044c', u'\\u0432', u'\\u0446\\u0435\\u043b\\u043e\\u0441\\u0442\\u0438', u'\\u043e\\u0444\\u0438\\u0441\\u043d\\u044b\\u0439', u'\\u0441\\u0442\\u043e\\u043b', u'\\u043d\\u0430\\u0431\\u0438\\u0442\\u044b\\u0439', u'\\u043a\\u0430\\u0441\\u0441\\u0435\\u0442\\u0430\\u043c\\u0438', u'\\u0434\\u0430', u'\\u043c\\u0430\\u043b\\u0435\\u043d\\u044c\\u043a\\u0438\\u0439', u'\\u043c\\u0430\\u0433\\u043d\\u0438\\u0442\\u043e\\u0444\\u043e\\u043d', u'\\u0441\\u043e\\u0431\\u0441\\u0442\\u0432\\u0435\\u043d\\u043d\\u043e', u'\\u043f\\u043e\\u0441\\u043b\\u0435\\u0434\\u043d\\u044f\\u044f', u'\\u043b\\u0435\\u043d\\u0442\\u0430', u'\\u043a\\u0440\\u044d\\u043f\\u043f\\u0430', u'\\u0438\\u043b\\u0438', u'\\u043f\\u043e\\u0441\\u043b\\u0435\\u0434\\u043d\\u044f\\u044f', u'\\u0437\\u0430\\u043f\\u0438\\u0441\\u044c', u'\\u043a\\u0440\\u044d\\u043f\\u043f\\u0430', u'\\u043a\\u0430\\u043a', u'\\u043d\\u0430\\u0437\\u044b\\u0432\\u0430\\u0435\\u0442\\u0441\\u044f', u'\\u0441\\u043f\\u0435\\u043a\\u0442\\u0430\\u043a\\u043b\\u044c', u'\\u044d\\u0442\\u043e', u'\\u0434\\u0438\\u0430\\u043b\\u043e\\u0433', u'\\u0441\\u0442\\u0430\\u0440\\u0438\\u043a\\u0430', u'\\u0441', u'\\u0441\\u0430\\u043c\\u0438\\u043c', u'\\u0441\\u043e\\u0431\\u043e\\u0439', u'30', u'\\u043b\\u0435\\u0442\\u043d\\u0435\\u0439', u'\\u0434\\u0430\\u0432\\u043d\\u043e\\u0441\\u0442\\u0438', u'\\u0441\\u0443\\u0434', u'\\u043d\\u0430\\u0434', u'\\u0441\\u043e\\u0431\\u043e\\u0439', u'30', u'\\u043b\\u0435\\u0442\\u043d\\u0435\\u0439', u'\\u0434\\u0430\\u0432\\u043d\\u043e\\u0441\\u0442\\u0438', u'\\u0441', u'\\u0432\\u044b\\u043d\\u0435\\u0441\\u0435\\u043d\\u0438\\u0435\\u043c', u'\\u0441\\u0430\\u043c\\u043e\\u0433\\u043e', u'\\u0441\\u0443\\u0440\\u043e\\u0432\\u043e\\u0433\\u043e', u'\\u043f\\u0440\\u0438\\u0433\\u043e\\u0432\\u043e\\u0440\\u0430', u'\\u0441', u'\\u043f\\u043b\\u0435\\u043d\\u043a\\u0438', u'\\u043b\\u044c\\u0435\\u0442\\u0441\\u044f', u'\\u0447\\u0443\\u0442\\u044c', u'\\u0432\\u0430\\u043b\\u044c\\u044f\\u0436\\u043d\\u044b\\u0439', u'\\u0431\\u043e\\u0433\\u0430\\u0442\\u044b\\u0439', u'\\u043e\\u0442\\u0442\\u0435\\u043d\\u043a\\u0430\\u043c\\u0438', u'\\u0433\\u043e\\u043b\\u043e\\u0441', u'\\u0437\\u043d\\u0430\\u044e\\u0449\\u0435\\u0433\\u043e', u'\\u0441\\u0435\\u0431\\u0435', u'\\u0446\\u0435\\u043d\\u0443', u'\\u043c\\u0443\\u0436\\u0447\\u0438\\u043d\\u044b', u'\\u0441\\u0440\\u0435\\u0434\\u043d\\u0438\\u0445', u'\\u043b\\u0435\\u0442', u'\\u0445\\u043e\\u043b\\u043e\\u0434\\u043d\\u043e', u'\\u0438', u'\\u0441\\u043e', u'\\u0432\\u043a\\u0443\\u0441\\u043e\\u043c', u'\\u0430\\u043d\\u0430\\u043b\\u0438\\u0437\\u0438\\u0440\\u0443\\u044e\\u0449\\u0435\\u0433\\u043e', u'\\u043a\\u0430\\u043a', u'\\u0440\\u0430\\u0441\\u0441\\u0442\\u0430\\u0432\\u0430\\u043b\\u0441\\u044f', u'\\u0441', u'\\u0436\\u0435\\u043d\\u0449\\u0438\\u043d\\u043e\\u0439', u'\\u043a\\u0430\\u043a', u'\\u0437\\u0430\\u0431\\u044b\\u043b', u'\\u043f\\u0440\\u043e', u'\\u043c\\u0430\\u0442\\u044c', u'\\u043a\\u0430\\u043a', u'\\u0438\\u0433\\u0440\\u0430\\u043b', u'\\u0441', u'\\u0441\\u043e\\u0431\\u0430\\u043a\\u043e\\u0439', u'\\u0436\\u0430\\u043b\\u0435\\u044f', u'\\u043e', u'\\u043f\\u043e\\u0442\\u0440\\u0430\\u0447\\u0435\\u043d\\u043d\\u043e\\u043c', u'\\u043c\\u0438\\u0433\\u0435', u'\\u0430', u'\\u0432', u'\\u043e\\u0442\\u0432\\u0435\\u0442', u'\\u0435\\u043c\\u0443', u'\\u043d\\u0435\\u0441\\u0435\\u0442\\u0441\\u044f', u'\\u0431\\u0435\\u0437\\u0437\\u0443\\u0431\\u043e', u'\\u0448\\u0435\\u043f\\u0435\\u043b\\u044f\\u0432\\u044b\\u0439', u'\\u043e\\u0442\\u0447\\u0430\\u044f\\u043d\\u043d\\u044b\\u0439', u'\\u043a\\u0440\\u0438\\u043a', u'\\u043f\\u043e\\u0434\\u044b\\u0445\\u0430\\u044e\\u0449\\u0435\\u0433\\u043e', u'\\u0441\\u0442\\u0430\\u0440\\u0438\\u043a\\u0430', u'\\u044f', u'\\u043c\\u043e\\u0433', u'\\u0431\\u044b\\u0442\\u044c', u'\\u0441\\u0447\\u0430\\u0441\\u0442\\u043b\\u0438\\u0432', u'\\u0438', u'\\u0434\\u044f\\u0434\\u0438', u'\\u0432\\u0430\\u043d\\u0438\\u043d', u'\\u043c\\u043e\\u0442\\u0438\\u0432', u'\\u043f\\u0440\\u043e\\u043f\\u0430\\u043b\\u0430', u'\\u0436\\u0438\\u0437\\u043d\\u044c', u'\\u0434\\u043e\\u0432\\u0435\\u0434\\u0435\\u043d', u'\\u0437\\u0434\\u0435\\u0441\\u044c', u'\\u0434\\u043e', u'\\u0430\\u0431\\u0441\\u043e\\u043b\\u044e\\u0442\\u0430', u'\\u0436\\u0438\\u0437\\u043d\\u044c', u'\\u043d\\u0435', u'\\u043f\\u0440\\u043e\\u0441\\u0442\\u043e', u'\\u043f\\u0440\\u043e\\u043f\\u0430\\u043b\\u0430', u'\\u043d\\u043e', u'\\u0437\\u0430\\u043a\\u043e\\u043d\\u0447\\u0438\\u043b\\u0430\\u0441\\u044c', u'\\u0440\\u0430\\u043d\\u044c\\u0448\\u0435', u'\\u0441\\u043c\\u0435\\u0440\\u0442\\u0438', u'\\u043f\\u0443\\u0448\\u043a\\u0438\\u043d\\u0441\\u043a\\u043e\\u0435', u'\\u043d\\u0435', u'\\u0434\\u0430\\u0439', u'\\u043c\\u043d\\u0435', u'\\u0431\\u043e\\u0433', u'\\u0441\\u043e\\u0439\\u0442\\u0438', u'\\u0441', u'\\u0443\\u043c\\u0430', u'\\u043a\\u0440\\u044d\\u043f\\u043f', u'\\u043f\\u0435\\u0440\\u0435\\u0438\\u043d\\u0430\\u0447\\u0438\\u0432\\u0430\\u0435\\u0442', u'\\u0431\\u0443\\u043a\\u0432\\u0430\\u043b\\u044c\\u043d\\u043e', u'\\u043c\\u043e\\u043b\\u044f', u'\\u043f\\u043e\\u0441\\u043b\\u0430\\u0442\\u044c', u'\\u0435\\u043c\\u0443', u'\\u0441\\u043f\\u0430\\u0441\\u0438\\u0442\\u0435\\u043b\\u044c\\u043d\\u043e\\u0435', u'\\u0431\\u0435\\u0437\\u0443\\u043c\\u0438\\u0435', u'\\u0440\\u0435\\u0436\\u0438\\u0441\\u0441\\u0435\\u0440', u'\\u0437\\u0430\\u0441\\u0442\\u0430\\u0432\\u0438\\u043b', u'\\u0430\\u043a\\u0442\\u0435\\u0440\\u0430', u'\\u043f\\u043e\\u0434\\u0440\\u043e\\u0431\\u043d\\u043e', u'\\u0434\\u043e', u'\\u043d\\u0430\\u0437\\u043e\\u0439\\u043b\\u0438\\u0432\\u043e\\u0441\\u0442\\u0438', u'\\u0438\\u0441\\u043f\\u043e\\u043b\\u043d\\u0438\\u0442\\u044c', u'\\u0446\\u0435\\u043b\\u044b\\u0439', u'\\u0440\\u0438\\u0442\\u0443\\u0430\\u043b', u'\\u0436\\u0438\\u0437\\u043d\\u0435\\u0434\\u0435\\u044f\\u0442\\u0435\\u043b\\u044c\\u043d\\u043e\\u0441\\u0442\\u0438', u'\\u043e\\u0434\\u0438\\u043d\\u043e\\u043a\\u043e\\u0433\\u043e', u'\\u0441\\u0442\\u0430\\u0440\\u0438\\u043a\\u0430', u'\\u0432\\u043e\\u0442', u'\\u043e\\u043d', u'\\u043f\\u0440\\u043e\\u0441\\u043d\\u0443\\u043b\\u0441\\u044f', u'\\u0432\\u0435\\u0441\\u044c', u'\\u0432', u'\\u0438\\u0441\\u043f\\u0430\\u0440\\u0438\\u043d\\u0435', u'\\u0441', u'\\u0442\\u0440\\u0443\\u0434\\u043e\\u043c', u'\\u043f\\u043e\\u0434\\u043d\\u044f\\u043b\\u0441\\u044f', u'\\u043d\\u0430\\u043f\\u044f\\u043b\\u0438\\u043b', u'\\u043d\\u0430', u'\\u0441\\u0435\\u0431\\u044f', u'\\u043a\\u0430\\u043a\\u043e\\u0435', u'\\u0442\\u043e', u'\\u0440\\u0432\\u0430\\u043d\\u044c\\u0435', u'\\u0441\\u044a\\u0435\\u043b', u'\\u043d\\u0435\\u0441\\u043a\\u043e\\u043b\\u044c\\u043a\\u043e', u'\\u0431\\u0430\\u043d\\u0430\\u043d\\u043e\\u0432', u'\\u0432\\u044b\\u043f\\u0438\\u043b', u'\\u0432\\u0438\\u043d\\u0446\\u0430', u'\\u043f\\u0440\\u0438\\u0441\\u043b\\u0443\\u0448\\u0430\\u0432\\u0448\\u0438\\u0441\\u044c', u'\\u043a', u'\\u0441\\u0435\\u0431\\u0435', u'\\u0441\\u043a\\u0440\\u044b\\u043b\\u0441\\u044f', u'\\u0437\\u0430', u'\\u043a\\u0443\\u043b\\u0438\\u0441\\u0430\\u043c\\u0438', u'\\u043d\\u0435\\u043e\\u0436\\u0438\\u0434\\u0430\\u043d\\u043d\\u043e', u'\\u043d\\u0430\\u0448\\u0435\\u043b', u'\\u0436\\u0438\\u0432\\u0443\\u044e', u'\\u0447\\u0435\\u0440\\u0435\\u043f\\u0430\\u0448\\u043a\\u0443', u'\\u0437\\u0430\\u043c\\u0430\\u0445\\u043d\\u0443\\u043b\\u0441\\u044f', u'\\u0431\\u044b\\u043b\\u043e', u'\\u0447\\u0442\\u043e\\u0431\\u044b', u'\\u0432\\u044b\\u0431\\u0440\\u043e\\u0441\\u0438\\u0442\\u044c', u'\\u0435\\u0435', u'\\u043f\\u043e\\u0434\\u0430\\u043b\\u044c\\u0448\\u0435', u'\\u043d\\u043e', u'\\u043f\\u0435\\u0440\\u0435\\u0434\\u0443\\u043c\\u0430\\u043b', u'\\u0438', u'\\u043f\\u0440\\u0438\\u043b\\u0430\\u0441\\u043a\\u0430\\u043b', u'\\u043a\\u0430\\u043a', u'\\u043a\\u043e\\u0442\\u0435\\u043d\\u043a\\u0430', u'\\u043b\\u0438\\u0448\\u044c', u'\\u043e\\u0434\\u043d\\u0430\\u0436\\u0434\\u044b', u'\\u0432', u'\\u0437\\u0430\\u043b\\u0435', u'\\u0440\\u0430\\u0437\\u0434\\u0430\\u0435\\u0442\\u0441\\u044f', u'\\u0441\\u043c\\u0435\\u0445', u'\\u043a\\u043e\\u0433\\u0434\\u0430', u'\\u043a\\u0440\\u044d\\u043f\\u043f', u'\\u043d\\u0430\\u0447\\u0438\\u043d\\u0430\\u0435\\u0442', u'\\u0434\\u043e\\u043d\\u0438\\u043c\\u0430\\u0442\\u044c', u'\\u043f\\u0443\\u0441\\u0442\\u043e\\u0442\\u0443', u'\\u0432\\u043e\\u043f\\u0440\\u043e\\u0441\\u0430\\u043c\\u0438', u'\\u0432\\u0440\\u043e\\u0434\\u0435', u'\\u0430', u'\\u0447\\u0435\\u043c', u'\\u0437\\u0430\\u043d\\u0438\\u043c\\u0430\\u043b\\u0441\\u044f', u'\\u0433\\u043e\\u0441\\u043f\\u043e\\u0434\\u044c', u'\\u0434\\u043e', u'\\u0441\\u043e\\u0442\\u0432\\u043e\\u0440\\u0435\\u043d\\u0438\\u044f', u'\\u043c\\u0438\\u0440\\u0430', u'\\u0430', u'\\u043f\\u0440\\u0430\\u0432\\u0434\\u0430', u'\\u0447\\u0442\\u043e', u'\\u0434\\u0435\\u0432\\u0430', u'\\u043c\\u0430\\u0440\\u0438\\u044f', u'\\u0437\\u0430\\u0447\\u0430\\u043b\\u0430', u'\\u0447\\u0435\\u0440\\u0435\\u0437', u'\\u0443\\u0445\\u043e', u'\\u0446\\u0438\\u0442\\u0430\\u0442\\u0430', u'\\u0438\\u0437', u'\\u0440\\u043e\\u043c\\u0430\\u043d\\u0430', u'\\u0431\\u0435\\u043a\\u043a\\u0435\\u0442\\u0430', u'\\u043c\\u043e\\u043b\\u043b\\u043e\\u0439', u'\\u0430', u'\\u043c\\u0438\\u0440\\u043e\\u043a', u'\\u043a\\u0440\\u044d\\u043f\\u043f\\u0430', u'\\u0442\\u0435\\u043c', u'\\u0432\\u0440\\u0435\\u043c\\u0435\\u043d\\u0435\\u043c', u'\\u0442\\u043e\\u0447\\u043d\\u043e', u'\\u0432\\u0441\\u0442\\u0443\\u043f\\u0430\\u0435\\u0442', u'\\u0432', u'\\u043f\\u0435\\u0440\\u0438\\u043e\\u0434', u'\\u043f\\u043e\\u043b\\u0443\\u0440\\u0430\\u0441\\u043f\\u0430\\u0434\\u0430', u'\\u043f\\u0440\\u0438\\u0432\\u044b\\u0447\\u043d\\u044b\\u0435', u'\\u0432\\u0435\\u0449\\u0438', u'\\u043c\\u0443\\u0442\\u0438\\u0440\\u0443\\u044e\\u0442', u'\\u0438', u'\\u0438\\u0437\\u0434\\u0435\\u0432\\u0430\\u044e\\u0442\\u0441\\u044f', u'\\u043d\\u0430\\u0434', u'\\u0431\\u044b\\u0432\\u0448\\u0438\\u043c', u'\\u0445\\u043e\\u0437\\u044f\\u0438\\u043d\\u043e\\u043c', u'\\u0447\\u0435\\u043b\\u043e\\u0432\\u0435\\u043a\\u043e\\u043c', u'\\u043c\\u043d\\u043e\\u0433\\u043e\\u0447\\u0438\\u0441\\u043b\\u0435\\u043d\\u043d\\u044b\\u0435', u'\\u0447\\u0430\\u0441\\u044b', u'\\u043a\\u043e\\u0442\\u043e\\u0440\\u044b\\u043c\\u0438', u'\\u043d\\u0430\\u0431\\u0438\\u0442\\u044b', u'\\u043a\\u0430\\u0440\\u043c\\u0430\\u043d\\u044b', u'\\u043a\\u0440\\u044d\\u043f\\u043f\\u0430', u'\\u0442\\u043e\\u0447\\u043d\\u043e', u'\\u0441\\u0433\\u043e\\u0432\\u043e\\u0440\\u0438\\u0432\\u0448\\u0438\\u0441\\u044c', u'\\u0432\\u0441\\u0442\\u0430\\u043b\\u0438', u'\\u043d\\u0430\\u0432\\u0435\\u043a\\u0438', u'\\u0438', u'\\u043a\\u0440\\u044d\\u043f\\u043f', u'\\u0431\\u0435\\u0437', u'\\u0441\\u043e\\u0436\\u0430\\u043b\\u0435\\u043d\\u0438\\u044f', u'\\u0438\\u0445', u'\\u0432\\u044b\\u0431\\u0440\\u0430\\u0441\\u044b\\u0432\\u0430\\u0435\\u0442', u'\\u0438\\u0437', u'\\u0445\\u043e\\u043b\\u043e\\u0434\\u0438\\u043b\\u044c\\u043d\\u0438\\u043a\\u0430', u'\\u0432\\u0430\\u043b\\u044f\\u0442\\u0441\\u044f', u'\\u043a\\u043d\\u0438\\u0433\\u0438', u'\\u0432\\u0435\\u0441\\u044c', u'\\u043d\\u0435\\u0440\\u0430\\u0441\\u043f\\u0440\\u043e\\u0434\\u0430\\u043d\\u043d\\u044b\\u0439', u'\\u0442\\u0438\\u0440\\u0430\\u0436', u'\\u0431\\u0435\\u0437', u'\\u0441\\u0435\\u043c\\u043d\\u0430\\u0434\\u0446\\u0430\\u0442\\u0438', u'\\u044d\\u043a\\u0437\\u0435\\u043c\\u043f\\u043b\\u044f\\u0440\\u043e\\u0432', u'\\u043e\\u0434\\u0438\\u043d\\u043d\\u0430\\u0434\\u0446\\u0430\\u0442\\u044c', u'\\u0438\\u0437', u'\\u043a\\u043e\\u0442\\u043e\\u0440\\u044b\\u0445', u'\\u0431\\u044b\\u043b\\u0438', u'\\u0440\\u0430\\u0437\\u0434\\u0430\\u0440\\u0435\\u043d\\u044b', u'\\u043f\\u043e', u'\\u0431\\u0438\\u0431\\u043b\\u0438\\u043e\\u0442\\u0435\\u043a\\u0430\\u043c', u'\\u0437\\u043e\\u043d\\u0442\\u0438\\u043a\\u0438', u'\\u0440\\u0430\\u0441\\u043a\\u0440\\u044b\\u0432\\u0430\\u044e\\u0442\\u0441\\u044f', u'\\u0441\\u0430\\u043c\\u0438', u'\\u0438\\u043b\\u0438', u'\\u0441\\u044b\\u043f\\u044f\\u0442\\u0441\\u044f', u'\\u043f\\u0440\\u044f\\u043c\\u043e', u'\\u0441', u'\\u043d\\u0435\\u0431\\u0430', u'\\u0440\\u0430\\u0434\\u0438\\u043e\\u043f\\u0440\\u0438\\u0435\\u043c\\u043d\\u0438\\u043a', u'\\u0441\\u0430\\u043c\\u043e\\u0432\\u043e\\u043b\\u044c\\u043d\\u043e', u'\\u043d\\u0430\\u0447\\u0438\\u043d\\u0430\\u0435\\u0442', u'\\u043f\\u0435\\u0440\\u0435\\u0434\\u0430\\u0432\\u0430\\u0442\\u044c', u'\\u0435\\u0440\\u043d\\u0438\\u0447\\u0435\\u0441\\u043a\\u0438\\u0439', u'\\u043c\\u0430\\u0440\\u0448\\u0438\\u043a', u'\\u0440\\u0430\\u0437\\u0443\\u043c\\u0435\\u0435\\u0442\\u0441\\u044f', u'\\u0433\\u0438\\u0438', u'\\u043a\\u0430\\u043d\\u0447\\u0435\\u043b\\u0438', u'\\u0430\\u043f\\u043e\\u0444\\u0435\\u043e\\u0437\\u043e\\u043c', u'\\u043f\\u0440\\u0435\\u0434\\u043c\\u0435\\u0442\\u043d\\u043e\\u0439', u'\\u0440\\u0430\\u0441\\u043f\\u043e\\u044f\\u0441\\u0430\\u043d\\u043d\\u043e\\u0441\\u0442\\u0438', u'\\u0438', u'\\u0441\\u043e\\u0431\\u0441\\u0442\\u0432\\u0435\\u043d\\u043d\\u043e', u'\\u0444\\u0438\\u043d\\u0430\\u043b\\u043e\\u043c', u'\\u0441\\u043f\\u0435\\u043a\\u0442\\u0430\\u043a\\u043b\\u044f', u'\\u0441\\u0442\\u0430\\u043d\\u043e\\u0432\\u0438\\u0442\\u0441\\u044f', u'\\u043e\\u0442\\u043b\\u0435\\u0442', u'\\u0432\\u0432\\u044b\\u0441\\u044c', u'\\u0448\\u043b\\u044f\\u043f\\u044b', u'\\u043a\\u043e\\u0442\\u0435\\u043b\\u043a\\u0430', u'\\u0430', u'\\u043c\\u043e\\u0436\\u0435\\u0442', u'\\u043a\\u0442\\u043e', u'\\u0442\\u043e', u'\\u0442\\u0430\\u043c', u'\\u043d\\u0430\\u0432\\u0435\\u0440\\u0445\\u0443', u'\\u0438', u'\\u0432\\u043f\\u0440\\u044f\\u043c\\u044c', u'\\u0441\\u0436\\u0430\\u043b\\u0438\\u043b\\u0441\\u044f', u'\\u043d\\u0430\\u0434', u'\\u0431\\u0435\\u0437\\u0434\\u0430\\u0440\\u043d\\u044b\\u043c', u'\\u043a\\u0440\\u044d\\u043f\\u043f\\u043e\\u043c', u'\\u043f\\u043e\\u0441\\u043b\\u0430\\u0432', u'\\u0435\\u043c\\u0443', u'\\u043f\\u043e\\u0434', u'\\u0437\\u0430\\u043d\\u0430\\u0432\\u0435\\u0441', u'\\u043f\\u043e\\u043c\\u0435\\u0448\\u0430\\u0442\\u0435\\u043b\\u044c\\u0441\\u0442\\u0432\\u043e', u'\\u0432', u'\\u043a\\u0430\\u0447\\u0435\\u0441\\u0442\\u0432\\u0435', u'\\u043e\\u0431\\u0435\\u0437\\u0431\\u043e\\u043b\\u0438\\u0432\\u0430\\u044e\\u0449\\u0435\\u0433\\u043e', u'2006', u'2012', u'\\u0441\\u0442\\u0434', u'\\u0440\\u0444', u'107031', u'\\u043c\\u043e\\u0441\\u043a\\u0432\\u0430', u'\\u0441\\u0442\\u0440\\u0430\\u0441\\u0442\\u043d\\u043e\\u0439', u'\\u0431\\u0443\\u043b\\u044c\\u0432\\u0430\\u0440', u'\\u0434', u'10', u'\\u0442\\u0435\\u043b', u'495', u'650', u'28', u'46', u'\\u0444\\u0430\\u043a\\u0441', u'495', u'650', u'01', u'32', u'document', u'write', u'a', u'href', u'http', u'www', u'liveinternet', u'ru', u'click', u'target', u'blank', u'img', u'src', u'counter', u'yadro', u'ru', u'hit', u't44', u'18', u'r', u'escape', u'document', u'referrer', u'typeof', u'screen', u'undefined', u's', u'screen', u'width', u'screen', u'height', u'screen', u'colordepth', u'screen', u'colordepth', u'screen', u'pixeldepth', u'u', u'escape', u'document', u'url', u'math', u'random', u'alt', u'title', u'liveinternet', u'border', u'0', u'width', u'31', u'height', u'31', u'a', u'var', u'gajshost', u'https', u'document', u'location', u'protocol', u'https', u'ssl', u'http', u'www', u'document', u'write', u'unescape', u'3cscript', u'src', u'gajshost', u'google', u'analytics', u'com', u'ga', u'js', u'type', u'text', u'javascript', u'3e', u'3c', u'script', u'3e', u'try', u'var', u'pagetracker', u'gat', u'gettracker', u'ua', u'16269185', u'1', u'pagetracker', u'trackpageview', u'catch', u'err', u'\\u0438\\u043d\\u0444\\u043e\\u0440\\u043c\\u0430\\u0446\\u0438\\u044f', u'\\u043e', u'\\u0441\\u0430\\u0439\\u0442\\u0435', u'data', u'end'])"
      ]
     },
     "execution_count": 49,
     "metadata": {},
     "output_type": "execute_result"
    }
   ],
   "source": [
    "train_docs[1]"
   ]
  },
  {
   "cell_type": "code",
   "execution_count": 44,
   "metadata": {
    "scrolled": true
   },
   "outputs": [
    {
     "data": {
      "text/plain": [
       "True"
      ]
     },
     "execution_count": 44,
     "metadata": {},
     "output_type": "execute_result"
    }
   ],
   "source": [
    "a = {'a': 0, 'b' : 1}\n",
    "b = {'c': 2, 'd' : 1}\n",
    "'a' in a"
   ]
  },
  {
   "cell_type": "markdown",
   "metadata": {},
   "source": [
    "** Классификатор: **\n",
    "Нужно реализовать"
   ]
  },
  {
   "cell_type": "code",
   "execution_count": 111,
   "metadata": {},
   "outputs": [],
   "source": [
    "import math\n",
    "import collections\n",
    "a = 0\n",
    "b = 0\n",
    "class Classifier:\n",
    "    \n",
    "    def __init__(self):\n",
    "        self.trad_dict = collections.Counter()\n",
    "        self.porn_dict = collections.Counter()\n",
    "        self.trad_amount = 0\n",
    "        self.porn_amount = 0\n",
    "    \n",
    "    def predict_porno(self, doc):        \n",
    "        metric = 0\n",
    "        porn = 0\n",
    "        ne_porn = 0\n",
    "        eps = 0.1\n",
    "        all_w = 0\n",
    "        for i in doc.words:\n",
    "            if i in self.trad_dict:\n",
    "                ne_porn = self.trad_dict[i]\n",
    "            if i in self.porn_dict:\n",
    "                porn = self.porn_dict[i]\n",
    "            metric += math.log((eps + porn)/(eps + ne_porn))\n",
    "            all_w += 1\n",
    "        return metric/all_w\n",
    "    \n",
    "    def predict_random(self, doc):\n",
    "        #Чтобы для каждого документа рандом был детерминирован\n",
    "        random.seed(doc.doc_id)\n",
    "        return random.random()\n",
    "\n",
    "    def predict(self, doc):        \n",
    "        return self.predict_porno(doc)\n",
    "    \n",
    "    def predict_all(self, docs):\n",
    "        res = []\n",
    "        for doc_num, doc in enumerate(docs):\n",
    "            trace(doc_num)\n",
    "            prediction = self.predict(doc)            \n",
    "            res.append( (doc.doc_id, doc.is_class, doc.url, prediction) )\n",
    "        return res\n",
    "    \n",
    "    def train(self, docs):                \n",
    "        for doc_num, doc in enumerate(docs):\n",
    "            if doc.is_class:\n",
    "                for i in doc.words:\n",
    "                    self.porn_amount += 1\n",
    "                    if i in self.porn_dict:\n",
    "                        self.porn_dict[i] += 1\n",
    "                    else:\n",
    "                        self.porn_dict[i] = 1\n",
    "                        \n",
    "            else:\n",
    "                for i in doc.words:\n",
    "                    self.trad_amount += 1\n",
    "                    if i in self.trad_dict:\n",
    "                        self.trad_dict[i] += 1\n",
    "                    else:\n",
    "                        self.trad_dict[i] = 1\n",
    "            trace(doc_num)\n",
    "        global a\n",
    "        global b\n",
    "        a = self.porn_dict.most_common(20)\n",
    "        b = self.trad_dict.most_common(20)\n",
    "        trace(doc_num, 1)"
   ]
  },
  {
   "cell_type": "code",
   "execution_count": 118,
   "metadata": {},
   "outputs": [
    {
     "data": {
      "text/plain": [
       "[(u'\\u0438', 22411),\n",
       " (u'\\u0432', 18829),\n",
       " (u'var', 16955),\n",
       " (u'\\u043f\\u043e\\u0440\\u043d\\u043e', 16113),\n",
       " (u'0', 14631),\n",
       " (u'\\u043d\\u0430', 12199),\n",
       " (u'1', 11983),\n",
       " (u'\\u0444\\u043e\\u0442\\u043e', 11168),\n",
       " (u'document', 11070),\n",
       " (u'a', 10135),\n",
       " (u'http', 9708),\n",
       " (u'\\u0441', 9518),\n",
       " (u'ru', 8247),\n",
       " (u'\\u0441\\u0435\\u043a\\u0441', 7953),\n",
       " (u'\\u043d\\u0435', 7661),\n",
       " (u'\\u0432\\u0438\\u0434\\u0435\\u043e', 7445),\n",
       " (u'2', 7210),\n",
       " (u'screen', 6597),\n",
       " (u'function', 6256),\n",
       " (u'if', 5296)]"
      ]
     },
     "execution_count": 118,
     "metadata": {},
     "output_type": "execute_result"
    }
   ],
   "source": [
    "a"
   ]
  },
  {
   "cell_type": "code",
   "execution_count": 115,
   "metadata": {},
   "outputs": [
    {
     "data": {
      "text/plain": [
       "[(u'\\u0438', 83101),\n",
       " (u'\\u0432', 80645),\n",
       " (u'\\u043d\\u0430', 41155),\n",
       " (u'0', 38556),\n",
       " (u'\\u043d\\u0435', 33488),\n",
       " (u'\\u0441', 29085),\n",
       " (u'1', 27715),\n",
       " (u'a', 26928),\n",
       " (u'document', 22733),\n",
       " (u'\\u0447\\u0442\\u043e', 21454),\n",
       " (u'var', 19686),\n",
       " (u'\\u043f\\u043e', 19008),\n",
       " (u'ru', 18622),\n",
       " (u'\\u0434\\u043b\\u044f', 17391),\n",
       " (u'b', 15650),\n",
       " (u's', 15205),\n",
       " (u'2', 15011),\n",
       " (u'function', 14536),\n",
       " (u'\\u0430', 14345),\n",
       " (u'\\u043a\\u0430\\u043a', 14220)]"
      ]
     },
     "execution_count": 115,
     "metadata": {},
     "output_type": "execute_result"
    }
   ],
   "source": [
    "b"
   ]
  },
  {
   "cell_type": "code",
   "execution_count": 112,
   "metadata": {
    "scrolled": true
   },
   "outputs": [
    {
     "name": "stderr",
     "output_type": "stream",
     "text": [
      "21:00:02 INFO:Complete items 00000\n",
      "21:00:03 INFO:Complete items 00500\n",
      "21:00:03 INFO:Complete items 01000\n",
      "21:00:04 INFO:Complete items 01500\n",
      "21:00:04 INFO:Complete items 02000\n",
      "21:00:05 INFO:Complete items 02500\n",
      "21:00:05 INFO:Complete items 03000\n",
      "21:00:06 INFO:Complete items 03138\n"
     ]
    }
   ],
   "source": [
    "classifier = Classifier()\n",
    "classifier.train(train_docs)"
   ]
  },
  {
   "cell_type": "code",
   "execution_count": 104,
   "metadata": {},
   "outputs": [
    {
     "data": {
      "text/plain": [
       "-0.4958424972574939"
      ]
     },
     "execution_count": 104,
     "metadata": {},
     "output_type": "execute_result"
    }
   ],
   "source": [
    "#Посмотреть, что предсказывается для тестового html\n",
    "classifier.predict(DocItem(0, 0, test_url , test_words))"
   ]
  },
  {
   "cell_type": "markdown",
   "metadata": {},
   "source": [
    "** Рисуем графики **"
   ]
  },
  {
   "cell_type": "code",
   "execution_count": 98,
   "metadata": {
    "scrolled": true
   },
   "outputs": [
    {
     "name": "stderr",
     "output_type": "stream",
     "text": [
      "20:53:18 INFO:Complete items 00000\n",
      "20:53:18 INFO:Complete items 00500\n",
      "20:53:19 INFO:Complete items 01000\n",
      "20:53:20 INFO:Complete items 01500\n",
      "20:53:21 INFO:Complete items 02000\n",
      "20:53:21 INFO:Complete items 02500\n",
      "20:53:22 INFO:Complete items 03000\n"
     ]
    },
    {
     "name": "stdout",
     "output_type": "stream",
     "text": [
      "threshold -3\n",
      "\tclass_prec 0.390251672507, class_recall 1.0, class_F1 0.561411549038\n",
      "\tnot_class_prec 0.0, not_class_recall 0.0, not_class_F1 0.0\n",
      "\t\tMacroF1Mesure 0.280705774519\n",
      "threshold -2.9\n",
      "\tclass_prec 0.390251672507, class_recall 1.0, class_F1 0.561411549038\n",
      "\tnot_class_prec 0.0, not_class_recall 0.0, not_class_F1 0.0\n",
      "\t\tMacroF1Mesure 0.280705774519\n",
      "threshold -2.8\n",
      "\tclass_prec 0.390181702263, class_recall 0.999183673469, class_F1 0.56121045392\n",
      "\tnot_class_prec 0.5, not_class_recall 0.000522466039707, not_class_F1 0.00104384133612\n",
      "\t\tMacroF1Mesure 0.281127147628\n",
      "threshold -2.7\n",
      "\tclass_prec 0.389987244898, class_recall 0.998367346939, class_F1 0.560880531988\n",
      "\tnot_class_prec 0.333333333333, not_class_recall 0.000522466039707, not_class_F1 0.00104329681794\n",
      "\t\tMacroF1Mesure 0.280961914403\n",
      "threshold -2.6\n",
      "\tclass_prec 0.389987244898, class_recall 0.998367346939, class_F1 0.560880531988\n",
      "\tnot_class_prec 0.333333333333, not_class_recall 0.000522466039707, not_class_F1 0.00104329681794\n",
      "\t\tMacroF1Mesure 0.280961914403\n",
      "threshold -2.5\n",
      "\tclass_prec 0.390111642743, class_recall 0.998367346939, class_F1 0.561009174312\n",
      "\tnot_class_prec 0.5, not_class_recall 0.00104493207941, not_class_F1 0.00208550573514\n",
      "\t\tMacroF1Mesure 0.281547340024\n",
      "threshold -2.4\n",
      "\tclass_prec 0.390111642743, class_recall 0.998367346939, class_F1 0.561009174312\n",
      "\tnot_class_prec 0.5, not_class_recall 0.00104493207941, not_class_F1 0.00208550573514\n",
      "\t\tMacroF1Mesure 0.281547340024\n",
      "threshold -2.3\n",
      "\tclass_prec 0.390111642743, class_recall 0.998367346939, class_F1 0.561009174312\n",
      "\tnot_class_prec 0.5, not_class_recall 0.00104493207941, not_class_F1 0.00208550573514\n",
      "\t\tMacroF1Mesure 0.281547340024\n",
      "threshold -2.2\n",
      "\tclass_prec 0.389917038928, class_recall 0.997551020408, class_F1 0.560679054829\n",
      "\tnot_class_prec 0.4, not_class_recall 0.00104493207941, not_class_F1 0.00208441896821\n",
      "\t\tMacroF1Mesure 0.281381736899\n",
      "threshold -2.1\n",
      "\tclass_prec 0.389917038928, class_recall 0.997551020408, class_F1 0.560679054829\n",
      "\tnot_class_prec 0.4, not_class_recall 0.00104493207941, not_class_F1 0.00208441896821\n",
      "\t\tMacroF1Mesure 0.281381736899\n",
      "threshold -2.0\n",
      "\tclass_prec 0.389722310884, class_recall 0.996734693878, class_F1 0.560348783846\n",
      "\tnot_class_prec 0.333333333333, not_class_recall 0.00104493207941, not_class_F1 0.00208333333333\n",
      "\t\tMacroF1Mesure 0.28121605859\n",
      "threshold -1.9\n",
      "\tclass_prec 0.389137380192, class_recall 0.994285714286, class_F1 0.55935706085\n",
      "\tnot_class_prec 0.222222222222, not_class_recall 0.00104493207941, not_class_F1 0.00208008320333\n",
      "\t\tMacroF1Mesure 0.280718572026\n",
      "threshold -1.8\n",
      "\tclass_prec 0.389190917813, class_recall 0.993469387755, class_F1 0.559283088235\n",
      "\tnot_class_prec 0.333333333333, not_class_recall 0.00208986415883, not_class_F1 0.00415368639668\n",
      "\t\tMacroF1Mesure 0.281718387316\n",
      "threshold -1.7\n",
      "\tclass_prec 0.389244558259, class_recall 0.992653061224, class_F1 0.559209013566\n",
      "\tnot_class_prec 0.4, not_class_recall 0.00313479623824, not_class_F1 0.00622083981337\n",
      "\t\tMacroF1Mesure 0.28271492669\n",
      "threshold -1.6\n",
      "\tclass_prec 0.389352148813, class_recall 0.991020408163, class_F1 0.559060557219\n",
      "\tnot_class_prec 0.47619047619, not_class_recall 0.00522466039707, not_class_F1 0.0103359173127\n",
      "\t\tMacroF1Mesure 0.284698237266\n",
      "threshold -1.5\n",
      "\tclass_prec 0.388261851016, class_recall 0.982857142857, class_F1 0.556634304207\n",
      "\tnot_class_prec 0.447368421053, not_class_recall 0.00888192267503, not_class_F1 0.0174180327869\n",
      "\t\tMacroF1Mesure 0.287026168497\n",
      "threshold -1.4\n",
      "\tclass_prec 0.388510223953, class_recall 0.977142857143, class_F1 0.555968416163\n",
      "\tnot_class_prec 0.51724137931, not_class_recall 0.0156739811912, not_class_F1 0.0304259634888\n",
      "\t\tMacroF1Mesure 0.293197189826\n",
      "threshold -1.3\n",
      "\tclass_prec 0.386863711002, class_recall 0.961632653061, class_F1 0.551756440281\n",
      "\tnot_class_prec 0.5, not_class_recall 0.0245559038662, not_class_F1 0.046812749004\n",
      "\t\tMacroF1Mesure 0.299284594643\n",
      "threshold -1.2\n",
      "\tclass_prec 0.38389261745, class_recall 0.93387755102, class_F1 0.544114149822\n",
      "\tnot_class_prec 0.490566037736, not_class_recall 0.0407523510972, not_class_F1 0.0752532561505\n",
      "\t\tMacroF1Mesure 0.309683702986\n",
      "threshold -1.1\n",
      "\tclass_prec 0.380055788006, class_recall 0.889795918367, class_F1 0.532616662595\n",
      "\tnot_class_prec 0.50184501845, not_class_recall 0.0710553814002, not_class_F1 0.124485125858\n",
      "\t\tMacroF1Mesure 0.328550894226\n",
      "threshold -1.0\n",
      "\tclass_prec 0.382374906647, class_recall 0.835918367347, class_F1 0.524724570843\n",
      "\tnot_class_prec 0.56399132321, not_class_recall 0.135841170324, not_class_F1 0.218947368421\n",
      "\t\tMacroF1Mesure 0.371835969632\n",
      "threshold -0.9\n",
      "\tclass_prec 0.390103092784, class_recall 0.772244897959, class_F1 0.518356164384\n",
      "\tnot_class_prec 0.609243697479, not_class_recall 0.227272727273, not_class_F1 0.331050228311\n",
      "\t\tMacroF1Mesure 0.424703196347\n",
      "threshold -0.8\n",
      "\tclass_prec 0.403433476395, class_recall 0.690612244898, class_F1 0.509331727875\n",
      "\tnot_class_prec 0.636276391555, not_class_recall 0.346394984326, not_class_F1 0.448579161028\n",
      "\t\tMacroF1Mesure 0.478955444452\n",
      "threshold -0.7\n",
      "\tclass_prec 0.42816091954, class_recall 0.608163265306, class_F1 0.502529510961\n",
      "\tnot_class_prec 0.656897784132, not_class_recall 0.480146290491, not_class_F1 0.554784183519\n",
      "\t\tMacroF1Mesure 0.52865684724\n",
      "threshold -0.6\n",
      "\tclass_prec 0.47764371895, class_recall 0.549387755102, class_F1 0.511009870919\n",
      "\tnot_class_prec 0.680924855491, not_class_recall 0.615464994775, not_class_F1 0.646542261251\n",
      "\t\tMacroF1Mesure 0.578776066085\n",
      "threshold -0.5\n",
      "\tclass_prec 0.535326086957, class_recall 0.482448979592, class_F1 0.507513954487\n",
      "\tnot_class_prec 0.688452088452, not_class_recall 0.73197492163, not_class_F1 0.709546720689\n",
      "\t\tMacroF1Mesure 0.608530337588\n",
      "threshold -0.4\n",
      "\tclass_prec 0.601953601954, class_recall 0.402448979592, class_F1 0.482387475538\n",
      "\tnot_class_prec 0.684482758621, not_class_recall 0.829676071055, not_class_F1 0.750118091639\n",
      "\t\tMacroF1Mesure 0.616252783589\n",
      "threshold -0.3\n",
      "\tclass_prec 0.653530377668, class_recall 0.324897959184, class_F1 0.434023991276\n",
      "\tnot_class_prec 0.673122529644, not_class_recall 0.889759665622, not_class_F1 0.766426642664\n",
      "\t\tMacroF1Mesure 0.60022531697\n",
      "threshold -0.2\n",
      "\tclass_prec 0.686800894855, class_recall 0.250612244898, class_F1 0.367224880383\n",
      "\tnot_class_prec 0.658989598811, not_class_recall 0.926854754441, not_class_F1 0.770299609205\n",
      "\t\tMacroF1Mesure 0.568762244794\n",
      "threshold -0.1\n",
      "\tclass_prec 0.716417910448, class_recall 0.195918367347, class_F1 0.307692307692\n",
      "\tnot_class_prec 0.648716119829, not_class_recall 0.950365726228, not_class_F1 0.77108944468\n",
      "\t\tMacroF1Mesure 0.539390876186\n",
      "threshold 1.52655665886e-15\n",
      "\tclass_prec 0.726530612245, class_recall 0.145306122449, class_F1 0.242176870748\n",
      "\tnot_class_prec 0.638217000691, not_class_recall 0.96499477534, not_class_F1 0.768302828619\n",
      "\t\tMacroF1Mesure 0.505239849684\n",
      "threshold 0.1\n",
      "\tclass_prec 0.690058479532, class_recall 0.0963265306122, class_F1 0.169054441261\n",
      "\tnot_class_prec 0.627021563342, not_class_recall 0.972309299896, not_class_F1 0.762392462106\n",
      "\t\tMacroF1Mesure 0.465723451683\n",
      "threshold 0.2\n",
      "\tclass_prec 0.605504587156, class_recall 0.0538775510204, class_F1 0.0989505247376\n",
      "\tnot_class_prec 0.617491749175, not_class_recall 0.977533960293, not_class_F1 0.756877022654\n",
      "\t\tMacroF1Mesure 0.427913773696\n",
      "threshold 0.3\n",
      "\tclass_prec 0.620253164557, class_recall 0.04, class_F1 0.0751533742331\n",
      "\tnot_class_prec 0.61568627451, not_class_recall 0.984326018809, not_class_F1 0.75753920386\n",
      "\t\tMacroF1Mesure 0.416346289047\n",
      "threshold 0.4\n",
      "\tclass_prec 0.547169811321, class_recall 0.0236734693878, class_F1 0.0453834115806\n",
      "\tnot_class_prec 0.612443292288, not_class_recall 0.987460815047, not_class_F1 0.756\n",
      "\t\tMacroF1Mesure 0.40069170579\n",
      "threshold 0.5\n",
      "\tclass_prec 0.5, class_recall 0.0179591836735, class_F1 0.0346729708432\n",
      "\tnot_class_prec 0.611308562197, not_class_recall 0.988505747126, not_class_F1 0.755440207626\n",
      "\t\tMacroF1Mesure 0.395056589235\n",
      "threshold 0.6\n",
      "\tclass_prec 0.4375, class_recall 0.0114285714286, class_F1 0.0222752585521\n",
      "\tnot_class_prec 0.610234953331, not_class_recall 0.990595611285, not_class_F1 0.755228042223\n",
      "\t\tMacroF1Mesure 0.388751650387\n",
      "threshold 0.7\n",
      "\tclass_prec 0.285714285714, class_recall 0.00489795918367, class_F1 0.00963081861958\n",
      "\tnot_class_prec 0.60904425914, not_class_recall 0.992163009404, not_class_F1 0.754769475358\n",
      "\t\tMacroF1Mesure 0.382200146989\n",
      "threshold 0.8\n",
      "\tclass_prec 0.25, class_recall 0.00326530612245, class_F1 0.00644641418211\n",
      "\tnot_class_prec 0.609029779059, not_class_recall 0.993730407524, not_class_F1 0.755211435378\n",
      "\t\tMacroF1Mesure 0.38082892478\n",
      "threshold 0.9\n",
      "\tclass_prec 0.181818181818, class_recall 0.00163265306122, class_F1 0.00323624595469\n",
      "\tnot_class_prec 0.609015345269, not_class_recall 0.995297805643, not_class_F1 0.755652518842\n",
      "\t\tMacroF1Mesure 0.379444382398\n"
     ]
    },
    {
     "data": {
      "image/png": "[encoded data removed]",
      "text/plain": [
       "<Figure size 720x360 with 1 Axes>"
      ]
     },
     "metadata": {
      "needs_background": "light"
     },
     "output_type": "display_data"
    },
    {
     "data": {
      "image/png": "[encoded data removed]",
      "text/plain": [
       "<Figure size 720x360 with 1 Axes>"
      ]
     },
     "metadata": {
      "needs_background": "light"
     },
     "output_type": "display_data"
    }
   ],
   "source": [
    "plot_results(train_docs, min_threshold=-3, max_threshold=1, step=0.1, trace=1)"
   ]
  },
  {
   "cell_type": "code",
   "execution_count": 99,
   "metadata": {},
   "outputs": [
    {
     "name": "stderr",
     "output_type": "stream",
     "text": [
      "20:53:47 INFO:Complete items 00000\n",
      "20:53:47 INFO:Complete items 00000\n",
      "20:53:54 INFO:Complete items 00500\n",
      "20:53:54 INFO:Complete items 00500\n",
      "20:54:02 INFO:Complete items 01000\n",
      "20:54:02 INFO:Complete items 01000\n",
      "20:54:03 INFO:Complete items 01075\n"
     ]
    }
   ],
   "source": [
    "TEST_DATA_FILE  = 'kaggle_test_data_tab.csv.gz'\n",
    "\n",
    "test_docs = load_csv(TEST_DATA_FILE)\n",
    "\n",
    "threshold = -0.5\n",
    "\n",
    "with open('my_submission.csv' , 'wb') as fout:\n",
    "    writer = csv.writer(fout)\n",
    "    writer.writerow(['Id','Prediction'])\n",
    "    for item in classifier.predict_all(test_docs):\n",
    "        prediction =  1 if item[3] > threshold else 0\n",
    "        writer.writerow([item[0], prediction])"
   ]
  },
  {
   "cell_type": "code",
   "execution_count": null,
   "metadata": {},
   "outputs": [],
   "source": []
  }
 ],
 "metadata": {
  "anaconda-cloud": {},
  "kernelspec": {
   "display_name": "Python 2",
   "language": "python",
   "name": "python2"
  },
  "language_info": {
   "codemirror_mode": {
    "name": "ipython",
    "version": 2
   },
   "file_extension": ".py",
   "mimetype": "text/x-python",
   "name": "python",
   "nbconvert_exporter": "python",
   "pygments_lexer": "ipython2",
   "version": "2.7.15rc1"
  }
 },
 "nbformat": 4,
 "nbformat_minor": 1
}
