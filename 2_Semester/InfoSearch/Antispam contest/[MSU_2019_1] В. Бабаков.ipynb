{
 "cells": [
  {
   "cell_type": "markdown",
   "metadata": {},
   "source": [
    "##### ** Описание **"
   ]
  },
  {
   "cell_type": "raw",
   "metadata": {},
   "source": [
    "Построить графики распределения в спам и не спам множествах следующих признаков:\n",
    "\n",
    "1\tКоличество слов на странице\n",
    "2\tСредняя длина слова\n",
    "3\tКоличество слов в заголовке страниц (слова в теге <html><head><title> Some text </title>)\n",
    "4\tКоличество слов в анкорах ссылок (<html><body><a> Some text </a>)\n",
    "5\tКоэффициент сжатия\n",
    "\n",
    "Нужно посчитать статистику минимум по трем признакам и обязательно сделать для 1-го и 2-го признаков\n",
    "\n",
    "И отправить первое решение в соревнование https://kaggle.com/join/antispam_infopoisk\n",
    "На основании одного из указанных выше признаков попытаться разделить мн-во, так чтобы score в соревновании был больше 0.55\n",
    "\n",
    "При выполнении всех этих условия в течении семинара +1 балл к ДЗ\n",
    "\n",
    "Описание ДЗ и правил выставления за него баллов в https://inclass.kaggle.com/c/antispam-infopoisk  \n",
    "Сроки ДЗ уточнить у преподователя - обычно 2 недели"
   ]
  },
  {
   "cell_type": "code",
   "execution_count": 1,
   "metadata": {},
   "outputs": [],
   "source": [
    "from __future__ import division\n",
    "\n",
    "import base64\n",
    "import csv\n",
    "import gzip\n",
    "import zlib\n",
    "\n",
    "# from imp import reload\n",
    "# from html.parser import HTMLParser\n",
    "\n",
    "from collections import namedtuple\n",
    "\n",
    "from sklearn.pipeline import Pipeline\n",
    "from xgboost import XGBClassifier\n",
    "\n",
    "from sklearn.feature_extraction.text import CountVectorizer\n",
    "from sklearn.feature_extraction.text import TfidfVectorizer\n",
    "from sklearn.feature_extraction.text import TfidfTransformer\n",
    "import numpy\n",
    "\n",
    "%matplotlib inline\n",
    "import matplotlib.pyplot as plt"
   ]
  },
  {
   "cell_type": "code",
   "execution_count": 2,
   "metadata": {},
   "outputs": [],
   "source": [
    "TRACE_NUM = 1000\n",
    "import logging\n",
    "reload(logging)\n",
    "logging.basicConfig(format='%(asctime)s %(levelname)s:%(message)s', level=logging.INFO, datefmt='%H:%M:%S')\n",
    "\n",
    "def trace(items_num, trace_num=TRACE_NUM):\n",
    "    if items_num % trace_num == 0: logging.info(\"Complete items %05d\" % items_num)\n",
    "        \n",
    "def trace_worker(items_num, worker_id, trace_num=TRACE_NUM):\n",
    "    if items_num % trace_num == 0: logging.info(\"Complete items %05d in worker_id %d\" % (items_num, worker_id))"
   ]
  },
  {
   "cell_type": "markdown",
   "metadata": {},
   "source": [
    "### Утилиты"
   ]
  },
  {
   "cell_type": "markdown",
   "metadata": {},
   "source": [
    "#### Декораторы"
   ]
  },
  {
   "cell_type": "code",
   "execution_count": 3,
   "metadata": {},
   "outputs": [],
   "source": [
    "def to_unicode(text):\n",
    "    if not isinstance(text, unicode): text = text.decode('utf8')\n",
    "    return text\n",
    "\n",
    "def to_utf8(text):\n",
    "    if isinstance(text, unicode): text = text.encode('utf8')\n",
    "    return text\n",
    "\n",
    "def convert2unicode(f):\n",
    "    def tmp(text):\n",
    "        if not isinstance(text, unicode): text = text.decode('utf8')\n",
    "        return f(text)\n",
    "    return tmp\n",
    "\n",
    "def convert2lower(f):\n",
    "    def tmp(text):        \n",
    "        return f(text.lower())\n",
    "    return tmp\n",
    "\n",
    "#P.S. Декораторы могут усложнять отладку, так что от них вполне можно отказаться и воспользоваться copy-paste"
   ]
  },
  {
   "cell_type": "markdown",
   "metadata": {},
   "source": [
    "### Извлечение текста из html"
   ]
  },
  {
   "cell_type": "markdown",
   "metadata": {},
   "source": [
    "#### Извлечение текста при помощи встроенных модулей"
   ]
  },
  {
   "cell_type": "code",
   "execution_count": 4,
   "metadata": {},
   "outputs": [],
   "source": [
    "from HTMLParser import HTMLParser\n",
    "import re\n",
    "\n",
    "### Извлечение текста из title можно вписать сюда\n",
    "\n",
    "class TextHTMLParser(HTMLParser):\n",
    "    def __init__(self):\n",
    "        HTMLParser.__init__(self)\n",
    "        self._text = []\n",
    "        self._title = \"\"\n",
    "        self._in_title = False\n",
    "\n",
    "    def handle_data(self, data):\n",
    "        text = data.strip()\n",
    "        if len(text) > 0:\n",
    "            text = re.sub('[ \\t\\r\\n]+', ' ', text)\n",
    "            self._text.append(text + ' ')\n",
    "\n",
    "    def handle_starttag(self, tag, attrs):\n",
    "        if tag == 'p':\n",
    "            self._text.append('\\n\\n')\n",
    "        elif tag == 'br':\n",
    "            self._text.append('\\n')\n",
    "        elif tag == 'title':\n",
    "            self._in_title = True\n",
    "\n",
    "    def handle_startendtag(self, tag, attrs):\n",
    "        if tag == 'br':\n",
    "            self._text.append('\\n\\n')\n",
    "\n",
    "    def text(self):\n",
    "        return ''.join(self._text).strip()\n",
    "\n",
    "@convert2unicode\n",
    "def html2text_parser(text):\n",
    "    parser = TextHTMLParser()\n",
    "    parser.feed(text)\n",
    "    return parser.text()"
   ]
  },
  {
   "cell_type": "markdown",
   "metadata": {},
   "source": [
    "#### Извлечение текста при помощи дополнительных библиотек"
   ]
  },
  {
   "cell_type": "code",
   "execution_count": 5,
   "metadata": {},
   "outputs": [],
   "source": [
    "def html2text_bs(raw_html):\n",
    "    from bs4 import BeautifulSoup\n",
    "    \"\"\"\n",
    "    Тут производится извлечения из html текста\n",
    "    \"\"\"\n",
    "    soup = BeautifulSoup(raw_html, \"html.parser\")\n",
    "    [s.extract() for s in soup(['script', 'style'])]\n",
    "    return soup.get_text()\n",
    "\n",
    "def html2text_bs_visible(raw_html):\n",
    "    from bs4 import BeautifulSoup\n",
    "    \"\"\"\n",
    "    Тут производится извлечения из html текста, который видим пользователю\n",
    "    \"\"\"\n",
    "    soup = BeautifulSoup(raw_html, \"html.parser\")    \n",
    "    [s.extract() for s in soup(['style', 'script', '[document]', 'head', 'title'])]\n",
    "    return soup.get_text()\n",
    "\n",
    "def html2text_boilerpipe(raw_html):\n",
    "    import boilerpipe\n",
    "    \"\"\"\n",
    "    еще одна библиотека очень хорошо извлекающая именно видимый пользователю текст,\n",
    "    но она завязана на java\n",
    "    \"\"\"\n",
    "    pass"
   ]
  },
  {
   "cell_type": "markdown",
   "metadata": {},
   "source": [
    "#### Выбираем какой метод для конвертации html в текст будет основным"
   ]
  },
  {
   "cell_type": "code",
   "execution_count": 6,
   "metadata": {},
   "outputs": [],
   "source": [
    "#html2text = html2text_bs\n",
    "html2text = html2text_parser"
   ]
  },
  {
   "cell_type": "markdown",
   "metadata": {},
   "source": [
    "#### Методы для токенизации текста"
   ]
  },
  {
   "cell_type": "code",
   "execution_count": 7,
   "metadata": {},
   "outputs": [],
   "source": [
    "@convert2lower\n",
    "@convert2unicode\n",
    "def easy_tokenizer(text):\n",
    "    word = unicode()\n",
    "    for symbol in text:\n",
    "        if symbol.isalnum(): word += symbol\n",
    "        elif word:\n",
    "            yield word\n",
    "            word = unicode()\n",
    "    if word: yield word\n",
    "\n",
    "PYMORPHY_CACHE = {}\n",
    "MORPH = None\n",
    "#hint, чтобы установка pymorphy2 не была бы обязательной\n",
    "def get_lemmatizer():\n",
    "    import pymorphy2\n",
    "    global MORPH\n",
    "    if MORPH is None: MORPH = pymorphy2.MorphAnalyzer()\n",
    "    return MORPH\n",
    "\n",
    "@convert2lower\n",
    "@convert2unicode\n",
    "def pymorphy_tokenizer(text):\n",
    "    global PYMORPHY_CACHE\n",
    "    for word in easy_tokenizer(text):\n",
    "        word_hash = hash(word)\n",
    "        if word_hash not in PYMORPHY_CACHE:\n",
    "            PYMORPHY_CACHE[word_hash] = get_lemmatizer().parse(word)[0].normal_form            \n",
    "        yield PYMORPHY_CACHE[word_hash]"
   ]
  },
  {
   "cell_type": "markdown",
   "metadata": {},
   "source": [
    "#### Основная функция, которая вызывается для преобразования html в список слов"
   ]
  },
  {
   "cell_type": "code",
   "execution_count": 8,
   "metadata": {},
   "outputs": [],
   "source": [
    "def html2word(raw_html, to_text=html2text, tokenizer=easy_tokenizer):\n",
    "    return tokenizer(to_text(raw_html).lower())"
   ]
  },
  {
   "cell_type": "markdown",
   "metadata": {},
   "source": [
    "#### Рассчет финальных метрик"
   ]
  },
  {
   "cell_type": "code",
   "execution_count": 9,
   "metadata": {},
   "outputs": [],
   "source": [
    "def safe_divide(a, b):\n",
    "    if a == 0: return 0.0\n",
    "    elif b == 0: return 0.0\n",
    "    else: return a/b\n",
    "\n",
    "def calculate_metrics(predictions, threshold):    \n",
    "    \"\"\"\n",
    "    Функция подсчета метрик\n",
    "    Параметры\n",
    "    predictions - ранки по документам\n",
    "    threshold  - порог для метрик\n",
    "    \"\"\"\n",
    "    true_positive = 0\n",
    "    false_positive = 0\n",
    "    true_negative = 0\n",
    "    false_negative = 0\n",
    "    for (url_id, mark, url, prediction) in predictions:        \n",
    "        mark_predict = prediction > threshold\n",
    "\n",
    "        if mark_predict:                     \n",
    "            if mark_predict == mark: true_positive += 1\n",
    "            else: false_positive += 1                    \n",
    "        else:                     \n",
    "            if  mark_predict == mark: true_negative += 1\n",
    "            else: false_negative += 1\n",
    "\n",
    "    class_prec  = safe_divide(true_positive, true_positive + false_positive)\n",
    "    class_recall = safe_divide(true_positive, true_positive + false_negative)\n",
    "        \n",
    "    class_F1 = safe_divide(2 * class_prec * class_recall, class_prec + class_recall)\n",
    "    \n",
    "    \n",
    "    not_class_prec = safe_divide(true_negative, true_negative + false_negative)\n",
    "    not_class_recall = safe_divide(true_negative, true_negative + false_positive)\n",
    "    \n",
    "    not_class_F1 = safe_divide(2 * not_class_prec * not_class_recall, not_class_prec + not_class_recall)\n",
    "    \n",
    "    return ( (class_prec, class_recall, class_F1), (not_class_prec, not_class_recall, not_class_F1) )\n",
    "\n",
    "def arange(start, stop, step):\n",
    "    cur_value = start\n",
    "    while True:\n",
    "        if cur_value > stop: break\n",
    "        yield cur_value\n",
    "        cur_value += step\n",
    "\n",
    "def plot_results(docs, min_threshold=-1, max_threshold=1, step=0.1, trace=False):\n",
    "    x = []\n",
    "    y_p = []\n",
    "    y_n = []\n",
    "    docs_predictions = classifier.predict_all(docs)\n",
    "    for threshold in arange(min_threshold, max_threshold, step):\n",
    "        r = calculate_metrics(docs_predictions, threshold)\n",
    "        x.append(threshold)\n",
    "        y_p.append(r[0])\n",
    "        y_n.append(r[1])        \n",
    "        if trace: \n",
    "            print 'threshold %s' % threshold\n",
    "            print '\\tclass_prec %s, class_recall %s, class_F1 %s' % r[0]\n",
    "            print '\\tnot_class_prec %s, not_class_recall %s, not_class_F1 %s' % r[1]\n",
    "            print '\\t\\tMacroF1Mesure %s' % ((r[0][2] + r[1][2])/2)\n",
    "    plot_stats(x, y_p, \"Class Result\")\n",
    "    plot_stats(x, y_n, \"Not class Result\")    \n",
    "\n",
    "\n",
    "def plot_stats(x, y, title):\n",
    "    plt.figure(figsize=(10, 5))\n",
    "\n",
    "    prec, = plt.plot( x, \n",
    "                     [k[0] for k in y], \"r\", label='Precision', \n",
    "                     linewidth=1)\n",
    "    accur, = plt.plot( x, \n",
    "                      [k[1] for k in y], \"b\", label='Recall',\n",
    "                      linewidth=1)\n",
    "    f1, =    plt.plot( x, \n",
    "                      [k[2] for k in y], \"g\", label='F1',\n",
    "                      linewidth=1)\n",
    "    plt.grid(True)\n",
    "    plt.legend(handles=[prec, accur, f1])\n",
    "    plt.title(title)\n",
    "    plt.show()"
   ]
  },
  {
   "cell_type": "code",
   "execution_count": 10,
   "metadata": {},
   "outputs": [],
   "source": [
    "class MyHTMLParser(HTMLParser):\n",
    "    def __init__(self):\n",
    "        HTMLParser.__init__(self)\n",
    "        self.html = 0\n",
    "        self.head = 0\n",
    "        self.title = 0\n",
    "        self.body = 0\n",
    "        self.anchor = 0\n",
    "        self.title_data = ''\n",
    "        self.anchor_data = ''\n",
    "        self.all_data = ''\n",
    "        \n",
    "    def handle_starttag(self, tag, attrs):\n",
    "        if tag == 'html':\n",
    "            self.html += 1\n",
    "        if tag == 'head':\n",
    "            self.head += 1\n",
    "        if tag == 'title':\n",
    "            self.title += 1\n",
    "        if tag == 'body':\n",
    "            self.body += 1\n",
    "        if tag == 'a':\n",
    "            self.anchor += 1\n",
    "\n",
    "    def handle_endtag(self, tag):\n",
    "        if tag == 'html':\n",
    "            self.html -= 1\n",
    "        if tag == 'head':\n",
    "            self.head -= 1\n",
    "        if tag == 'title':\n",
    "            self.title -= 1\n",
    "        if tag == 'body':\n",
    "            self.body -= 1\n",
    "        if tag == 'a':\n",
    "            self.anchor -= 1\n",
    "\n",
    "    def handle_data(self, data):\n",
    "        if self.html == 1 and self.head == 1 and self.title == 1:\n",
    "            self.title_data += data + ' '\n",
    "        if self.html == 1 and self.body == 1 and self.anchor == 1:\n",
    "            self.anchor_data += data + ' '\n",
    "        self.all_data += data + ' '\n",
    "            \n",
    "    def get_title_words(self):\n",
    "        return filter(None, map(str.rstrip, re.split(' ', to_utf8(self.title_data))))\n",
    "\n",
    "    def get_anchor_words(self):\n",
    "        return filter(None, map(str.rstrip, re.split(' ', to_utf8(self.anchor_data))))  \n",
    "    \n",
    "    def get_all_words(self):\n",
    "        return filter(lambda word : len(word) < 11, filter(None, map(str.rstrip, re.split(' ', to_utf8(self.all_data)))))\n",
    "    \n",
    "    def get_all_text(self):\n",
    "        self.all_data = re.sub('[(\\r\\n|\\r|\\n)]+', ' ', self.all_data)\n",
    "        self.all_data = re.sub(u'[^0-9a-zA-Zа-яА-Я ]+', '', self.all_data)\n",
    "        self.all_data = re.sub(' +', ' ', self.all_data)\n",
    "        return self.all_data"
   ]
  },
  {
   "cell_type": "code",
   "execution_count": 11,
   "metadata": {},
   "outputs": [],
   "source": [
    "def calc_features(url, html_data):\n",
    "    parser = MyHTMLParser()\n",
    "    parser.feed(to_unicode(html_data))\n",
    "    \n",
    "    words = list(html2word(html_data))\n",
    "    title_words = parser.get_title_words()\n",
    "    anchor_words = parser.get_anchor_words()\n",
    "    \n",
    "    words_num = len(words) #0\n",
    "    avg_word_len = 0 \n",
    "    for word in words:\n",
    "        avg_word_len += len(word)\n",
    "    avg_word_len /= words_num #1\n",
    "    title_words_num = len(title_words)     #2\n",
    "    anchor_words_num = len(anchor_words)    #3\n",
    "    compression_level = float(len(to_utf8(html_data).encode('zlib'))) / len(html_data) #4\n",
    "    \n",
    "    return [len(words), avg_word_len, title_words_num, anchor_words_num, compression_level], parser.get_all_text(), parser.get_all_words()"
   ]
  },
  {
   "cell_type": "code",
   "execution_count": 12,
   "metadata": {},
   "outputs": [],
   "source": [
    "from lxml import html"
   ]
  },
  {
   "cell_type": "code",
   "execution_count": 13,
   "metadata": {},
   "outputs": [
    {
     "name": "stdout",
     "output_type": "stream",
     "text": [
      "['Ololo', '\\xd1\\x81\\xd0\\xbf\\xd0\\xb0\\xd0\\xbc', '1', '2', '3', 'alskgn', 'jhgqqqqqqq']\n"
     ]
    }
   ],
   "source": [
    "test_html_data = u'''\n",
    "<html>\n",
    "<title> Заголовок Ololo </title>\n",
    "спам 1 2 3\n",
    "<title> alskgn jhgqqqqqqq </title>\n",
    "</html>\n",
    "'''\n",
    "test_url = 'http://ololo'\n",
    "test_features, test_text, test_words = calc_features(test_url, test_html_data)\n",
    "print (test_words)"
   ]
  },
  {
   "cell_type": "code",
   "execution_count": 14,
   "metadata": {},
   "outputs": [],
   "source": [
    "from multiprocessing import Process, Queue\n",
    "\n",
    "DocItem = namedtuple('DocItem', ['doc_id', 'is_spam', 'url', 'features', 'text', 'words'])\n",
    "\n",
    "WORKER_NUM = 8\n",
    "\n",
    "def load_csv(input_file_name, calc_features_f):    \n",
    "    \"\"\"\n",
    "    Загружаем данные и извлекаем на лету признаки\n",
    "    Сам контент не сохраняется, чтобы уменьшить потребление памяти - чтобы\n",
    "    можно было запускать даже на ноутбуках в классе\n",
    "    \"\"\"\n",
    "    \n",
    "    with gzip.open(input_file_name) if input_file_name.endswith('gz') else open(input_file_name)  as input_file:            \n",
    "        headers = input_file.readline()\n",
    "        \n",
    "        for i, line in enumerate(input_file):\n",
    "            trace(i)\n",
    "            parts = line.strip().split('\\t')\n",
    "            url_id = int(parts[0])                                        \n",
    "            mark = bool(int(parts[1]))                    \n",
    "            url = parts[2]\n",
    "            pageInb64 = parts[3]\n",
    "            html_data = base64.b64decode(pageInb64)\n",
    "            features, text, words = calc_features_f(url, html_data)            \n",
    "            yield DocItem(url_id, mark, url, features, text, words)            \n",
    "                \n",
    "        trace(i, 1)  \n",
    "        \n",
    "def load_csv_worker(input_file_name, calc_features_f, worker_id, res_queue):    \n",
    "    with gzip.open(input_file_name) if input_file_name.endswith('gz') else open(input_file_name)  as input_file:            \n",
    "        headers = input_file.readline()\n",
    "        \n",
    "        for i, line in enumerate(input_file):\n",
    "            trace_worker(i, worker_id)\n",
    "            if i % WORKER_NUM != worker_id: continue\n",
    "            parts = line.strip().split('\\t')\n",
    "            url_id = int(parts[0])                                        \n",
    "            mark = bool(int(parts[1]))                    \n",
    "            url = parts[2]\n",
    "            pageInb64 = parts[3]\n",
    "            html_data = base64.b64decode(pageInb64)\n",
    "            features, text, words = calc_features_f(url, html_data)            \n",
    "            res_queue.put(DocItem(url_id, mark, url, features, text, words))\n",
    "                \n",
    "        trace_worker(i, worker_id, 1)  \n",
    "    res_queue.put(None)\n",
    "        \n",
    "def load_csv_multiprocess(input_file_name, calc_features_f):\n",
    "    processes = []\n",
    "    res_queue = Queue()    \n",
    "    for i in xrange(WORKER_NUM):\n",
    "        process = Process(target=load_csv_worker, args=(input_file_name, calc_features_f, i, res_queue))\n",
    "        processes.append(process)\n",
    "        process.start()\n",
    "    \n",
    "    complete_workers = 0\n",
    "    while complete_workers != WORKER_NUM:\n",
    "        item = res_queue.get()\n",
    "        if item is None:\n",
    "            complete_workers += 1\n",
    "        else:\n",
    "            yield item\n",
    "        \n",
    "    for process in processes: process.join()"
   ]
  },
  {
   "cell_type": "markdown",
   "metadata": {},
   "source": [
    "** Обрабатываем входной файл **\n",
    "<br>\n",
    "Формат - поля разделенные табуляциями\n",
    "<br>\n",
    "0 - идентификатор документа\n",
    "<br>\n",
    "1 - метка класса 0 - не спам, 1 - спам\n",
    "<br>\n",
    "2 - урл документа\n",
    "<br>\n",
    "3 - документ в кодировке base64\n",
    "\n",
    "Выходной формат - массив кортежей вида\n",
    "(doc_id, is_spam, url, html_data)"
   ]
  },
  {
   "cell_type": "code",
   "execution_count": 15,
   "metadata": {
    "scrolled": false
   },
   "outputs": [
    {
     "name": "stderr",
     "output_type": "stream",
     "text": [
      "14:50:30 INFO:Complete items 00000 in worker_id 0\n",
      "14:50:30 INFO:Complete items 00000 in worker_id 1\n",
      "14:50:30 INFO:Complete items 00000 in worker_id 2\n",
      "14:50:30 INFO:Complete items 00000 in worker_id 3\n",
      "14:50:30 INFO:Complete items 00000 in worker_id 4\n",
      "14:50:30 INFO:Complete items 00000 in worker_id 6\n",
      "14:50:30 INFO:Complete items 00000 in worker_id 5\n",
      "14:50:30 INFO:Complete items 00000 in worker_id 7\n",
      "14:50:37 INFO:Complete items 01000 in worker_id 0\n",
      "14:50:38 INFO:Complete items 01000 in worker_id 6\n",
      "14:50:39 INFO:Complete items 01000 in worker_id 5\n",
      "14:50:40 INFO:Complete items 01000 in worker_id 3\n",
      "14:50:44 INFO:Complete items 01000 in worker_id 2\n",
      "14:50:45 INFO:Complete items 02000 in worker_id 6\n",
      "14:50:46 INFO:Complete items 02000 in worker_id 0\n",
      "14:50:47 INFO:Complete items 02000 in worker_id 3\n",
      "14:50:49 INFO:Complete items 02000 in worker_id 5\n",
      "14:50:49 INFO:Complete items 01000 in worker_id 4\n",
      "14:50:53 INFO:Complete items 01000 in worker_id 7\n",
      "14:50:54 INFO:Complete items 03000 in worker_id 6\n",
      "14:50:54 INFO:Complete items 03000 in worker_id 0\n",
      "14:50:55 INFO:Complete items 02000 in worker_id 2\n",
      "14:50:57 INFO:Complete items 02000 in worker_id 4\n",
      "14:50:57 INFO:Complete items 03000 in worker_id 5\n",
      "14:50:59 INFO:Complete items 03000 in worker_id 3\n",
      "14:51:01 INFO:Complete items 01000 in worker_id 1\n",
      "14:51:03 INFO:Complete items 04000 in worker_id 6\n",
      "14:51:03 INFO:Complete items 04000 in worker_id 0\n",
      "14:51:03 INFO:Complete items 02000 in worker_id 7\n",
      "14:51:04 INFO:Complete items 03000 in worker_id 4\n",
      "14:51:05 INFO:Complete items 04000 in worker_id 5\n",
      "14:51:06 INFO:Complete items 03000 in worker_id 2\n",
      "14:51:08 INFO:Complete items 02000 in worker_id 1\n",
      "14:51:10 INFO:Complete items 03000 in worker_id 7\n",
      "14:51:10 INFO:Complete items 05000 in worker_id 0\n",
      "14:51:12 INFO:Complete items 05000 in worker_id 6\n",
      "14:51:12 INFO:Complete items 04000 in worker_id 4\n",
      "14:51:13 INFO:Complete items 04000 in worker_id 2\n",
      "14:51:13 INFO:Complete items 04000 in worker_id 3\n",
      "14:51:14 INFO:Complete items 05000 in worker_id 5\n",
      "14:51:16 INFO:Complete items 03000 in worker_id 1\n",
      "14:51:18 INFO:Complete items 04000 in worker_id 7\n",
      "14:51:19 INFO:Complete items 06000 in worker_id 6\n",
      "14:51:20 INFO:Complete items 06000 in worker_id 0\n",
      "14:51:20 INFO:Complete items 05000 in worker_id 2\n",
      "14:51:22 INFO:Complete items 05000 in worker_id 4\n",
      "14:51:24 INFO:Complete items 06000 in worker_id 5\n",
      "14:51:26 INFO:Complete items 04000 in worker_id 1\n",
      "14:51:26 INFO:Complete items 05000 in worker_id 7\n",
      "14:51:28 INFO:Complete items 07000 in worker_id 0\n",
      "14:51:28 INFO:Complete items 07000 in worker_id 6\n",
      "14:51:28 INFO:Complete items 07043 in worker_id 0\n",
      "14:51:28 INFO:Complete items 07043 in worker_id 6\n",
      "14:51:29 INFO:Complete items 06000 in worker_id 2\n",
      "14:51:30 INFO:Complete items 06000 in worker_id 4\n",
      "14:51:32 INFO:Complete items 05000 in worker_id 3\n",
      "14:51:36 INFO:Complete items 06000 in worker_id 7\n",
      "14:51:36 INFO:Complete items 05000 in worker_id 1\n",
      "14:51:38 INFO:Complete items 06000 in worker_id 3\n",
      "14:51:38 INFO:Complete items 07000 in worker_id 2\n",
      "14:51:38 INFO:Complete items 07043 in worker_id 2\n",
      "14:51:40 INFO:Complete items 07000 in worker_id 4\n",
      "14:51:40 INFO:Complete items 07043 in worker_id 4\n",
      "14:51:43 INFO:Complete items 07000 in worker_id 7\n",
      "14:51:43 INFO:Complete items 07043 in worker_id 7\n",
      "14:51:44 INFO:Complete items 06000 in worker_id 1\n",
      "14:51:45 INFO:Complete items 07000 in worker_id 3\n",
      "14:51:46 INFO:Complete items 07043 in worker_id 3\n",
      "14:51:47 INFO:Complete items 07000 in worker_id 1\n",
      "14:51:47 INFO:Complete items 07043 in worker_id 1\n",
      "14:51:50 INFO:Complete items 07000 in worker_id 5\n",
      "14:51:51 INFO:Complete items 07043 in worker_id 5\n"
     ]
    },
    {
     "name": "stdout",
     "output_type": "stream",
     "text": [
      "CPU times: user 2.93 s, sys: 670 ms, total: 3.6 s\n",
      "Wall time: 1min 21s\n"
     ]
    }
   ],
   "source": [
    "%%time\n",
    "\n",
    "TRAIN_DATA_FILE  = 'kaggle_train_data_tab.csv.gz'\n",
    "# TEST_DATA_FILE  = 'kaggle_test_data_tab.csv.gz'\n",
    "\n",
    "train_docs = list(load_csv_multiprocess(TRAIN_DATA_FILE, calc_features))\n",
    "# test_docs = list(load_csv_multiprocess(TEST_DATA_FILE, calc_features))"
   ]
  },
  {
   "cell_type": "code",
   "execution_count": 16,
   "metadata": {},
   "outputs": [
    {
     "name": "stdout",
     "output_type": "stream",
     "text": [
      "7044\n"
     ]
    }
   ],
   "source": [
    "print len(train_docs)\n",
    "# print len(test_docs)\n",
    "train_texts = []\n",
    "train_labels = []\n",
    "\n",
    "for doc in train_docs:\n",
    "    train_texts.append(doc.text)\n",
    "    train_labels.append(doc.is_spam)"
   ]
  },
  {
   "cell_type": "code",
   "execution_count": 17,
   "metadata": {},
   "outputs": [
    {
     "name": "stderr",
     "output_type": "stream",
     "text": [
      "/home/lepossum/.local/lib/python2.7/site-packages/matplotlib/axes/_axes.py:6571: UserWarning: The 'normed' kwarg is deprecated, and has been replaced by the 'density' kwarg.\n",
      "  warnings.warn(\"The 'normed' kwarg is deprecated, and has been \"\n"
     ]
    },
    {
     "data": {
      "image/png": "[encoded data removed]",
      "text/plain": [
       "<Figure size 432x288 with 1 Axes>"
      ]
     },
     "metadata": {
      "needs_background": "light"
     },
     "output_type": "display_data"
    }
   ],
   "source": [
    "is_spam_data = [doc.features[0] for doc in train_docs if doc[1] == True]\n",
    "not_spam_data = [doc.features[0] for doc in train_docs if doc[1] == False]\n",
    "bins = range(0,3000,10)\n",
    "plt.hist(is_spam_data, bins=bins, color='red', normed=True, alpha=0.7, label='spam')\n",
    "plt.hist(not_spam_data, bins=bins, color='blue', normed=True, alpha=0.7, label='not_spam')\n",
    "plt.title('NumWords')\n",
    "plt.legend()\n",
    "plt.show()"
   ]
  },
  {
   "cell_type": "code",
   "execution_count": 18,
   "metadata": {},
   "outputs": [
    {
     "data": {
      "image/png": "[encoded data removed]",
      "text/plain": [
       "<Figure size 432x288 with 1 Axes>"
      ]
     },
     "metadata": {
      "needs_background": "light"
     },
     "output_type": "display_data"
    }
   ],
   "source": [
    "is_spam_data = [doc.features[1] for doc in train_docs if doc[1] == True]\n",
    "not_spam_data = [doc.features[1] for doc in train_docs if doc[1] == False]\n",
    "bins = 100\n",
    "# plt.subplot(1,2,1)\n",
    "plt.hist(is_spam_data, bins=bins, color='red', normed=True, alpha=0.7, label='spam')\n",
    "# plt.subplot(1,2,2)\n",
    "plt.hist(not_spam_data, bins=bins, color='blue', normed=True, alpha=0.7, label='not_spam')\n",
    "plt.title('AvgWordLen')\n",
    "plt.legend()\n",
    "plt.show()"
   ]
  },
  {
   "cell_type": "code",
   "execution_count": 19,
   "metadata": {},
   "outputs": [
    {
     "name": "stdout",
     "output_type": "stream",
     "text": [
      "[4, 3, 3, 5, 2, 12, 5, 14, 7, 0]\n"
     ]
    }
   ],
   "source": [
    "print(list([doc.features[2] for doc in train_docs])[0 : 10])"
   ]
  },
  {
   "cell_type": "code",
   "execution_count": 20,
   "metadata": {},
   "outputs": [
    {
     "data": {
      "image/png": "[encoded data removed]",
      "text/plain": [
       "<Figure size 432x288 with 1 Axes>"
      ]
     },
     "metadata": {
      "needs_background": "light"
     },
     "output_type": "display_data"
    }
   ],
   "source": [
    "is_spam_data = [doc.features[2] for doc in train_docs if doc[1] == True]\n",
    "not_spam_data = [doc.features[2] for doc in train_docs if doc[1] == False]\n",
    "bins = range(30)\n",
    "# bins = 30\n",
    "# plt.subplot(1,2,1)\n",
    "plt.hist(is_spam_data, bins=bins, color='red', normed=True, alpha=0.7, label='spam')\n",
    "# plt.subplot(1,2,2)\n",
    "plt.hist(not_spam_data, bins=bins, color='blue', normed=True, alpha=0.7, label='not_spam')\n",
    "plt.title('NumWordsTitle')\n",
    "plt.legend()\n",
    "plt.show()"
   ]
  },
  {
   "cell_type": "code",
   "execution_count": 21,
   "metadata": {},
   "outputs": [
    {
     "data": {
      "image/png": "[encoded data removed]",
      "text/plain": [
       "<Figure size 432x288 with 1 Axes>"
      ]
     },
     "metadata": {
      "needs_background": "light"
     },
     "output_type": "display_data"
    }
   ],
   "source": [
    "#Добавить графики для остальных фичей\n",
    "is_spam_data = [doc.features[3] for doc in train_docs if doc[1] == True]\n",
    "not_spam_data = [doc.features[3] for doc in train_docs if doc[1] == False]\n",
    "bins = range(0, 528)\n",
    "plt.hist(is_spam_data, bins=bins, color='red', normed=True, alpha=0.7, label='spam')\n",
    "plt.hist(not_spam_data, bins=bins, color='blue', normed=True, alpha=0.7, label='not_spam')\n",
    "plt.title('NumWordsAnchor')\n",
    "plt.legend()\n",
    "plt.show()"
   ]
  },
  {
   "cell_type": "code",
   "execution_count": 22,
   "metadata": {},
   "outputs": [
    {
     "data": {
      "image/png": "[encoded data removed]",
      "text/plain": [
       "<Figure size 432x288 with 1 Axes>"
      ]
     },
     "metadata": {
      "needs_background": "light"
     },
     "output_type": "display_data"
    }
   ],
   "source": [
    "is_spam_data = [doc.features[4] for doc in train_docs if doc[1] == True]\n",
    "not_spam_data = [doc.features[4] for doc in train_docs if doc[1] == False]\n",
    "bins = 100\n",
    "plt.hist(is_spam_data, bins=bins, color='red', normed=True, alpha=0.7, label='spam')\n",
    "plt.hist(not_spam_data, bins=bins, color='blue', normed=True, alpha=0.7, label='not_spam')\n",
    "plt.title('CompressRate')\n",
    "plt.legend()\n",
    "plt.show()"
   ]
  },
  {
   "cell_type": "markdown",
   "metadata": {},
   "source": [
    "** Классификатор: **\n",
    "Нужно реализовать"
   ]
  },
  {
   "cell_type": "code",
   "execution_count": 23,
   "metadata": {},
   "outputs": [],
   "source": [
    "class Classifier:\n",
    "    \n",
    "    def __init__(self):\n",
    "        \n",
    "        self.model = Pipeline([('CV', CountVectorizer(analyzer='char', ngram_range=[1,3])),\n",
    "#         self.model = Pipeline([('CV', CountVectorizer(analyzer='word', min_df=0.1, max_df=0.8, ngram_range=[1,3])),\n",
    "                               ('TfIdf', TfidfTransformer()),\n",
    "                               ('XGB', XGBClassifier(n_estimators=1500, max_deepth=12, n_jobs=12))])\n",
    "\n",
    "    def predict(self, doc):\n",
    "        result = self.model.predict([doc.text])\n",
    "        return result\n",
    "    \n",
    "    def predict_proba(self, doc):\n",
    "        result = self.model.predict_proba([doc.text])\n",
    "        return result\n",
    "        \n",
    "    def predict_all(self, docs):\n",
    "        result = []\n",
    "        for doc_num, doc in enumerate(docs):   \n",
    "            result.append((doc.doc_id, doc.is_spam, doc.url, self.predict_proba(doc)))            \n",
    "            trace(doc_num)\n",
    "        return result\n",
    "    \n",
    "    def train(self, train_texts, train_labels):\n",
    "        self.model.fit(train_texts, train_labels)"
   ]
  },
  {
   "cell_type": "code",
   "execution_count": 24,
   "metadata": {
    "scrolled": true
   },
   "outputs": [
    {
     "name": "stdout",
     "output_type": "stream",
     "text": [
      "CPU times: user 1h 41min 31s, sys: 4.36 s, total: 1h 41min 36s\n",
      "Wall time: 14min 15s\n"
     ]
    }
   ],
   "source": [
    "%%time\n",
    "classifier = Classifier()\n",
    "classifier.train(train_texts, train_labels)"
   ]
  },
  {
   "cell_type": "code",
   "execution_count": 25,
   "metadata": {},
   "outputs": [
    {
     "data": {
      "text/plain": [
       "array([[0.9442586 , 0.05574145]], dtype=float32)"
      ]
     },
     "execution_count": 25,
     "metadata": {},
     "output_type": "execute_result"
    }
   ],
   "source": [
    "#Посмотреть, что предсказывается для тестового html\n",
    "classifier.predict_proba(DocItem(0, 0, test_url , test_features, test_text, test_words))"
   ]
  },
  {
   "cell_type": "code",
   "execution_count": 26,
   "metadata": {},
   "outputs": [
    {
     "name": "stderr",
     "output_type": "stream",
     "text": [
      "15:06:11 INFO:Complete items 00000\n"
     ]
    },
    {
     "data": {
      "text/plain": [
       "[(0, 0, 'http://ololo', array([[0.9442586 , 0.05574145]], dtype=float32))]"
      ]
     },
     "execution_count": 26,
     "metadata": {},
     "output_type": "execute_result"
    }
   ],
   "source": [
    "classifier.predict_all([DocItem(0, 0, test_url , test_features, test_text, test_words)])"
   ]
  },
  {
   "cell_type": "markdown",
   "metadata": {},
   "source": [
    "** Рисуем графики **"
   ]
  },
  {
   "cell_type": "markdown",
   "metadata": {
    "scrolled": true
   },
   "source": [
    "plot_results(train_docs, min_threshold=0, max_threshold=3000, step=100, trace=1)"
   ]
  },
  {
   "cell_type": "code",
   "execution_count": 28,
   "metadata": {},
   "outputs": [
    {
     "name": "stderr",
     "output_type": "stream",
     "text": [
      "15:23:32 INFO:Complete items 00000 in worker_id 0\n",
      "15:23:32 INFO:Complete items 00000 in worker_id 1\n",
      "15:23:32 INFO:Complete items 00000 in worker_id 2\n",
      "15:23:32 INFO:Complete items 00000 in worker_id 3\n",
      "15:23:32 INFO:Complete items 00000 in worker_id 4\n",
      "15:23:32 INFO:Complete items 00000 in worker_id 5\n",
      "15:23:32 INFO:Complete items 00000 in worker_id 6\n",
      "15:23:32 INFO:Complete items 00000 in worker_id 7\n",
      "15:23:32 INFO:Complete items 00000\n",
      "15:23:45 INFO:Complete items 01000 in worker_id 1\n",
      "15:23:45 INFO:Complete items 01000 in worker_id 2\n",
      "15:23:47 INFO:Complete items 01000 in worker_id 5\n",
      "15:23:48 INFO:Complete items 01000 in worker_id 6\n",
      "15:23:53 INFO:Complete items 01000 in worker_id 7\n",
      "15:23:56 INFO:Complete items 02000 in worker_id 2\n",
      "15:23:57 INFO:Complete items 01000 in worker_id 4\n",
      "15:24:00 INFO:Complete items 02000 in worker_id 5\n",
      "15:24:07 INFO:Complete items 02000 in worker_id 1\n",
      "15:24:15 INFO:Complete items 01000 in worker_id 3\n",
      "15:24:16 INFO:Complete items 02000 in worker_id 6\n",
      "15:24:25 INFO:Complete items 03000 in worker_id 5\n",
      "15:24:28 INFO:Complete items 02000 in worker_id 4\n",
      "15:24:31 INFO:Complete items 03000 in worker_id 2\n",
      "15:24:35 INFO:Complete items 03000 in worker_id 6\n",
      "15:24:36 INFO:Complete items 02000 in worker_id 3\n",
      "15:24:38 INFO:Complete items 04000 in worker_id 5\n",
      "15:24:47 INFO:Complete items 04000 in worker_id 2\n",
      "15:24:57 INFO:Complete items 03000 in worker_id 3\n",
      "15:24:57 INFO:Complete items 03000 in worker_id 4\n",
      "15:24:58 INFO:Complete items 04000 in worker_id 6\n",
      "15:24:58 INFO:Complete items 05000 in worker_id 2\n",
      "15:25:09 INFO:Complete items 03000 in worker_id 1\n",
      "15:25:10 INFO:Complete items 05000 in worker_id 5\n",
      "15:25:10 INFO:Complete items 05000 in worker_id 6\n",
      "15:25:11 INFO:Complete items 06000 in worker_id 2\n",
      "15:25:18 INFO:Complete items 06000 in worker_id 6\n",
      "15:25:18 INFO:Complete items 04000 in worker_id 4\n",
      "15:25:21 INFO:Complete items 04000 in worker_id 3\n",
      "15:25:24 INFO:Complete items 04000 in worker_id 1\n",
      "15:25:24 INFO:Complete items 07000 in worker_id 2\n",
      "15:25:34 INFO:Complete items 05000 in worker_id 3\n",
      "15:25:34 INFO:Complete items 05000 in worker_id 4\n",
      "15:25:38 INFO:Complete items 05000 in worker_id 1\n",
      "15:25:39 INFO:Complete items 08000 in worker_id 2\n",
      "15:25:43 INFO:Complete items 07000 in worker_id 6\n",
      "15:25:52 INFO:Complete items 06000 in worker_id 1\n",
      "15:25:53 INFO:Complete items 09000 in worker_id 2\n",
      "15:25:56 INFO:Complete items 06000 in worker_id 3\n",
      "15:25:58 INFO:Complete items 06000 in worker_id 4\n",
      "15:25:59 INFO:Complete items 08000 in worker_id 6\n",
      "15:26:19 INFO:Complete items 07000 in worker_id 3\n",
      "15:26:20 INFO:Complete items 07000 in worker_id 4\n",
      "15:26:20 INFO:Complete items 09000 in worker_id 6\n",
      "15:26:26 INFO:Complete items 10000 in worker_id 2\n",
      "15:26:28 INFO:Complete items 07000 in worker_id 1\n",
      "15:26:36 INFO:Complete items 08000 in worker_id 3\n",
      "15:26:40 INFO:Complete items 10000 in worker_id 6\n",
      "15:27:03 INFO:Complete items 08000 in worker_id 1\n",
      "15:27:03 INFO:Complete items 09000 in worker_id 3\n",
      "15:27:09 INFO:Complete items 08000 in worker_id 4\n",
      "15:27:09 INFO:Complete items 11000 in worker_id 6\n",
      "15:27:21 INFO:Complete items 09000 in worker_id 1\n",
      "15:27:25 INFO:Complete items 11000 in worker_id 2\n",
      "15:27:27 INFO:Complete items 09000 in worker_id 4\n",
      "15:27:34 INFO:Complete items 10000 in worker_id 1\n",
      "15:27:39 INFO:Complete items 01000 in worker_id 0\n",
      "15:27:49 INFO:Complete items 01000\n",
      "15:27:54 INFO:Complete items 11000 in worker_id 1\n",
      "15:27:59 INFO:Complete items 12000 in worker_id 2\n",
      "15:28:00 INFO:Complete items 10000 in worker_id 4\n",
      "15:28:02 INFO:Complete items 12000 in worker_id 6\n",
      "15:28:13 INFO:Complete items 11000 in worker_id 4\n",
      "15:28:14 INFO:Complete items 02000 in worker_id 0\n",
      "15:28:14 INFO:Complete items 02000 in worker_id 7\n",
      "15:28:17 INFO:Complete items 13000 in worker_id 6\n",
      "15:28:18 INFO:Complete items 12000 in worker_id 1\n",
      "15:28:35 INFO:Complete items 13000 in worker_id 1\n",
      "15:28:35 INFO:Complete items 03000 in worker_id 7\n",
      "15:28:37 INFO:Complete items 12000 in worker_id 4\n",
      "15:28:38 INFO:Complete items 03000 in worker_id 0\n",
      "15:28:42 INFO:Complete items 13000 in worker_id 2\n",
      "15:28:46 INFO:Complete items 14000 in worker_id 6\n",
      "15:28:47 INFO:Complete items 14000 in worker_id 1\n",
      "15:28:50 INFO:Complete items 04000 in worker_id 0\n",
      "15:28:51 INFO:Complete items 13000 in worker_id 4\n",
      "15:28:52 INFO:Complete items 04000 in worker_id 7\n",
      "15:28:58 INFO:Complete items 15000 in worker_id 1\n",
      "15:28:59 INFO:Complete items 15000 in worker_id 6\n",
      "15:29:01 INFO:Complete items 05000 in worker_id 0\n",
      "15:29:05 INFO:Complete items 05000 in worker_id 7\n",
      "15:29:05 INFO:Complete items 14000 in worker_id 4\n",
      "15:29:13 INFO:Complete items 16000 in worker_id 1\n",
      "15:29:14 INFO:Complete items 16038 in worker_id 1\n",
      "15:29:15 INFO:Complete items 06000 in worker_id 0\n",
      "15:29:21 INFO:Complete items 06000 in worker_id 5\n",
      "15:29:24 INFO:Complete items 14000 in worker_id 2\n",
      "15:29:32 INFO:Complete items 06000 in worker_id 7\n",
      "15:29:36 INFO:Complete items 07000 in worker_id 5\n",
      "15:29:40 INFO:Complete items 07000 in worker_id 0\n",
      "15:29:44 INFO:Complete items 07000 in worker_id 7\n",
      "15:29:46 INFO:Complete items 15000 in worker_id 4\n",
      "15:29:47 INFO:Complete items 15000 in worker_id 2\n",
      "15:29:54 INFO:Complete items 08000 in worker_id 5\n",
      "15:29:57 INFO:Complete items 08000 in worker_id 0\n",
      "15:29:59 INFO:Complete items 16000 in worker_id 4\n",
      "15:29:59 INFO:Complete items 16038 in worker_id 4\n",
      "15:30:00 INFO:Complete items 08000 in worker_id 7\n",
      "15:30:01 INFO:Complete items 16000 in worker_id 6\n",
      "15:30:02 INFO:Complete items 16038 in worker_id 6\n",
      "15:30:08 INFO:Complete items 09000 in worker_id 5\n",
      "15:30:08 INFO:Complete items 09000 in worker_id 7\n",
      "15:30:10 INFO:Complete items 16000 in worker_id 2\n",
      "15:30:11 INFO:Complete items 16038 in worker_id 2\n",
      "15:30:21 INFO:Complete items 09000 in worker_id 0\n",
      "15:30:25 INFO:Complete items 10000 in worker_id 3\n",
      "15:30:26 INFO:Complete items 10000 in worker_id 5\n",
      "15:30:30 INFO:Complete items 10000 in worker_id 0\n",
      "15:30:32 INFO:Complete items 11000 in worker_id 5\n",
      "15:30:33 INFO:Complete items 11000 in worker_id 3\n",
      "15:30:38 INFO:Complete items 10000 in worker_id 7\n",
      "15:30:38 INFO:Complete items 11000 in worker_id 0\n",
      "15:30:39 INFO:Complete items 12000 in worker_id 3\n",
      "15:30:40 INFO:Complete items 12000 in worker_id 5\n",
      "15:30:44 INFO:Complete items 11000 in worker_id 7\n",
      "15:30:45 INFO:Complete items 12000 in worker_id 0\n",
      "15:30:45 INFO:Complete items 13000 in worker_id 3\n",
      "15:30:47 INFO:Complete items 13000 in worker_id 5\n",
      "15:30:50 INFO:Complete items 13000 in worker_id 0\n",
      "15:30:50 INFO:Complete items 02000\n",
      "15:30:50 INFO:Complete items 12000 in worker_id 7\n",
      "15:30:53 INFO:Complete items 14000 in worker_id 3\n",
      "15:30:56 INFO:Complete items 14000 in worker_id 0\n",
      "15:30:56 INFO:Complete items 13000 in worker_id 7\n",
      "15:30:57 INFO:Complete items 14000 in worker_id 5\n",
      "15:31:01 INFO:Complete items 15000 in worker_id 0\n",
      "15:31:03 INFO:Complete items 15000 in worker_id 3\n",
      "15:31:04 INFO:Complete items 15000 in worker_id 5\n",
      "15:31:06 INFO:Complete items 14000 in worker_id 7\n",
      "15:31:07 INFO:Complete items 16000 in worker_id 0\n",
      "15:31:07 INFO:Complete items 16038 in worker_id 0\n",
      "15:31:10 INFO:Complete items 16000 in worker_id 3\n",
      "15:31:10 INFO:Complete items 16038 in worker_id 3\n",
      "15:31:13 INFO:Complete items 15000 in worker_id 7\n",
      "15:31:19 INFO:Complete items 16000 in worker_id 5\n",
      "15:31:19 INFO:Complete items 16038 in worker_id 5\n",
      "15:31:30 INFO:Complete items 16000 in worker_id 7\n",
      "15:31:32 INFO:Complete items 16038 in worker_id 7\n",
      "15:31:51 INFO:Complete items 03000\n",
      "15:32:34 INFO:Complete items 04000\n",
      "15:33:14 INFO:Complete items 05000\n",
      "15:33:55 INFO:Complete items 06000\n",
      "15:34:35 INFO:Complete items 07000\n",
      "15:35:14 INFO:Complete items 08000\n",
      "15:35:54 INFO:Complete items 09000\n",
      "15:36:32 INFO:Complete items 10000\n",
      "15:37:12 INFO:Complete items 11000\n",
      "15:37:52 INFO:Complete items 12000\n",
      "15:38:30 INFO:Complete items 13000\n",
      "15:39:11 INFO:Complete items 14000\n",
      "15:39:51 INFO:Complete items 15000\n",
      "15:40:29 INFO:Complete items 16000\n"
     ]
    },
    {
     "ename": "IndexError",
     "evalue": "index 1 is out of bounds for axis 0 with size 1",
     "output_type": "error",
     "traceback": [
      "\u001b[0;31m\u001b[0m",
      "\u001b[0;31mIndexError\u001b[0mTraceback (most recent call last)",
      "\u001b[0;32m<ipython-input-28-7febcfe7be22>\u001b[0m in \u001b[0;36m<module>\u001b[0;34m()\u001b[0m\n\u001b[0;32m----> 1\u001b[0;31m \u001b[0mget_ipython\u001b[0m\u001b[0;34m(\u001b[0m\u001b[0;34m)\u001b[0m\u001b[0;34m.\u001b[0m\u001b[0mrun_cell_magic\u001b[0m\u001b[0;34m(\u001b[0m\u001b[0;34mu'time'\u001b[0m\u001b[0;34m,\u001b[0m \u001b[0;34mu''\u001b[0m\u001b[0;34m,\u001b[0m \u001b[0;34mu\"\\nTEST_DATA_FILE  = 'kaggle_test_data_tab.csv.gz'\\n# TEST_DATA_FILE  = 'kaggle/kaggle_train_data_tab_300.csv.gz'\\n\\ntest_docs = load_csv_multiprocess(TEST_DATA_FILE, calc_features)\\n\\nthreshold = 0.4\\n\\nwith open('my_submission_0.4.csv' , 'wb') as fout:\\n    writer = csv.writer(fout)\\n    writer.writerow(['Id','Prediction'])\\n    for item in classifier.predict_all(test_docs):\\n        prediction =  1 if item[3][1] > threshold else 0\\n        writer.writerow([item[0], prediction])\"\u001b[0m\u001b[0;34m)\u001b[0m\u001b[0;34m\u001b[0m\u001b[0m\n\u001b[0m",
      "\u001b[0;32m/home/lepossum/.local/lib/python2.7/site-packages/IPython/core/interactiveshell.pyc\u001b[0m in \u001b[0;36mrun_cell_magic\u001b[0;34m(self, magic_name, line, cell)\u001b[0m\n\u001b[1;32m   2115\u001b[0m             \u001b[0mmagic_arg_s\u001b[0m \u001b[0;34m=\u001b[0m \u001b[0mself\u001b[0m\u001b[0;34m.\u001b[0m\u001b[0mvar_expand\u001b[0m\u001b[0;34m(\u001b[0m\u001b[0mline\u001b[0m\u001b[0;34m,\u001b[0m \u001b[0mstack_depth\u001b[0m\u001b[0;34m)\u001b[0m\u001b[0;34m\u001b[0m\u001b[0m\n\u001b[1;32m   2116\u001b[0m             \u001b[0;32mwith\u001b[0m \u001b[0mself\u001b[0m\u001b[0;34m.\u001b[0m\u001b[0mbuiltin_trap\u001b[0m\u001b[0;34m:\u001b[0m\u001b[0;34m\u001b[0m\u001b[0m\n\u001b[0;32m-> 2117\u001b[0;31m                 \u001b[0mresult\u001b[0m \u001b[0;34m=\u001b[0m \u001b[0mfn\u001b[0m\u001b[0;34m(\u001b[0m\u001b[0mmagic_arg_s\u001b[0m\u001b[0;34m,\u001b[0m \u001b[0mcell\u001b[0m\u001b[0;34m)\u001b[0m\u001b[0;34m\u001b[0m\u001b[0m\n\u001b[0m\u001b[1;32m   2118\u001b[0m             \u001b[0;32mreturn\u001b[0m \u001b[0mresult\u001b[0m\u001b[0;34m\u001b[0m\u001b[0m\n\u001b[1;32m   2119\u001b[0m \u001b[0;34m\u001b[0m\u001b[0m\n",
      "\u001b[0;32m</home/lepossum/.local/lib/python2.7/site-packages/decorator.pyc:decorator-gen-60>\u001b[0m in \u001b[0;36mtime\u001b[0;34m(self, line, cell, local_ns)\u001b[0m\n",
      "\u001b[0;32m/home/lepossum/.local/lib/python2.7/site-packages/IPython/core/magic.pyc\u001b[0m in \u001b[0;36m<lambda>\u001b[0;34m(f, *a, **k)\u001b[0m\n\u001b[1;32m    186\u001b[0m     \u001b[0;31m# but it's overkill for just that one bit of state.\u001b[0m\u001b[0;34m\u001b[0m\u001b[0;34m\u001b[0m\u001b[0m\n\u001b[1;32m    187\u001b[0m     \u001b[0;32mdef\u001b[0m \u001b[0mmagic_deco\u001b[0m\u001b[0;34m(\u001b[0m\u001b[0marg\u001b[0m\u001b[0;34m)\u001b[0m\u001b[0;34m:\u001b[0m\u001b[0;34m\u001b[0m\u001b[0m\n\u001b[0;32m--> 188\u001b[0;31m         \u001b[0mcall\u001b[0m \u001b[0;34m=\u001b[0m \u001b[0;32mlambda\u001b[0m \u001b[0mf\u001b[0m\u001b[0;34m,\u001b[0m \u001b[0;34m*\u001b[0m\u001b[0ma\u001b[0m\u001b[0;34m,\u001b[0m \u001b[0;34m**\u001b[0m\u001b[0mk\u001b[0m\u001b[0;34m:\u001b[0m \u001b[0mf\u001b[0m\u001b[0;34m(\u001b[0m\u001b[0;34m*\u001b[0m\u001b[0ma\u001b[0m\u001b[0;34m,\u001b[0m \u001b[0;34m**\u001b[0m\u001b[0mk\u001b[0m\u001b[0;34m)\u001b[0m\u001b[0;34m\u001b[0m\u001b[0m\n\u001b[0m\u001b[1;32m    189\u001b[0m \u001b[0;34m\u001b[0m\u001b[0m\n\u001b[1;32m    190\u001b[0m         \u001b[0;32mif\u001b[0m \u001b[0mcallable\u001b[0m\u001b[0;34m(\u001b[0m\u001b[0marg\u001b[0m\u001b[0;34m)\u001b[0m\u001b[0;34m:\u001b[0m\u001b[0;34m\u001b[0m\u001b[0m\n",
      "\u001b[0;32m/home/lepossum/.local/lib/python2.7/site-packages/IPython/core/magics/execution.pyc\u001b[0m in \u001b[0;36mtime\u001b[0;34m(self, line, cell, local_ns)\u001b[0m\n\u001b[1;32m   1191\u001b[0m         \u001b[0;32melse\u001b[0m\u001b[0;34m:\u001b[0m\u001b[0;34m\u001b[0m\u001b[0m\n\u001b[1;32m   1192\u001b[0m             \u001b[0mst\u001b[0m \u001b[0;34m=\u001b[0m \u001b[0mclock2\u001b[0m\u001b[0;34m(\u001b[0m\u001b[0;34m)\u001b[0m\u001b[0;34m\u001b[0m\u001b[0m\n\u001b[0;32m-> 1193\u001b[0;31m             \u001b[0;32mexec\u001b[0m\u001b[0;34m(\u001b[0m\u001b[0mcode\u001b[0m\u001b[0;34m,\u001b[0m \u001b[0mglob\u001b[0m\u001b[0;34m,\u001b[0m \u001b[0mlocal_ns\u001b[0m\u001b[0;34m)\u001b[0m\u001b[0;34m\u001b[0m\u001b[0m\n\u001b[0m\u001b[1;32m   1194\u001b[0m             \u001b[0mend\u001b[0m \u001b[0;34m=\u001b[0m \u001b[0mclock2\u001b[0m\u001b[0;34m(\u001b[0m\u001b[0;34m)\u001b[0m\u001b[0;34m\u001b[0m\u001b[0m\n\u001b[1;32m   1195\u001b[0m             \u001b[0mout\u001b[0m \u001b[0;34m=\u001b[0m \u001b[0mNone\u001b[0m\u001b[0;34m\u001b[0m\u001b[0m\n",
      "\u001b[0;32m<timed exec>\u001b[0m in \u001b[0;36m<module>\u001b[0;34m()\u001b[0m\n",
      "\u001b[0;31mIndexError\u001b[0m: index 1 is out of bounds for axis 0 with size 1"
     ]
    }
   ],
   "source": [
    "%%time\n",
    "\n",
    "TEST_DATA_FILE  = 'kaggle_test_data_tab.csv.gz'\n",
    "# TEST_DATA_FILE  = 'kaggle/kaggle_train_data_tab_300.csv.gz'\n",
    "\n",
    "test_docs = load_csv_multiprocess(TEST_DATA_FILE, calc_features)\n",
    "\n",
    "threshold = 0.5\n",
    "\n",
    "with open('my_submission_0.5.csv' ,'wb') as fout:\n",
    "    writer = csv.writer(fout)\n",
    "    writer.writerow(['Id','Prediction'])\n",
    "    for item in classifier.predict_all(test_docs):\n",
    "        prediction =  1 if item[3][1] > threshold else 0\n",
    "        writer.writerow([item[0], prediction])"
   ]
  },
  {
   "cell_type": "code",
   "execution_count": null,
   "metadata": {},
   "outputs": [],
   "source": []
  }
 ],
 "metadata": {
  "anaconda-cloud": {},
  "kernelspec": {
   "display_name": "Python 2",
   "language": "python",
   "name": "python2"
  },
  "language_info": {
   "codemirror_mode": {
    "name": "ipython",
    "version": 2
   },
   "file_extension": ".py",
   "mimetype": "text/x-python",
   "name": "python",
   "nbconvert_exporter": "python",
   "pygments_lexer": "ipython2",
   "version": "2.7.15rc1"
  }
 },
 "nbformat": 4,
 "nbformat_minor": 1
}
