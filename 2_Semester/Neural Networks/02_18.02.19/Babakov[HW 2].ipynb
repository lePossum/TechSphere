{
 "cells": [
  {
   "cell_type": "markdown",
   "metadata": {},
   "source": [
    "## Семинар 2 \"Распознавание рукописных цифр\""
   ]
  },
  {
   "cell_type": "markdown",
   "metadata": {},
   "source": [
    "ФИО: Бабаков Вадим Валерьевич"
   ]
  },
  {
   "cell_type": "markdown",
   "metadata": {},
   "source": [
    "В этом задании мы используем нейронную сеть из предыдущего семинара для распознавания рукописных цифр. Также мы исследуем как влияет выбор нелинейности и предобработка данных на качество классификации. \n",
    "\n",
    "Чтобы не тратить время на подготовку данных, мы прилагаем готовый код с примером использования для получения обучающей и тестовой выборок. Для запуска скрипта вам понадобится библиотека PyTorch (инструкции по установке можно найти на сайте <a href=\"http://pytorch.org\">pytorch.org</a>)"
   ]
  },
  {
   "cell_type": "code",
   "execution_count": 1,
   "metadata": {},
   "outputs": [],
   "source": [
    "import matplotlib.pyplot as plt\n",
    "from torch.utils.data import DataLoader\n",
    "from torchvision.datasets import MNIST\n",
    "from torchvision import transforms\n",
    "import numpy as np\n",
    "import sys\n",
    "from layers import Linear, Sigmoid, NLLLoss, NeuralNetwork # Results from Seminar 1\n",
    "from IPython.display import clear_output\n",
    "%matplotlib inline"
   ]
  },
  {
   "cell_type": "code",
   "execution_count": 2,
   "metadata": {
    "scrolled": true
   },
   "outputs": [],
   "source": [
    "transform = transforms.Compose([\n",
    "                       transforms.ToTensor(),\n",
    "                       transforms.Normalize((0.1307,), (0.3081,))\n",
    "                    ])\n",
    "train_dataset = MNIST('.', train=True, download=True, transform=transform)\n",
    "test_dataset = MNIST('.', train=False, transform=transform)\n",
    "\n",
    "train_loader = DataLoader(train_dataset, batch_size=32, shuffle=True)\n",
    "test_loader = DataLoader(test_dataset, batch_size=32, shuffle=False)"
   ]
  },
  {
   "cell_type": "code",
   "execution_count": 3,
   "metadata": {},
   "outputs": [],
   "source": [
    "X, y = next(iter(train_loader))\n",
    "X = X.numpy()\n",
    "y = y.numpy()"
   ]
  },
  {
   "cell_type": "code",
   "execution_count": 4,
   "metadata": {},
   "outputs": [
    {
     "data": {
      "image/png": "[encoded data removed]",
      "text/plain": [
       "<Figure size 432x504 with 25 Axes>"
      ]
     },
     "metadata": {},
     "output_type": "display_data"
    }
   ],
   "source": [
    "plt.figure(figsize=(6, 7))\n",
    "for i in range(25):\n",
    "    plt.subplot(5, 5, i+1)\n",
    "    plt.imshow(X[i].reshape(28, 28), cmap=plt.cm.Greys_r)\n",
    "    plt.title(y[i])\n",
    "    plt.axis('off')"
   ]
  },
  {
   "cell_type": "markdown",
   "metadata": {},
   "source": [
    "### Часть 1: MNIST\n",
    "Обучите полносвязную нейронную сеть с архитектурой 784-100-100-10 и сигмоидой в качестве нелинейности. Какую точность классификации удалось получить? Нарисуйте график сходимости на обучающей и тестовой выборках. В качестве темпа обучения (learning rate) возьмите 0.01"
   ]
  },
  {
   "cell_type": "code",
   "execution_count": 5,
   "metadata": {},
   "outputs": [],
   "source": [
    "def train(network, epochs, learning_rate, train_loader=train_loader, \n",
    "          test_loader=test_loader, plot=True, verbose=True, loss=None):\n",
    "    loss = loss or NLLLoss()\n",
    "    train_loss_epochs = []\n",
    "    test_loss_epochs = []\n",
    "    train_accuracy_epochs = []\n",
    "    test_accuracy_epochs = []\n",
    "    try:\n",
    "        for epoch in range(epochs):\n",
    "            losses = []\n",
    "            accuracies = []\n",
    "            for X, y in train_loader:\n",
    "                X = X.view(X.shape[0], -1).numpy()\n",
    "                y = y.numpy()\n",
    "                prediction = network.forward(X)\n",
    "                loss_batch = loss.forward(prediction, y)\n",
    "                losses.append(loss_batch)\n",
    "                dLdx = loss.backward()\n",
    "                network.backward(dLdx)\n",
    "                network.step(learning_rate)\n",
    "                accuracies.append((np.argmax(prediction, 1)==y).mean())\n",
    "            train_loss_epochs.append(np.mean(losses))\n",
    "            train_accuracy_epochs.append(np.mean(accuracies))\n",
    "            losses = []\n",
    "            accuracies = []    \n",
    "            for X, y in test_loader:\n",
    "                X = X.view(X.shape[0], -1).numpy()\n",
    "                y = y.numpy()\n",
    "                prediction = network.forward(X)\n",
    "                loss_batch = loss.forward(prediction, y)\n",
    "                losses.append(loss_batch)\n",
    "                accuracies.append((np.argmax(prediction, 1)==y).mean())\n",
    "            test_loss_epochs.append(np.mean(losses))\n",
    "            test_accuracy_epochs.append(np.mean(accuracies))\n",
    "            clear_output(True)\n",
    "            if verbose:\n",
    "                sys.stdout.write('\\rEpoch {0}... (Train/Test) NLL: {1:.3f}/{2:.3f}\\tAccuracy: {3:.3f}/{4:.3f}'.format(\n",
    "                            epoch, train_loss_epochs[-1], test_loss_epochs[-1],\n",
    "                            train_accuracy_epochs[-1], test_accuracy_epochs[-1]))\n",
    "            if plot:\n",
    "                plt.figure(figsize=(12, 5))\n",
    "                plt.subplot(1, 2, 1)\n",
    "                plt.plot(train_loss_epochs, label='Train')\n",
    "                plt.plot(test_loss_epochs, label='Test')\n",
    "                plt.xlabel('Epochs', fontsize=16)\n",
    "                plt.ylabel('Loss', fontsize=16)\n",
    "                plt.legend(loc=0, fontsize=16)\n",
    "                plt.grid('on')\n",
    "                plt.subplot(1, 2, 2)\n",
    "                plt.plot(train_accuracy_epochs, label='Train accuracy')\n",
    "                plt.plot(test_accuracy_epochs, label='Test accuracy')\n",
    "                plt.xlabel('Epochs', fontsize=16)\n",
    "                plt.ylabel('Loss', fontsize=16)\n",
    "                plt.legend(loc=0, fontsize=16)\n",
    "                plt.grid('on')\n",
    "                plt.show()\n",
    "    except KeyboardInterrupt:\n",
    "        pass\n",
    "    return train_loss_epochs, \\\n",
    "           test_loss_epochs, \\\n",
    "           train_accuracy_epochs, \\\n",
    "           test_accuracy_epochs"
   ]
  },
  {
   "cell_type": "code",
   "execution_count": null,
   "metadata": {},
   "outputs": [],
   "source": [
    "network = NeuralNetwork([Linear(784, 100), Sigmoid(),\n",
    "               Linear(100, 100), Sigmoid(),\n",
    "               Linear(100, 10)])\n",
    "loss = NLLLoss()"
   ]
  },
  {
   "cell_type": "code",
   "execution_count": null,
   "metadata": {},
   "outputs": [],
   "source": [
    "tr_s, ts_s, tr_ac_s, ts_ac_s = train(network, 20, 0.01)"
   ]
  },
  {
   "cell_type": "markdown",
   "metadata": {},
   "source": [
    "### Часть 2: Нелинейности"
   ]
  },
  {
   "cell_type": "markdown",
   "metadata": {},
   "source": [
    "Обучите нейронную сеть с другими нелинейностями: ReLU и ELU. Сравните скорости сходимости и качество классификации с различными функциями активации."
   ]
  },
  {
   "cell_type": "code",
   "execution_count": 1,
   "metadata": {},
   "outputs": [],
   "source": [
    "class ReLU:\n",
    "    def __init__(self):\n",
    "        pass\n",
    "\n",
    "    def forward(self, X):\n",
    "        '''\n",
    "        Passes objects through this layer.\n",
    "        X is np.array of size (N, d)\n",
    "        '''\n",
    "        self.X = X\n",
    "        return np.maximum(X, 0)\n",
    "\n",
    "    def backward(self, dLdy):\n",
    "        '''\n",
    "        1. Compute dLdx.\n",
    "        2. Return dLdx\n",
    "        '''\n",
    "        dydX = (self.X >= 0).astype(float)\n",
    "        return dLdy*dydX\n",
    "\n",
    "    def step(self, learning_rate):\n",
    "        pass"
   ]
  },
  {
   "cell_type": "code",
   "execution_count": 7,
   "metadata": {},
   "outputs": [],
   "source": [
    "class ELU:\n",
    "    '''\n",
    "    ELU(x) = x, x > 0; a*(e^x - 1), x <= 0\n",
    "    '''\n",
    "    \n",
    "    def __init__(self, a=1):\n",
    "        self.a = a\n",
    "\n",
    "    def forward(self, X):\n",
    "        '''\n",
    "        Passes objects through this layer.\n",
    "        X is np.array of size (N, d)\n",
    "        '''\n",
    "        self.X = X\n",
    "        return X * (X > 0) + self.a * (np.exp(X) - 1) * (X <= 0)\n",
    "    \n",
    "    def backward(self, dLdy):\n",
    "        '''\n",
    "        1. Compute dLdx.\n",
    "        2. Return dLdx\n",
    "        '''\n",
    "        X = self.X\n",
    "        dydX = (X > 0) + self.a * np.exp(X) * (X <= 0)\n",
    "        return dLdy*dydX\n",
    "\n",
    "    def step(self, learning_rate):\n",
    "        pass"
   ]
  },
  {
   "cell_type": "code",
   "execution_count": null,
   "metadata": {},
   "outputs": [],
   "source": [
    "network = NeuralNetwork([Linear(784, 100), ReLU(),\n",
    "               Linear(100, 100), ReLU(),\n",
    "               Linear(100, 10)])\n",
    "loss = NLLLoss()\n",
    "tr_r, ts_r, tr_ac_r, ts_ac_r = train(network, 20, 0.01, plot=False, verbose=False)"
   ]
  },
  {
   "cell_type": "code",
   "execution_count": null,
   "metadata": {},
   "outputs": [],
   "source": [
    "network = NeuralNetwork([Linear(784, 100), ELU(),\n",
    "               Linear(100, 100), ELU(),\n",
    "               Linear(100, 10)])\n",
    "loss = NLLLoss()\n",
    "tr_e, ts_e, tr_ac_e, ts_ac_e = train(network, 20, 0.01, plot=False, verbose=False)"
   ]
  },
  {
   "cell_type": "code",
   "execution_count": null,
   "metadata": {
    "scrolled": true
   },
   "outputs": [],
   "source": [
    "plt.figure(figsize=(12, 5))\n",
    "plt.subplot(1, 2, 1)\n",
    "plt.title('Loss')\n",
    "plt.plot(ts_s, label='Sigmoid')\n",
    "plt.plot(ts_r, label='ReLU')\n",
    "plt.plot(ts_e, label='ELU')\n",
    "plt.xlabel('Epochs', fontsize=16)\n",
    "plt.ylabel('Loss', fontsize=16)\n",
    "plt.legend(loc=0, fontsize=16)\n",
    "plt.grid()\n",
    "plt.subplot(1, 2, 2)\n",
    "plt.title('Accuracy')\n",
    "plt.plot(ts_ac_s, label='Sigmoid')\n",
    "plt.plot(ts_ac_r, label='ReLU')\n",
    "plt.plot(ts_ac_e, label='ELU')\n",
    "plt.xlabel('Epochs', fontsize=16)\n",
    "plt.ylabel('Loss', fontsize=16)\n",
    "plt.legend(loc=0, fontsize=16)\n",
    "plt.grid()\n",
    "plt.show()"
   ]
  },
  {
   "cell_type": "markdown",
   "metadata": {},
   "source": [
    "### HW1 (1 балл): Реализовать Tanh"
   ]
  },
  {
   "cell_type": "code",
   "execution_count": 8,
   "metadata": {},
   "outputs": [],
   "source": [
    "# tanh(x) = (e^2x -1)/(e^2x + 1) tanh(x)' = sech(x)^2\n",
    "class tanh:\n",
    "    '''\n",
    "    tanh(x) = numpy.tanh(x)\n",
    "    '''\n",
    "    \n",
    "    def __init__(self, a=1):\n",
    "        self.a = a\n",
    "\n",
    "    def forward(self, X):\n",
    "        '''\n",
    "        Passes objects through this layer.\n",
    "        X is np.array of size (N, d)\n",
    "        '''\n",
    "        self.X = X\n",
    "        return np.tanh(X)\n",
    "    \n",
    "    def backward(self, dLdy):\n",
    "        '''\n",
    "        1. Compute dLdx.\n",
    "        2. Return dLdx\n",
    "        '''\n",
    "        X = self.X\n",
    "        dydX = 1/(np.cosh(X)**2)\n",
    "        return dLdy*dydX\n",
    "\n",
    "    def step(self, learning_rate):\n",
    "        pass"
   ]
  },
  {
   "cell_type": "code",
   "execution_count": null,
   "metadata": {},
   "outputs": [],
   "source": [
    "network = NeuralNetwork([Linear(784, 100), tanh(),\n",
    "               Linear(100, 100), tanh(),\n",
    "               Linear(100, 10)])\n",
    "loss = NLLLoss()\n",
    "tr_r, ts_r, tr_ac_r, ts_ac_r = train(network, 20, 0.01, plot=True, verbose=False)"
   ]
  },
  {
   "cell_type": "markdown",
   "metadata": {},
   "source": [
    "### Часть 3: Анализ ошибок"
   ]
  },
  {
   "cell_type": "code",
   "execution_count": 9,
   "metadata": {},
   "outputs": [],
   "source": [
    "arc_sigm = [Linear(784, 100), Sigmoid(),\n",
    "       Linear(100, 100), Sigmoid(),\n",
    "       Linear(100, 10)]\n",
    "\n",
    "arc_elu = [Linear(784, 100), ELU(),\n",
    "       Linear(100, 100), ELU(),\n",
    "       Linear(100, 10)]\n",
    "\n",
    "arc_relu = [Linear(784, 100), ReLU(),\n",
    "       Linear(100, 100), ReLU(),\n",
    "       Linear(100, 10)]\n",
    "\n",
    "arc_tanh = [Linear(784, 100), tanh(),\n",
    "       Linear(100, 100), tanh(),\n",
    "       Linear(100, 10)]\n",
    "\n",
    "network_sigm = NeuralNetwork(arc_sigm)\n",
    "network_elu = NeuralNetwork(arc_elu)\n",
    "network_relu = NeuralNetwork(arc_relu)\n",
    "network_tanh = NeuralNetwork(arc_tanh)"
   ]
  },
  {
   "cell_type": "code",
   "execution_count": null,
   "metadata": {},
   "outputs": [],
   "source": [
    "loss = NLLLoss()\n",
    "tr_s, ts_s, tr_ac_s, ts_ac_s = train(network_sigm, 20, 0.01)"
   ]
  },
  {
   "cell_type": "code",
   "execution_count": null,
   "metadata": {},
   "outputs": [],
   "source": [
    "loss = NLLLoss()\n",
    "tr_s, ts_s, tr_ac_s, ts_ac_s = train(network_elu, 20, 0.01)"
   ]
  },
  {
   "cell_type": "code",
   "execution_count": null,
   "metadata": {},
   "outputs": [],
   "source": [
    "loss = NLLLoss()\n",
    "tr_s, ts_s, tr_ac_s, ts_ac_s = train(network_relu, 20, 0.01)"
   ]
  },
  {
   "cell_type": "code",
   "execution_count": 10,
   "metadata": {},
   "outputs": [
    {
     "name": "stdout",
     "output_type": "stream",
     "text": [
      "\r",
      "Epoch 19... (Train/Test) NLL: 0.030/0.081\tAccuracy: 0.994/0.976"
     ]
    },
    {
     "data": {
      "image/png": "[encoded data removed]",
      "text/plain": [
       "<Figure size 864x360 with 2 Axes>"
      ]
     },
     "metadata": {},
     "output_type": "display_data"
    }
   ],
   "source": [
    "loss = NLLLoss()\n",
    "tr_s, ts_s, tr_ac_s, ts_ac_s = train(network_tanh, 20, 0.01)"
   ]
  },
  {
   "cell_type": "code",
   "execution_count": null,
   "metadata": {},
   "outputs": [],
   "source": [
    "wrong_X = []\n",
    "correct_y = []\n",
    "predicted_y = []\n",
    "logits = []\n",
    "for X, y in test_loader:\n",
    "    X = X.view(X.shape[0], -1).numpy()\n",
    "    y = y.numpy()\n",
    "    prediction = network.forward(X)\n",
    "    prediction = np.exp(prediction)\n",
    "    prediction /= prediction.sum(1, keepdims=True)\n",
    "    for i in range(len(prediction)):\n",
    "        if np.argmax(prediction[i]) != y[i]:\n",
    "            wrong_X.append(X[i])\n",
    "            correct_y.append(y[i])\n",
    "            predicted_y.append(np.argmax(prediction[i]))\n",
    "            logits.append(prediction[i][y[i]])\n",
    "wrong_X = np.row_stack(wrong_X)\n",
    "correct_y = np.row_stack(correct_y)[:, 0]\n",
    "predicted_y = np.row_stack(predicted_y)[:, 0]\n",
    "logits = np.row_stack(logits)[:, 0]"
   ]
  },
  {
   "cell_type": "code",
   "execution_count": null,
   "metadata": {},
   "outputs": [],
   "source": [
    "plt.figure(figsize=(10, 5))\n",
    "order = np.argsort(logits)\n",
    "for i in range(21):\n",
    "    plt.subplot(3, 7, i+1)\n",
    "    plt.imshow(wrong_X[order[i]].reshape(28, 28), cmap=plt.cm.Greys_r)\n",
    "    plt.title('{}({})'.format(correct_y[order[i]], predicted_y[order[i]]), fontsize=20)\n",
    "    plt.axis('off')"
   ]
  },
  {
   "cell_type": "markdown",
   "metadata": {},
   "source": [
    "### Часть 4: Аугментация (HW, 2 балла)\n",
    "* Небольшие вращения (-15, 15)\n",
    "* Случайные сдвиги\n",
    "* Шум\n",
    "\n",
    "Какой прирост дают эти аугментации вместе и по отдельности"
   ]
  },
  {
   "cell_type": "code",
   "execution_count": null,
   "metadata": {},
   "outputs": [],
   "source": [
    "from skimage.transform import rotate"
   ]
  },
  {
   "cell_type": "code",
   "execution_count": null,
   "metadata": {},
   "outputs": [],
   "source": [
    "rotate = [-15, 15]\n",
    "offset = [0.2,0.2]\n",
    "aug_rotate = transforms.Compose([\n",
    "                                 transforms.RandomAffine(degrees=rotate),\n",
    "                                 transforms.ToTensor(),\n",
    "                                 transforms.Normalize((0.1307,), (0.3081,))\n",
    "                                 ])\n",
    "aug_offset = transforms.Compose([\n",
    "                                 transforms.RandomAffine(degrees=0, translate=offset),\n",
    "                                 transforms.ToTensor(),\n",
    "                                 transforms.Normalize((0.1307,), (0.3081,))\n",
    "                                 ])\n",
    "aug_ro = transforms.Compose([\n",
    "                             transforms.RandomAffine(degrees=rotate, translate=offset),\n",
    "                             transforms.ToTensor(),\n",
    "                             transforms.Normalize((0.1307,), (0.3081,))\n",
    "                             ])\n",
    "\n",
    "train_dataset_r = MNIST('.', train=True, download=True, transform=aug_rotate)\n",
    "test_dataset_r = MNIST('.', train=False, transform=aug_rotate)\n",
    "\n",
    "train_dataset_o = MNIST('.', train=True, download=True, transform=aug_offset)\n",
    "test_dataset_o = MNIST('.', train=False, transform=aug_offset)\n",
    "\n",
    "train_dataset_ro = MNIST('.', train=True, download=True, transform=aug_ro)\n",
    "test_dataset_ro = MNIST('.', train=False, transform=aug_ro)\n",
    "\n",
    "train_loader_r = DataLoader(train_dataset_r, batch_size=32, shuffle=True)\n",
    "test_loader_r = DataLoader(test_dataset_r, batch_size=32, shuffle=False)\n",
    "\n",
    "train_loader_o = DataLoader(train_dataset_o, batch_size=32, shuffle=True)\n",
    "test_loader_o = DataLoader(test_dataset_o, batch_size=32, shuffle=False)\n",
    "\n",
    "train_loader_ro = DataLoader(train_dataset_ro, batch_size=32, shuffle=True)\n",
    "test_loader_ro = DataLoader(test_dataset_ro, batch_size=32, shuffle=False)"
   ]
  },
  {
   "cell_type": "code",
   "execution_count": null,
   "metadata": {},
   "outputs": [],
   "source": [
    "network = NeuralNetwork(arc_relu)\n",
    "loss = NLLLoss()\n",
    "tr_s, ts_s, tr_ac_s, ts_ac_s = train(network, 20, 0.01, train_loader_r, test_loader_r)"
   ]
  },
  {
   "cell_type": "code",
   "execution_count": null,
   "metadata": {},
   "outputs": [],
   "source": [
    "network = NeuralNetwork(arc_relu)\n",
    "tr_s, ts_s, tr_ac_s, ts_ac_s = train(network, 20, 0.01, train_loader_o, test_loader_o)"
   ]
  },
  {
   "cell_type": "code",
   "execution_count": null,
   "metadata": {},
   "outputs": [],
   "source": [
    "network = NeuralNetwork(arc_relu)\n",
    "tr_s, ts_s, tr_ac_s, ts_ac_s = train(network, 20, 0.01, train_loader_ro, test_loader_ro)"
   ]
  },
  {
   "cell_type": "markdown",
   "metadata": {},
   "source": [
    "### Часть 5: Выводы\n",
    "Опишите полученные результаты: как влияют выбор нелинейности и предобработка данных на скорость сходимости и итоговое качество?\n",
    "\n",
    "После сравнения различных функций активации можно сделать промежуточный вывод:\n",
    "\n",
    "* ELU, ReLU и tanh - работают (по крайней мере на данном наборе данных) примерно одинаково хорошо (разница в скорости сходимости и итоговой точности есть, но пренебрежительно мала) \n",
    "* Sigmoida по сравнению с вариантами выше работает плохо: сходится дольше, итоговая точность ниже примерно на 6%\n",
    "\n",
    "Для проверки удачности использования агументаций применяю ReLU потому что почему бы и нет.\n",
    "Разные трансформации дали различные приросты: \n",
    "\n",
    "* Только повороты изображений на небольшие углы дали прирост Accuracy примерно на 0,5% на тестовой выборке\n",
    "* Небольшие сдвиги изображений и комбинация сдвигов и поворотов дали отрицательный прирост того же параметра примерно на 3%\n",
    "\n",
    "Но в любом случае предобработка помогает сильно уменьшить изначальное значение Loss-функции, из-за чего в теории модель должна сходиться несколько быстрее.\n",
    "\n",
    "Таким образом, выбор нелинейности и предобработка данных серьёзно влияют на скорость сходимости и итоговую точность модели"
   ]
  }
 ],
 "metadata": {
  "kernelspec": {
   "display_name": "Python 3",
   "language": "python",
   "name": "python3"
  },
  "language_info": {
   "codemirror_mode": {
    "name": "ipython",
    "version": 3
   },
   "file_extension": ".py",
   "mimetype": "text/x-python",
   "name": "python",
   "nbconvert_exporter": "python",
   "pygments_lexer": "ipython3",
   "version": "3.6.7"
  }
 },
 "nbformat": 4,
 "nbformat_minor": 2
}
